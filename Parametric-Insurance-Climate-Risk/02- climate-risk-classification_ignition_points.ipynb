{
 "cells": [
  {
   "cell_type": "markdown",
   "metadata": {},
   "source": [
    "# Classification ignition point \n",
    "\n",
    "This project is a classification problem\n",
    "\n",
    "It is to determine whether a point has a probability to be an ignition point for wildfire. The ignition point is where the wildfire starts. To know the probability where a fire would start is central at Descartes because it will help us to better simulate wildfires."
   ]
  },
  {
   "cell_type": "code",
   "execution_count": 351,
   "metadata": {},
   "outputs": [],
   "source": [
    "from pathlib import Path\n",
    "import pandas as pd\n",
    "import numpy as np\n",
    "import seaborn as sns\n",
    "from scipy.stats import chi2_contingency, pointbiserialr\n",
    "import matplotlib.pyplot as plt "
   ]
  },
  {
   "cell_type": "code",
   "execution_count": 170,
   "metadata": {},
   "outputs": [],
   "source": [
    "%reload_ext autoreload\n",
    "%autoreload 2"
   ]
  },
  {
   "cell_type": "markdown",
   "metadata": {},
   "source": [
    "# Parameters"
   ]
  },
  {
   "cell_type": "code",
   "execution_count": 567,
   "metadata": {},
   "outputs": [],
   "source": [
    "DATA_PATH = Path(\"data\")\n",
    "DATAFRAME_FOLDER_PATH = DATA_PATH / \"classification_dataframe\""
   ]
  },
  {
   "cell_type": "markdown",
   "metadata": {},
   "source": [
    "# 1. Download data"
   ]
  },
  {
   "cell_type": "code",
   "execution_count": 706,
   "metadata": {},
   "outputs": [],
   "source": [
    "dataframe_path = DATAFRAME_FOLDER_PATH / \"dataset.csv\""
   ]
  },
  {
   "cell_type": "code",
   "execution_count": 707,
   "metadata": {},
   "outputs": [
    {
     "data": {
      "text/html": [
       "<div>\n",
       "<style scoped>\n",
       "    .dataframe tbody tr th:only-of-type {\n",
       "        vertical-align: middle;\n",
       "    }\n",
       "\n",
       "    .dataframe tbody tr th {\n",
       "        vertical-align: top;\n",
       "    }\n",
       "\n",
       "    .dataframe thead th {\n",
       "        text-align: right;\n",
       "    }\n",
       "</style>\n",
       "<table border=\"1\" class=\"dataframe\">\n",
       "  <thead>\n",
       "    <tr style=\"text-align: right;\">\n",
       "      <th></th>\n",
       "      <th>Date</th>\n",
       "      <th>distance_fire_stations</th>\n",
       "      <th>distance_rivers</th>\n",
       "      <th>distance_roads</th>\n",
       "      <th>distance_powerlines</th>\n",
       "      <th>cropland</th>\n",
       "      <th>forest_deciduous_broad</th>\n",
       "      <th>forest_deciduous_needle</th>\n",
       "      <th>forest_evergreen_broad</th>\n",
       "      <th>forest_evergreen_needle</th>\n",
       "      <th>...</th>\n",
       "      <th>avg_wind_angle</th>\n",
       "      <th>avg_rel_hum</th>\n",
       "      <th>avg_soil</th>\n",
       "      <th>sum_prec</th>\n",
       "      <th>forest</th>\n",
       "      <th>vegetation_class</th>\n",
       "      <th>Year</th>\n",
       "      <th>max_max_temp</th>\n",
       "      <th>yearly_avg_temp</th>\n",
       "      <th>ignition</th>\n",
       "    </tr>\n",
       "  </thead>\n",
       "  <tbody>\n",
       "    <tr>\n",
       "      <th>0</th>\n",
       "      <td>2015-11-19</td>\n",
       "      <td>13287.682266</td>\n",
       "      <td>7211.102551</td>\n",
       "      <td>1250.000000</td>\n",
       "      <td>30196.233209</td>\n",
       "      <td>0.0</td>\n",
       "      <td>0.0</td>\n",
       "      <td>0.0</td>\n",
       "      <td>1.000000</td>\n",
       "      <td>0.0</td>\n",
       "      <td>...</td>\n",
       "      <td>225.773605</td>\n",
       "      <td>56.837185</td>\n",
       "      <td>0.297854</td>\n",
       "      <td>0.360376</td>\n",
       "      <td>1.000000</td>\n",
       "      <td>forest</td>\n",
       "      <td>2015</td>\n",
       "      <td>62.552337</td>\n",
       "      <td>14.994683</td>\n",
       "      <td>1</td>\n",
       "    </tr>\n",
       "    <tr>\n",
       "      <th>1</th>\n",
       "      <td>2003-02-17</td>\n",
       "      <td>8721.381771</td>\n",
       "      <td>2358.495283</td>\n",
       "      <td>250.000000</td>\n",
       "      <td>13768.169813</td>\n",
       "      <td>0.0</td>\n",
       "      <td>0.0</td>\n",
       "      <td>0.0</td>\n",
       "      <td>0.416667</td>\n",
       "      <td>0.0</td>\n",
       "      <td>...</td>\n",
       "      <td>209.708847</td>\n",
       "      <td>61.120739</td>\n",
       "      <td>0.264534</td>\n",
       "      <td>0.020176</td>\n",
       "      <td>0.833333</td>\n",
       "      <td>forest</td>\n",
       "      <td>2003</td>\n",
       "      <td>60.787457</td>\n",
       "      <td>15.053698</td>\n",
       "      <td>1</td>\n",
       "    </tr>\n",
       "    <tr>\n",
       "      <th>2</th>\n",
       "      <td>2012-02-26</td>\n",
       "      <td>10796.411441</td>\n",
       "      <td>0.000000</td>\n",
       "      <td>2015.564437</td>\n",
       "      <td>6254.998002</td>\n",
       "      <td>0.0</td>\n",
       "      <td>0.0</td>\n",
       "      <td>0.0</td>\n",
       "      <td>0.666667</td>\n",
       "      <td>0.0</td>\n",
       "      <td>...</td>\n",
       "      <td>76.341278</td>\n",
       "      <td>63.017559</td>\n",
       "      <td>0.208871</td>\n",
       "      <td>0.025395</td>\n",
       "      <td>1.000000</td>\n",
       "      <td>forest</td>\n",
       "      <td>2012</td>\n",
       "      <td>63.420256</td>\n",
       "      <td>15.001883</td>\n",
       "      <td>1</td>\n",
       "    </tr>\n",
       "    <tr>\n",
       "      <th>3</th>\n",
       "      <td>2004-11-10</td>\n",
       "      <td>8253.787010</td>\n",
       "      <td>559.016994</td>\n",
       "      <td>0.000000</td>\n",
       "      <td>37350.535471</td>\n",
       "      <td>0.0</td>\n",
       "      <td>0.0</td>\n",
       "      <td>0.0</td>\n",
       "      <td>0.000000</td>\n",
       "      <td>0.0</td>\n",
       "      <td>...</td>\n",
       "      <td>68.557823</td>\n",
       "      <td>64.673866</td>\n",
       "      <td>0.156506</td>\n",
       "      <td>0.000000</td>\n",
       "      <td>0.000000</td>\n",
       "      <td>wetland</td>\n",
       "      <td>2004</td>\n",
       "      <td>60.394119</td>\n",
       "      <td>14.850611</td>\n",
       "      <td>1</td>\n",
       "    </tr>\n",
       "    <tr>\n",
       "      <th>4</th>\n",
       "      <td>2003-03-19</td>\n",
       "      <td>9905.806378</td>\n",
       "      <td>0.000000</td>\n",
       "      <td>1903.943276</td>\n",
       "      <td>6427.480066</td>\n",
       "      <td>0.0</td>\n",
       "      <td>0.0</td>\n",
       "      <td>0.0</td>\n",
       "      <td>0.750000</td>\n",
       "      <td>0.0</td>\n",
       "      <td>...</td>\n",
       "      <td>316.951508</td>\n",
       "      <td>56.103680</td>\n",
       "      <td>0.208831</td>\n",
       "      <td>0.119717</td>\n",
       "      <td>0.916667</td>\n",
       "      <td>forest</td>\n",
       "      <td>2003</td>\n",
       "      <td>69.570496</td>\n",
       "      <td>NaN</td>\n",
       "      <td>1</td>\n",
       "    </tr>\n",
       "  </tbody>\n",
       "</table>\n",
       "<p>5 rows × 42 columns</p>\n",
       "</div>"
      ],
      "text/plain": [
       "         Date  distance_fire_stations  distance_rivers  distance_roads  \\\n",
       "0  2015-11-19            13287.682266      7211.102551     1250.000000   \n",
       "1  2003-02-17             8721.381771      2358.495283      250.000000   \n",
       "2  2012-02-26            10796.411441         0.000000     2015.564437   \n",
       "3  2004-11-10             8253.787010       559.016994        0.000000   \n",
       "4  2003-03-19             9905.806378         0.000000     1903.943276   \n",
       "\n",
       "   distance_powerlines  cropland  forest_deciduous_broad  \\\n",
       "0         30196.233209       0.0                     0.0   \n",
       "1         13768.169813       0.0                     0.0   \n",
       "2          6254.998002       0.0                     0.0   \n",
       "3         37350.535471       0.0                     0.0   \n",
       "4          6427.480066       0.0                     0.0   \n",
       "\n",
       "   forest_deciduous_needle  forest_evergreen_broad  forest_evergreen_needle  \\\n",
       "0                      0.0                1.000000                      0.0   \n",
       "1                      0.0                0.416667                      0.0   \n",
       "2                      0.0                0.666667                      0.0   \n",
       "3                      0.0                0.000000                      0.0   \n",
       "4                      0.0                0.750000                      0.0   \n",
       "\n",
       "   ...  avg_wind_angle  avg_rel_hum  avg_soil  sum_prec    forest  \\\n",
       "0  ...      225.773605    56.837185  0.297854  0.360376  1.000000   \n",
       "1  ...      209.708847    61.120739  0.264534  0.020176  0.833333   \n",
       "2  ...       76.341278    63.017559  0.208871  0.025395  1.000000   \n",
       "3  ...       68.557823    64.673866  0.156506  0.000000  0.000000   \n",
       "4  ...      316.951508    56.103680  0.208831  0.119717  0.916667   \n",
       "\n",
       "   vegetation_class  Year  max_max_temp  yearly_avg_temp  ignition  \n",
       "0            forest  2015     62.552337        14.994683         1  \n",
       "1            forest  2003     60.787457        15.053698         1  \n",
       "2            forest  2012     63.420256        15.001883         1  \n",
       "3           wetland  2004     60.394119        14.850611         1  \n",
       "4            forest  2003     69.570496              NaN         1  \n",
       "\n",
       "[5 rows x 42 columns]"
      ]
     },
     "execution_count": 707,
     "metadata": {},
     "output_type": "execute_result"
    }
   ],
   "source": [
    "df = pd.read_csv(dataframe_path,index_col=0)\n",
    "df.head()"
   ]
  },
  {
   "cell_type": "markdown",
   "metadata": {},
   "source": [
    "## 1.1 Structure of the dataframe and Task\n",
    "\n",
    "\n",
    "- Each row consists of an ignition or non-ignition point with the given features associated. The features were chosen as potentially influencing ignition.\n",
    "\n",
    "\n",
    "- The last column named `ignition` says if the point was a real ignition point (meaning that it occurred historically), in that case the value is `1`. Otherwise, when the value is `0`, it means that it is a 'non-ignition point'.\n",
    "\n",
    "\n",
    "- The columns `cropland` to `wetland` gives the ratio of each of the vegetation classes under which the ignition or non-ignition point lies. The sum of these ratios should be equal to 1. For more information refer to this website: https://lcviewer.vito.be/\n",
    "\n",
    "\n",
    "- The temperatures should be in degrees celsius `(°C)`.\n",
    "\n",
    "\n",
    "- The weather data come from different sources and they might have different units.\n",
    "\n",
    "| Column name | Definition | Unit |\n",
    "|--------|-----------|--------|\n",
    "| `ignition`   | Target column| Boolean: {1,0} |\n",
    "| `distance_{feature}` | Distance to nearest feature  |  Meters (m) |\n",
    "| vegetation class: from `cropland` to `wetland`  |  Ratio of each of the vegetation classes  under which the ignition or non-ignition point lies    |  No unit (between 0 and 1)  |\n",
    "| `aspect`  |  Orientation of the slope    |  Degrees (°)  |\n",
    "| `elevation`  |  elevation value    |  Meters  |\n",
    "| `slope`  |  Slope value    |  Degrees (°)  |\n",
    "| `pop_dens`  |  Population density value    |  Persons per km2  |\n",
    "| `max_temp`  |  Maximum temperature of the day    |  Degrees celsius (°C)  |\n",
    "| `avg_temp`  |  Average temperature of the day   |  Degrees celsius (°C)  |\n",
    "| `max_wind_vel`  |  Maximum wind velocity of the day    |  Meters per second (m/s)  |\n",
    "| `avg_wind_angle`  |  Average angle of the vector wind over the day    |  Degrees (°)  |\n",
    "| `avg_rel_hum`  |  Average relative humidity over the day    |  %  |\n",
    "| `avg_soil`  |  Average soil moisture of the day    |  m3/m3  |\n",
    "| `sum_prec`  |  Cumulative rainfall precipitation of the day    |  Millimeters (mm)  |\n",
    "| `yearly_avg_temp`  |  Average temperature over the year    |  Degrees celsius (°C)  |\n",
    "| `anom_{feature}`  |  Standardized anomaly of weather for the given day over the last 30 years. When the anomaly is positive, it means that the feature value is greater that the 30-year average    |  No unity |\n",
    "| `forest`  |  Sum of all the columns where the names start with `forest`   |  No unit  |\n",
    "| `vegetation_class`  |  Vegetation with the max occurrence in the vicinity of the ignition/non-ignition point    |  Without unit  |\n",
    "| `Year`  |  Year of ignition    |  Without unit  |\n",
    "| `max_max_temp`  |  Missing information    |  Missing information  |\n"
   ]
  },
  {
   "cell_type": "markdown",
   "metadata": {},
   "source": [
    "### 2. Exploration of Data"
   ]
  },
  {
   "cell_type": "code",
   "execution_count": 708,
   "metadata": {},
   "outputs": [
    {
     "data": {
      "text/plain": [
       "(22035, 42)"
      ]
     },
     "execution_count": 708,
     "metadata": {},
     "output_type": "execute_result"
    }
   ],
   "source": [
    "df.shape            ## the shape of data"
   ]
  },
  {
   "cell_type": "code",
   "execution_count": 709,
   "metadata": {},
   "outputs": [
    {
     "data": {
      "text/plain": [
       "Date                        object\n",
       "distance_fire_stations     float64\n",
       "distance_rivers            float64\n",
       "distance_roads             float64\n",
       "distance_powerlines        float64\n",
       "cropland                   float64\n",
       "forest_deciduous_broad     float64\n",
       "forest_deciduous_needle    float64\n",
       "forest_evergreen_broad     float64\n",
       "forest_evergreen_needle    float64\n",
       "forest_mixed               float64\n",
       "forest_unknown             float64\n",
       "herbaceous_vegetation      float64\n",
       "moss_lichen                float64\n",
       "shrubland                  float64\n",
       "sprarse_vegetation         float64\n",
       "urban                      float64\n",
       "water                      float64\n",
       "wetland                    float64\n",
       "aspect                     float64\n",
       "elevation                  float64\n",
       "pop_dens                   float64\n",
       "slope                      float64\n",
       "anom_max_temp              float64\n",
       "anom_max_wind_vel          float64\n",
       "anom_avg_temp              float64\n",
       "anom_avg_rel_hum           float64\n",
       "anom_avg_soil              float64\n",
       "anom_sum_prec              float64\n",
       "max_temp                   float64\n",
       "max_wind_vel               float64\n",
       "avg_temp                   float64\n",
       "avg_wind_angle             float64\n",
       "avg_rel_hum                float64\n",
       "avg_soil                   float64\n",
       "sum_prec                   float64\n",
       "forest                     float64\n",
       "vegetation_class            object\n",
       "Year                         int64\n",
       "max_max_temp               float64\n",
       "yearly_avg_temp            float64\n",
       "ignition                     int64\n",
       "dtype: object"
      ]
     },
     "execution_count": 709,
     "metadata": {},
     "output_type": "execute_result"
    }
   ],
   "source": [
    "df.dtypes           ### The types of columns "
   ]
  },
  {
   "cell_type": "code",
   "execution_count": 710,
   "metadata": {},
   "outputs": [
    {
     "data": {
      "text/plain": [
       "array([2015, 2003, 2012, 2004, 2002, 2001, 2013, 2016, 2005, 2017, 2008,\n",
       "       2014, 2009, 2021, 2019, 2018, 2010, 2007, 2020, 2006, 2011],\n",
       "      dtype=int64)"
      ]
     },
     "execution_count": 710,
     "metadata": {},
     "output_type": "execute_result"
    }
   ],
   "source": [
    "df.Year.unique()"
   ]
  },
  {
   "cell_type": "markdown",
   "metadata": {},
   "source": [
    "* Most variables are continuous.\n",
    "* vegetation_class is a cathegorical variable that must be encoded\n",
    "* Date variable must transformed to datetime object\n",
    "* La variable Year ici est vue comme une variable continue."
   ]
  },
  {
   "cell_type": "markdown",
   "metadata": {},
   "source": [
    "#### 2.1 Variables Distributuon"
   ]
  },
  {
   "cell_type": "markdown",
   "metadata": {},
   "source": [
    "In this section, I'll explore variables distribution to get insights on their distribution and variability. This will help me to understand which variables are more significant in my feature model. For better readibility,I'll plot boxplot by lots of variables"
   ]
  },
  {
   "cell_type": "code",
   "execution_count": 711,
   "metadata": {},
   "outputs": [
    {
     "data": {
      "text/plain": [
       "Text(0.5, 1.0, 'boxplot')"
      ]
     },
     "execution_count": 711,
     "metadata": {},
     "output_type": "execute_result"
    },
    {
     "data": {
      "image/png": "[encoded data removed]",
      "text/plain": [
       "<Figure size 1200x300 with 1 Axes>"
      ]
     },
     "metadata": {},
     "output_type": "display_data"
    }
   ],
   "source": [
    "df.iloc[:,5:9].plot(kind = 'box', figsize = (12,3))    \n",
    "plt.title('boxplot')"
   ]
  },
  {
   "cell_type": "code",
   "execution_count": 713,
   "metadata": {},
   "outputs": [
    {
     "data": {
      "text/plain": [
       "array([ 0., nan])"
      ]
     },
     "execution_count": 713,
     "metadata": {},
     "output_type": "execute_result"
    }
   ],
   "source": [
    "df.forest_deciduous_needle.unique()     ### render unique values taken by forest_deciduous_needle"
   ]
  },
  {
   "cell_type": "markdown",
   "metadata": {},
   "source": [
    "##### 2.1.1 Conclusion 1\n",
    "\n",
    "\n",
    "* Variables `cropland`,`forest_deciduous_broad`, `forest_decisuous_needle` have strong concentration around 0 with few outliers values different from 0. \n",
    "\n",
    "* This varibales have weak variability and then, will have 0 impact on our future model.\n",
    "* for `forest_evergreen_broad`, 50% of the sample have values different from 0 and no outliers. This variable can impact more our future model.\n",
    "\n",
    "we continue to plot the boxplots for the other variables in our dataset."
   ]
  },
  {
   "cell_type": "code",
   "execution_count": 714,
   "metadata": {},
   "outputs": [
    {
     "data": {
      "text/plain": [
       "Text(0.5, 1.0, 'boxplot')"
      ]
     },
     "execution_count": 714,
     "metadata": {},
     "output_type": "execute_result"
    },
    {
     "data": {
      "image/png": "[encoded data removed]",
      "text/plain": [
       "<Figure size 600x300 with 1 Axes>"
      ]
     },
     "metadata": {},
     "output_type": "display_data"
    }
   ],
   "source": [
    "df.iloc[:,9:11].plot(kind = 'box', figsize = (6,3))\n",
    "plt.title('boxplot')"
   ]
  },
  {
   "cell_type": "code",
   "execution_count": 715,
   "metadata": {},
   "outputs": [
    {
     "data": {
      "text/plain": [
       "array([      0., -100000.,      nan])"
      ]
     },
     "execution_count": 715,
     "metadata": {},
     "output_type": "execute_result"
    }
   ],
   "source": [
    "df.forest_evergreen_needle.unique()       "
   ]
  },
  {
   "cell_type": "code",
   "execution_count": 716,
   "metadata": {},
   "outputs": [
    {
     "data": {
      "text/plain": [
       "array([ 0., nan])"
      ]
     },
     "execution_count": 716,
     "metadata": {},
     "output_type": "execute_result"
    }
   ],
   "source": [
    "df.forest_mixed.unique()            "
   ]
  },
  {
   "cell_type": "markdown",
   "metadata": {},
   "source": [
    "##### 2.1.2 Conclusion 2\n",
    "\n",
    "* Variable `forest_evergreen_needle` has a concentration around 0 and a -100000 outliers. \n",
    "* Variable `forest_mixed` has also 0 variability.\n",
    "\n",
    "Same conclusion as previously, this variables has weak variability and will have 0 impact on our feature model. their outliers will just introduce noise and unbiasedness which will prevent our model to generalize correctly. "
   ]
  },
  {
   "cell_type": "code",
   "execution_count": 717,
   "metadata": {},
   "outputs": [
    {
     "data": {
      "text/plain": [
       "Text(0.5, 1.0, 'boxplot')"
      ]
     },
     "execution_count": 717,
     "metadata": {},
     "output_type": "execute_result"
    },
    {
     "data": {
      "image/png": "[encoded data removed]",
      "text/plain": [
       "<Figure size 1500x300 with 1 Axes>"
      ]
     },
     "metadata": {},
     "output_type": "display_data"
    }
   ],
   "source": [
    "df.iloc[:,11:19].plot(kind = 'box', figsize = (15,3))\n",
    "plt.title('boxplot')"
   ]
  },
  {
   "cell_type": "code",
   "execution_count": 718,
   "metadata": {},
   "outputs": [
    {
     "data": {
      "text/plain": [
       "array([ 0., nan])"
      ]
     },
     "execution_count": 718,
     "metadata": {},
     "output_type": "execute_result"
    }
   ],
   "source": [
    "df.moss_lichen.unique()   "
   ]
  },
  {
   "cell_type": "markdown",
   "metadata": {},
   "source": [
    "##### 2.1.3 Conclusion 3\n",
    "\n",
    "* Same previous Analysis applies on `moss_lichen`,`shrubland`, `sprarse_vegetation`,`urban` and `wetland`"
   ]
  },
  {
   "cell_type": "code",
   "execution_count": 719,
   "metadata": {},
   "outputs": [
    {
     "data": {
      "text/plain": [
       "Text(0.5, 1.0, 'boxplot')"
      ]
     },
     "execution_count": 719,
     "metadata": {},
     "output_type": "execute_result"
    },
    {
     "data": {
      "image/png": "[encoded data removed]",
      "text/plain": [
       "<Figure size 1500x300 with 1 Axes>"
      ]
     },
     "metadata": {},
     "output_type": "display_data"
    }
   ],
   "source": [
    "df.iloc[:,23:30].plot(kind = 'box', figsize = (15,3))\n",
    "plt.title('boxplot')"
   ]
  },
  {
   "cell_type": "code",
   "execution_count": 720,
   "metadata": {},
   "outputs": [
    {
     "data": {
      "image/png": "[encoded data removed]",
      "text/plain": [
       "<Figure size 1000x500 with 6 Axes>"
      ]
     },
     "metadata": {},
     "output_type": "display_data"
    }
   ],
   "source": [
    "fig, axes = plt.subplots(3,2, figsize = (10,5))\n",
    "\n",
    "df.iloc[:,30:34].plot(kind = 'box', ax = axes[0,0])\n",
    "df.iloc[:,35].plot(kind = 'box', ax = axes[0,1])\n",
    "df.iloc[:,36].plot(kind = 'box',  ax = axes[1,0])\n",
    "df.iloc[:,38].plot(kind = 'box',ax = axes[1,1])\n",
    "df.iloc[:,39].plot(kind = 'box',ax = axes[2,0])\n",
    "df.iloc[:,40].plot(kind = 'box',ax = axes[2,1])\n",
    "\n",
    "plt.tight_layout()"
   ]
  },
  {
   "cell_type": "markdown",
   "metadata": {},
   "source": [
    "##### 2.1.4 Conclusion \n",
    "\n",
    "* `moss_lichen`,`shrubland`, `sprarse_vegetation`,`urban`, `wetland`, `forest_evergreen_needle`, `forest_mixed`, `cropland`,`forest_deciduous_broad` and `forest_decisuous_needle` will have weak impact on our future classification model.\n",
    "* Eliminating them will reduce noise and dimentionality of our dataset. "
   ]
  },
  {
   "cell_type": "markdown",
   "metadata": {},
   "source": [
    "#### 2.2 Dataset balancedness"
   ]
  },
  {
   "cell_type": "code",
   "execution_count": 721,
   "metadata": {},
   "outputs": [
    {
     "data": {
      "text/html": [
       "<div>\n",
       "<style scoped>\n",
       "    .dataframe tbody tr th:only-of-type {\n",
       "        vertical-align: middle;\n",
       "    }\n",
       "\n",
       "    .dataframe tbody tr th {\n",
       "        vertical-align: top;\n",
       "    }\n",
       "\n",
       "    .dataframe thead th {\n",
       "        text-align: right;\n",
       "    }\n",
       "</style>\n",
       "<table border=\"1\" class=\"dataframe\">\n",
       "  <thead>\n",
       "    <tr style=\"text-align: right;\">\n",
       "      <th></th>\n",
       "      <th>ignition</th>\n",
       "      <th>count</th>\n",
       "      <th>portion</th>\n",
       "    </tr>\n",
       "  </thead>\n",
       "  <tbody>\n",
       "    <tr>\n",
       "      <th>0</th>\n",
       "      <td>0</td>\n",
       "      <td>18715</td>\n",
       "      <td>84.933061</td>\n",
       "    </tr>\n",
       "    <tr>\n",
       "      <th>1</th>\n",
       "      <td>1</td>\n",
       "      <td>3320</td>\n",
       "      <td>15.066939</td>\n",
       "    </tr>\n",
       "  </tbody>\n",
       "</table>\n",
       "</div>"
      ],
      "text/plain": [
       "   ignition  count    portion\n",
       "0         0  18715  84.933061\n",
       "1         1   3320  15.066939"
      ]
     },
     "execution_count": 721,
     "metadata": {},
     "output_type": "execute_result"
    }
   ],
   "source": [
    "balance_df  = df.ignition.value_counts().reset_index() ### verify if the dataset is balanced or unbalanced \n",
    "balance_df['portion'] = (balance_df['count']/balance_df['count'].sum())*100\n",
    "balance_df"
   ]
  },
  {
   "cell_type": "markdown",
   "metadata": {},
   "source": [
    "##### Commentary \n",
    "Only 15% of our sample are ignition points, the dateset is then unbalanced. we should then:\n",
    "* use proper metrics in evaluation like precision, recall, F1_Score or Roc_AUC\n",
    "* Undersampling or oversampling using proper methods. "
   ]
  },
  {
   "cell_type": "markdown",
   "metadata": {},
   "source": [
    "#### 2.3 Analyzing the time Pattern in Data "
   ]
  },
  {
   "cell_type": "markdown",
   "metadata": {},
   "source": [
    "* The dataset contains a temporal dimension introduced by the variable `Date`\n",
    "* A point in space is defined by variables starting with \"distance_\" and the variables `aspect`, `elevation` and `slope`.\n",
    "* The same spatial point can have different characteristics over time, creating a \"Panel Data\" structure.\n",
    "* This temporal variation may violate the assumption of independent and identically distributed (IID) data, which could affect the convergence of estimators in certain algorithms, such as logistic regression.\n",
    "* To account for this temporal effect, I will introduce a simple approach by adding a temporal variable.\n",
    "    \n",
    "    * `Year`: Already exists. This variable may capture long-term temporal trends, such as climate change or evolving agricultural practices. For example, forest fires could become more frequent or severe over time due to global warming.\n",
    "    * `month`and `season`: The month or season can explain short-term changes in vegetation, weather, and other temporal variations."
   ]
  },
  {
   "cell_type": "code",
   "execution_count": 724,
   "metadata": {},
   "outputs": [],
   "source": [
    "dff = df.copy()      ### Create a copy of our dataset"
   ]
  },
  {
   "cell_type": "code",
   "execution_count": 725,
   "metadata": {},
   "outputs": [],
   "source": [
    "dff['Date'] = pd.to_datetime(dff['Date'])    ### Transform Date variable to Datetime type\n",
    "dff['month'] = dff['Date'].dt.month        ### Month extraction\n",
    "dff['season'] = None   \n",
    "\n",
    "### Creation of seasons.  \n",
    "\n",
    "dff.loc[dff.month.isin([12, 1,2]), 'season'] = 0            ## winter : 0\n",
    "dff.loc[dff.month.isin([3, 4,5]), 'season'] = 1           ## Spring: 1\n",
    "dff.loc[dff.month.isin([6, 7,8]), 'season'] = 2           ## summer: 2\n",
    "dff.loc[dff.month.isin([9, 10,11]), 'season'] = 3          ## fall: 3"
   ]
  },
  {
   "cell_type": "markdown",
   "metadata": {},
   "source": [
    "##### 2.3.1 Analyzing the impact of the time Pattern `ignition` on using Cramer's V.   "
   ]
  },
  {
   "cell_type": "markdown",
   "metadata": {},
   "source": [
    "The choice of Cramer'S V is justified by the fact that Cramér's V is suitable for evaluating the correlation between categorical variables, even with unbalanced frequencies, as it normalizes for table size and accounts for class imbalance."
   ]
  },
  {
   "cell_type": "code",
   "execution_count": 726,
   "metadata": {},
   "outputs": [],
   "source": [
    "def V_Cramer(C1,C2):   ### here I define V de Cramer function\n",
    "    \"\"\" \n",
    "    C1, C2: np.array ou pandas.series where the values are of both categories are stocked  \n",
    "    \n",
    "    \"\"\"\n",
    "    # Creation of contingebcy table betweeb A et B\n",
    "    contingency_table = pd.crosstab(C1, C2)\n",
    "    \n",
    "   # Test du Chi-2\n",
    "    chi2_stat, p, dof, expected = chi2_contingency(contingency_table)\n",
    "\n",
    "   # Calcul du V de Cramer\n",
    "    n = np.sum(contingency_table.values)  # Nombre total d'observations\n",
    "    r, k = contingency_table.shape  # Dimensions du tableau\n",
    "    cramer_v = np.sqrt(chi2_stat / (n * (min(r, k) - 1)))\n",
    "   \n",
    "    return {'V de Cramer' : cramer_v, \"P-value\" : p}"
   ]
  },
  {
   "cell_type": "code",
   "execution_count": 727,
   "metadata": {},
   "outputs": [
    {
     "name": "stdout",
     "output_type": "stream",
     "text": [
      "CHI 2 Test between ignition and month : {'V de Cramer': 0.02688108993707983, 'P-value': 0.14403868275662055}\n",
      "CHI 2 Test between ignition and season : {'V de Cramer': 0.008207657656472273, 'P-value': 0.6858749984133248}\n"
     ]
    }
   ],
   "source": [
    "print(f'CHI 2 Test between ignition and month : {V_Cramer(dff[\"ignition\"], dff[\"month\"])}')\n",
    "print(f'CHI 2 Test between ignition and season : {V_Cramer(dff[\"ignition\"], dff[\"season\"])}')"
   ]
  },
  {
   "cell_type": "markdown",
   "metadata": {},
   "source": [
    "##### 2.3.2 Conclusion"
   ]
  },
  {
   "cell_type": "markdown",
   "metadata": {},
   "source": [
    "* Analysing Cramer's V values, the correlation between `ignition`and `month` or `season` are very weak. Thus,\n",
    "* `season` and `month` don't provide information about `ignition` in this data. \n",
    "* we can then remove them to reduce dimentionnality of our data\n",
    "* The time Pattern will embedded just in `Year` that we consider as a continuous variable. "
   ]
  },
  {
   "cell_type": "markdown",
   "metadata": {},
   "source": [
    "#### 2.4 Analyzing the impact of `vegetation_class`"
   ]
  },
  {
   "cell_type": "markdown",
   "metadata": {},
   "source": [
    "* We will start by encoding vegetation_class to assess its impact. Initially, I will apply label encoding to check if the `vegetation_class` has an impact on `ignition` using Cramér's V.\n",
    "* If an impact is observed, I will use one-hot encoding later during modeling to avoid introducing any ordinal relationships between the classes "
   ]
  },
  {
   "cell_type": "code",
   "execution_count": 728,
   "metadata": {},
   "outputs": [
    {
     "data": {
      "text/plain": [
       "array([2, 7, 3, 1, 4, 6, 5, 8, 0])"
      ]
     },
     "execution_count": 728,
     "metadata": {},
     "output_type": "execute_result"
    }
   ],
   "source": [
    "from sklearn.preprocessing import LabelEncoder\n",
    "\n",
    "le = LabelEncoder()\n",
    "\n",
    "dff['vegetation_class_encoded'] = le.fit_transform(dff['vegetation_class'])\n",
    " \n",
    "dff['vegetation_class_encoded'].unique()"
   ]
  },
  {
   "cell_type": "code",
   "execution_count": 729,
   "metadata": {},
   "outputs": [
    {
     "name": "stdout",
     "output_type": "stream",
     "text": [
      "CHI 2 Test between ignition and vegetation_class: {'V de Cramer': 0.2593626614058887, 'P-value': 0.0}\n"
     ]
    }
   ],
   "source": [
    "print(f'CHI 2 Test between ignition and vegetation_class: {V_Cramer(dff[\"ignition\"], dff[\"vegetation_class_encoded\"])}')"
   ]
  },
  {
   "cell_type": "markdown",
   "metadata": {},
   "source": [
    "##### Conclusion\n",
    "* we will keep `vegetation_class` variable as the correlation is moderated"
   ]
  },
  {
   "cell_type": "markdown",
   "metadata": {},
   "source": [
    "#### 2.5 Studying the impact the continuous variables on `ignition`"
   ]
  },
  {
   "cell_type": "markdown",
   "metadata": {},
   "source": [
    "For correlation between a binary variable (like \"ignition\" with values 0 and 1) and continuous variables, I will use \n",
    "'Point-Biserial' correlation. It's an adapted version of pearson correlation when one of the variables is binary. "
   ]
  },
  {
   "cell_type": "code",
   "execution_count": 730,
   "metadata": {},
   "outputs": [
    {
     "name": "stderr",
     "output_type": "stream",
     "text": [
      "C:\\Users\\omar.elghaffouli_squ\\anaconda3\\Lib\\site-packages\\scipy\\stats\\_stats_py.py:4427: ConstantInputWarning: An input array is constant; the correlation coefficient is not defined.\n",
      "  warnings.warn(stats.ConstantInputWarning(msg))\n"
     ]
    },
    {
     "data": {
      "text/html": [
       "<div>\n",
       "<style scoped>\n",
       "    .dataframe tbody tr th:only-of-type {\n",
       "        vertical-align: middle;\n",
       "    }\n",
       "\n",
       "    .dataframe tbody tr th {\n",
       "        vertical-align: top;\n",
       "    }\n",
       "\n",
       "    .dataframe thead th {\n",
       "        text-align: right;\n",
       "    }\n",
       "</style>\n",
       "<table border=\"1\" class=\"dataframe\">\n",
       "  <thead>\n",
       "    <tr style=\"text-align: right;\">\n",
       "      <th></th>\n",
       "      <th>Point-Biserial</th>\n",
       "      <th>Point-Biserial-abs</th>\n",
       "    </tr>\n",
       "  </thead>\n",
       "  <tbody>\n",
       "    <tr>\n",
       "      <th>ignition</th>\n",
       "      <td>1.000000</td>\n",
       "      <td>1.000000</td>\n",
       "    </tr>\n",
       "    <tr>\n",
       "      <th>max_temp</th>\n",
       "      <td>0.303960</td>\n",
       "      <td>0.303960</td>\n",
       "    </tr>\n",
       "    <tr>\n",
       "      <th>max_max_temp</th>\n",
       "      <td>0.303960</td>\n",
       "      <td>0.303960</td>\n",
       "    </tr>\n",
       "    <tr>\n",
       "      <th>avg_rel_hum</th>\n",
       "      <td>-0.270315</td>\n",
       "      <td>0.270315</td>\n",
       "    </tr>\n",
       "    <tr>\n",
       "      <th>distance_roads</th>\n",
       "      <td>-0.269670</td>\n",
       "      <td>0.269670</td>\n",
       "    </tr>\n",
       "    <tr>\n",
       "      <th>water</th>\n",
       "      <td>-0.258873</td>\n",
       "      <td>0.258873</td>\n",
       "    </tr>\n",
       "    <tr>\n",
       "      <th>distance_fire_stations</th>\n",
       "      <td>-0.228907</td>\n",
       "      <td>0.228907</td>\n",
       "    </tr>\n",
       "    <tr>\n",
       "      <th>forest_unknown</th>\n",
       "      <td>0.223377</td>\n",
       "      <td>0.223377</td>\n",
       "    </tr>\n",
       "    <tr>\n",
       "      <th>distance_rivers</th>\n",
       "      <td>-0.219555</td>\n",
       "      <td>0.219555</td>\n",
       "    </tr>\n",
       "    <tr>\n",
       "      <th>distance_powerlines</th>\n",
       "      <td>-0.211442</td>\n",
       "      <td>0.211442</td>\n",
       "    </tr>\n",
       "    <tr>\n",
       "      <th>anom_avg_soil</th>\n",
       "      <td>-0.198951</td>\n",
       "      <td>0.198951</td>\n",
       "    </tr>\n",
       "    <tr>\n",
       "      <th>forest</th>\n",
       "      <td>0.197965</td>\n",
       "      <td>0.197965</td>\n",
       "    </tr>\n",
       "    <tr>\n",
       "      <th>pop_dens</th>\n",
       "      <td>0.175185</td>\n",
       "      <td>0.175185</td>\n",
       "    </tr>\n",
       "    <tr>\n",
       "      <th>anom_max_temp</th>\n",
       "      <td>0.173509</td>\n",
       "      <td>0.173509</td>\n",
       "    </tr>\n",
       "    <tr>\n",
       "      <th>anom_avg_rel_hum</th>\n",
       "      <td>-0.154983</td>\n",
       "      <td>0.154983</td>\n",
       "    </tr>\n",
       "    <tr>\n",
       "      <th>slope</th>\n",
       "      <td>0.152198</td>\n",
       "      <td>0.152198</td>\n",
       "    </tr>\n",
       "    <tr>\n",
       "      <th>avg_soil</th>\n",
       "      <td>-0.139027</td>\n",
       "      <td>0.139027</td>\n",
       "    </tr>\n",
       "    <tr>\n",
       "      <th>max_wind_vel</th>\n",
       "      <td>-0.115798</td>\n",
       "      <td>0.115798</td>\n",
       "    </tr>\n",
       "    <tr>\n",
       "      <th>anom_sum_prec</th>\n",
       "      <td>-0.111907</td>\n",
       "      <td>0.111907</td>\n",
       "    </tr>\n",
       "    <tr>\n",
       "      <th>urban</th>\n",
       "      <td>0.106970</td>\n",
       "      <td>0.106970</td>\n",
       "    </tr>\n",
       "    <tr>\n",
       "      <th>forest_deciduous_broad</th>\n",
       "      <td>0.101987</td>\n",
       "      <td>0.101987</td>\n",
       "    </tr>\n",
       "    <tr>\n",
       "      <th>sum_prec</th>\n",
       "      <td>-0.091074</td>\n",
       "      <td>0.091074</td>\n",
       "    </tr>\n",
       "    <tr>\n",
       "      <th>forest_evergreen_broad</th>\n",
       "      <td>0.088450</td>\n",
       "      <td>0.088450</td>\n",
       "    </tr>\n",
       "    <tr>\n",
       "      <th>wetland</th>\n",
       "      <td>0.076054</td>\n",
       "      <td>0.076054</td>\n",
       "    </tr>\n",
       "    <tr>\n",
       "      <th>herbaceous_vegetation</th>\n",
       "      <td>0.062249</td>\n",
       "      <td>0.062249</td>\n",
       "    </tr>\n",
       "    <tr>\n",
       "      <th>elevation</th>\n",
       "      <td>0.058879</td>\n",
       "      <td>0.058879</td>\n",
       "    </tr>\n",
       "    <tr>\n",
       "      <th>avg_wind_angle</th>\n",
       "      <td>0.055117</td>\n",
       "      <td>0.055117</td>\n",
       "    </tr>\n",
       "    <tr>\n",
       "      <th>anom_avg_temp</th>\n",
       "      <td>0.050461</td>\n",
       "      <td>0.050461</td>\n",
       "    </tr>\n",
       "    <tr>\n",
       "      <th>shrubland</th>\n",
       "      <td>0.031707</td>\n",
       "      <td>0.031707</td>\n",
       "    </tr>\n",
       "    <tr>\n",
       "      <th>anom_max_wind_vel</th>\n",
       "      <td>0.025065</td>\n",
       "      <td>0.025065</td>\n",
       "    </tr>\n",
       "    <tr>\n",
       "      <th>cropland</th>\n",
       "      <td>-0.017902</td>\n",
       "      <td>0.017902</td>\n",
       "    </tr>\n",
       "    <tr>\n",
       "      <th>avg_temp</th>\n",
       "      <td>0.017849</td>\n",
       "      <td>0.017849</td>\n",
       "    </tr>\n",
       "    <tr>\n",
       "      <th>yearly_avg_temp</th>\n",
       "      <td>0.012167</td>\n",
       "      <td>0.012167</td>\n",
       "    </tr>\n",
       "    <tr>\n",
       "      <th>forest_evergreen_needle</th>\n",
       "      <td>0.010221</td>\n",
       "      <td>0.010221</td>\n",
       "    </tr>\n",
       "    <tr>\n",
       "      <th>aspect</th>\n",
       "      <td>-0.007185</td>\n",
       "      <td>0.007185</td>\n",
       "    </tr>\n",
       "    <tr>\n",
       "      <th>sprarse_vegetation</th>\n",
       "      <td>-0.006045</td>\n",
       "      <td>0.006045</td>\n",
       "    </tr>\n",
       "    <tr>\n",
       "      <th>Year</th>\n",
       "      <td>0.005018</td>\n",
       "      <td>0.005018</td>\n",
       "    </tr>\n",
       "  </tbody>\n",
       "</table>\n",
       "</div>"
      ],
      "text/plain": [
       "                         Point-Biserial  Point-Biserial-abs\n",
       "ignition                       1.000000            1.000000\n",
       "max_temp                       0.303960            0.303960\n",
       "max_max_temp                   0.303960            0.303960\n",
       "avg_rel_hum                   -0.270315            0.270315\n",
       "distance_roads                -0.269670            0.269670\n",
       "water                         -0.258873            0.258873\n",
       "distance_fire_stations        -0.228907            0.228907\n",
       "forest_unknown                 0.223377            0.223377\n",
       "distance_rivers               -0.219555            0.219555\n",
       "distance_powerlines           -0.211442            0.211442\n",
       "anom_avg_soil                 -0.198951            0.198951\n",
       "forest                         0.197965            0.197965\n",
       "pop_dens                       0.175185            0.175185\n",
       "anom_max_temp                  0.173509            0.173509\n",
       "anom_avg_rel_hum              -0.154983            0.154983\n",
       "slope                          0.152198            0.152198\n",
       "avg_soil                      -0.139027            0.139027\n",
       "max_wind_vel                  -0.115798            0.115798\n",
       "anom_sum_prec                 -0.111907            0.111907\n",
       "urban                          0.106970            0.106970\n",
       "forest_deciduous_broad         0.101987            0.101987\n",
       "sum_prec                      -0.091074            0.091074\n",
       "forest_evergreen_broad         0.088450            0.088450\n",
       "wetland                        0.076054            0.076054\n",
       "herbaceous_vegetation          0.062249            0.062249\n",
       "elevation                      0.058879            0.058879\n",
       "avg_wind_angle                 0.055117            0.055117\n",
       "anom_avg_temp                  0.050461            0.050461\n",
       "shrubland                      0.031707            0.031707\n",
       "anom_max_wind_vel              0.025065            0.025065\n",
       "cropland                      -0.017902            0.017902\n",
       "avg_temp                       0.017849            0.017849\n",
       "yearly_avg_temp                0.012167            0.012167\n",
       "forest_evergreen_needle        0.010221            0.010221\n",
       "aspect                        -0.007185            0.007185\n",
       "sprarse_vegetation            -0.006045            0.006045\n",
       "Year                           0.005018            0.005018"
      ]
     },
     "execution_count": 730,
     "metadata": {},
     "output_type": "execute_result"
    }
   ],
   "source": [
    "dff = df.dropna()\n",
    "\n",
    "correlations = {col: pointbiserialr(dff['ignition'], dff[col])[0] for col in dff.select_dtypes(include=['float64', 'int64']).columns}\n",
    "\n",
    "corr_df = pd.DataFrame(correlations, index=['Point-Biserial']).T\n",
    "\n",
    "corr_df['Point-Biserial-abs'] = corr_df['Point-Biserial'].abs()\n",
    "\n",
    "corr_df.dropna().sort_values(by = 'Point-Biserial-abs', ascending = False)"
   ]
  },
  {
   "cell_type": "code",
   "execution_count": 731,
   "metadata": {},
   "outputs": [
    {
     "data": {
      "text/plain": [
       "0        16.973520\n",
       "1        15.993032\n",
       "2        17.455698\n",
       "3        15.774510\n",
       "7        22.304850\n",
       "           ...    \n",
       "22028     5.704600\n",
       "22029     9.130116\n",
       "22031    14.454808\n",
       "22032    13.846954\n",
       "22033    12.198812\n",
       "Name: max_temp, Length: 15181, dtype: float64"
      ]
     },
     "execution_count": 731,
     "metadata": {},
     "output_type": "execute_result"
    }
   ],
   "source": [
    "# max_temp have the same impact on ignition, are they equal ? \n",
    "dff.max_temp"
   ]
  },
  {
   "cell_type": "code",
   "execution_count": 732,
   "metadata": {},
   "outputs": [
    {
     "data": {
      "text/plain": [
       "0        62.552337\n",
       "1        60.787457\n",
       "2        63.420256\n",
       "3        60.394119\n",
       "7        72.148729\n",
       "           ...    \n",
       "22028    42.268280\n",
       "22029    48.434210\n",
       "22031    58.018655\n",
       "22032    56.924518\n",
       "22033    53.957861\n",
       "Name: max_max_temp, Length: 15181, dtype: float64"
      ]
     },
     "execution_count": 732,
     "metadata": {},
     "output_type": "execute_result"
    }
   ],
   "source": [
    "dff.max_max_temp"
   ]
  },
  {
   "cell_type": "code",
   "execution_count": 733,
   "metadata": {},
   "outputs": [
    {
     "data": {
      "text/plain": [
       "1.0"
      ]
     },
     "execution_count": 733,
     "metadata": {},
     "output_type": "execute_result"
    }
   ],
   "source": [
    "# pearson correlation between max_max_temp and max_temp\n",
    "dff.max_max_temp.corr(dff.max_temp, method = 'pearson')"
   ]
  },
  {
   "cell_type": "markdown",
   "metadata": {},
   "source": [
    "`max_max_temp` and `max_temp` are strongly and positively correlated. we will keep just one of them for modeling. \n",
    "\n",
    "Next, I will Analyze Pearson correlation between explanatory continuous varibales. I will drop unnecessary continuous variables as expalained in previous sections and also categorical variables because pearson correlation doesn't apply for them. "
   ]
  },
  {
   "cell_type": "code",
   "execution_count": 376,
   "metadata": {},
   "outputs": [
    {
     "data": {
      "text/plain": [
       "Index(['Date', 'distance_fire_stations', 'distance_rivers', 'distance_roads',\n",
       "       'distance_powerlines', 'cropland', 'forest_deciduous_broad',\n",
       "       'forest_deciduous_needle', 'forest_evergreen_broad',\n",
       "       'forest_evergreen_needle', 'forest_mixed', 'forest_unknown',\n",
       "       'herbaceous_vegetation', 'moss_lichen', 'shrubland',\n",
       "       'sprarse_vegetation', 'urban', 'water', 'wetland', 'aspect',\n",
       "       'elevation', 'pop_dens', 'slope', 'anom_max_temp', 'anom_max_wind_vel',\n",
       "       'anom_avg_temp', 'anom_avg_rel_hum', 'anom_avg_soil', 'anom_sum_prec',\n",
       "       'max_temp', 'max_wind_vel', 'avg_temp', 'avg_wind_angle', 'avg_rel_hum',\n",
       "       'avg_soil', 'sum_prec', 'forest', 'vegetation_class', 'Year',\n",
       "       'max_max_temp', 'yearly_avg_temp', 'ignition', 'month', 'season',\n",
       "       'vegetation_class_encoded'],\n",
       "      dtype='object')"
      ]
     },
     "execution_count": 376,
     "metadata": {},
     "output_type": "execute_result"
    }
   ],
   "source": [
    "df.columns"
   ]
  },
  {
   "cell_type": "code",
   "execution_count": 735,
   "metadata": {},
   "outputs": [
    {
     "data": {
      "text/html": [
       "<div>\n",
       "<style scoped>\n",
       "    .dataframe tbody tr th:only-of-type {\n",
       "        vertical-align: middle;\n",
       "    }\n",
       "\n",
       "    .dataframe tbody tr th {\n",
       "        vertical-align: top;\n",
       "    }\n",
       "\n",
       "    .dataframe thead th {\n",
       "        text-align: right;\n",
       "    }\n",
       "</style>\n",
       "<table border=\"1\" class=\"dataframe\">\n",
       "  <thead>\n",
       "    <tr style=\"text-align: right;\">\n",
       "      <th></th>\n",
       "      <th>distance_fire_stations</th>\n",
       "      <th>distance_rivers</th>\n",
       "      <th>distance_roads</th>\n",
       "      <th>distance_powerlines</th>\n",
       "      <th>forest_evergreen_broad</th>\n",
       "      <th>forest_unknown</th>\n",
       "      <th>herbaceous_vegetation</th>\n",
       "      <th>water</th>\n",
       "      <th>aspect</th>\n",
       "      <th>elevation</th>\n",
       "      <th>...</th>\n",
       "      <th>max_wind_vel</th>\n",
       "      <th>avg_temp</th>\n",
       "      <th>avg_wind_angle</th>\n",
       "      <th>avg_rel_hum</th>\n",
       "      <th>avg_soil</th>\n",
       "      <th>sum_prec</th>\n",
       "      <th>forest</th>\n",
       "      <th>Year</th>\n",
       "      <th>max_max_temp</th>\n",
       "      <th>yearly_avg_temp</th>\n",
       "    </tr>\n",
       "  </thead>\n",
       "  <tbody>\n",
       "    <tr>\n",
       "      <th>0</th>\n",
       "      <td>13287.682266</td>\n",
       "      <td>7211.102551</td>\n",
       "      <td>1250.000000</td>\n",
       "      <td>30196.233209</td>\n",
       "      <td>1.000000</td>\n",
       "      <td>0.000000</td>\n",
       "      <td>0.000000</td>\n",
       "      <td>0.0</td>\n",
       "      <td>103.793809</td>\n",
       "      <td>835.0</td>\n",
       "      <td>...</td>\n",
       "      <td>5.772759</td>\n",
       "      <td>276.253304</td>\n",
       "      <td>225.773605</td>\n",
       "      <td>56.837185</td>\n",
       "      <td>0.297854</td>\n",
       "      <td>0.360376</td>\n",
       "      <td>1.000000</td>\n",
       "      <td>2015</td>\n",
       "      <td>62.552337</td>\n",
       "      <td>14.994683</td>\n",
       "    </tr>\n",
       "    <tr>\n",
       "      <th>1</th>\n",
       "      <td>8721.381771</td>\n",
       "      <td>2358.495283</td>\n",
       "      <td>250.000000</td>\n",
       "      <td>13768.169813</td>\n",
       "      <td>0.416667</td>\n",
       "      <td>0.416667</td>\n",
       "      <td>0.166667</td>\n",
       "      <td>0.0</td>\n",
       "      <td>314.873240</td>\n",
       "      <td>388.0</td>\n",
       "      <td>...</td>\n",
       "      <td>5.706931</td>\n",
       "      <td>3.610960</td>\n",
       "      <td>209.708847</td>\n",
       "      <td>61.120739</td>\n",
       "      <td>0.264534</td>\n",
       "      <td>0.020176</td>\n",
       "      <td>0.833333</td>\n",
       "      <td>2003</td>\n",
       "      <td>60.787457</td>\n",
       "      <td>15.053698</td>\n",
       "    </tr>\n",
       "    <tr>\n",
       "      <th>2</th>\n",
       "      <td>10796.411441</td>\n",
       "      <td>0.000000</td>\n",
       "      <td>2015.564437</td>\n",
       "      <td>6254.998002</td>\n",
       "      <td>0.666667</td>\n",
       "      <td>0.333333</td>\n",
       "      <td>0.000000</td>\n",
       "      <td>0.0</td>\n",
       "      <td>189.175183</td>\n",
       "      <td>194.0</td>\n",
       "      <td>...</td>\n",
       "      <td>5.213350</td>\n",
       "      <td>278.800907</td>\n",
       "      <td>76.341278</td>\n",
       "      <td>63.017559</td>\n",
       "      <td>0.208871</td>\n",
       "      <td>0.025395</td>\n",
       "      <td>1.000000</td>\n",
       "      <td>2012</td>\n",
       "      <td>63.420256</td>\n",
       "      <td>15.001883</td>\n",
       "    </tr>\n",
       "    <tr>\n",
       "      <th>3</th>\n",
       "      <td>8253.787010</td>\n",
       "      <td>559.016994</td>\n",
       "      <td>0.000000</td>\n",
       "      <td>37350.535471</td>\n",
       "      <td>0.000000</td>\n",
       "      <td>0.000000</td>\n",
       "      <td>0.166667</td>\n",
       "      <td>0.0</td>\n",
       "      <td>153.434949</td>\n",
       "      <td>8.0</td>\n",
       "      <td>...</td>\n",
       "      <td>6.412321</td>\n",
       "      <td>5.787716</td>\n",
       "      <td>68.557823</td>\n",
       "      <td>64.673866</td>\n",
       "      <td>0.156506</td>\n",
       "      <td>0.000000</td>\n",
       "      <td>0.000000</td>\n",
       "      <td>2004</td>\n",
       "      <td>60.394119</td>\n",
       "      <td>14.850611</td>\n",
       "    </tr>\n",
       "    <tr>\n",
       "      <th>7</th>\n",
       "      <td>8139.410298</td>\n",
       "      <td>4257.346591</td>\n",
       "      <td>0.000000</td>\n",
       "      <td>3500.000000</td>\n",
       "      <td>0.500000</td>\n",
       "      <td>0.416667</td>\n",
       "      <td>0.000000</td>\n",
       "      <td>0.0</td>\n",
       "      <td>121.860264</td>\n",
       "      <td>431.0</td>\n",
       "      <td>...</td>\n",
       "      <td>6.142017</td>\n",
       "      <td>281.137129</td>\n",
       "      <td>230.412338</td>\n",
       "      <td>60.974873</td>\n",
       "      <td>0.163900</td>\n",
       "      <td>0.142783</td>\n",
       "      <td>0.916667</td>\n",
       "      <td>2013</td>\n",
       "      <td>72.148729</td>\n",
       "      <td>14.980666</td>\n",
       "    </tr>\n",
       "  </tbody>\n",
       "</table>\n",
       "<p>5 rows × 29 columns</p>\n",
       "</div>"
      ],
      "text/plain": [
       "   distance_fire_stations  distance_rivers  distance_roads  \\\n",
       "0            13287.682266      7211.102551     1250.000000   \n",
       "1             8721.381771      2358.495283      250.000000   \n",
       "2            10796.411441         0.000000     2015.564437   \n",
       "3             8253.787010       559.016994        0.000000   \n",
       "7             8139.410298      4257.346591        0.000000   \n",
       "\n",
       "   distance_powerlines  forest_evergreen_broad  forest_unknown  \\\n",
       "0         30196.233209                1.000000        0.000000   \n",
       "1         13768.169813                0.416667        0.416667   \n",
       "2          6254.998002                0.666667        0.333333   \n",
       "3         37350.535471                0.000000        0.000000   \n",
       "7          3500.000000                0.500000        0.416667   \n",
       "\n",
       "   herbaceous_vegetation  water      aspect  elevation  ...  max_wind_vel  \\\n",
       "0               0.000000    0.0  103.793809      835.0  ...      5.772759   \n",
       "1               0.166667    0.0  314.873240      388.0  ...      5.706931   \n",
       "2               0.000000    0.0  189.175183      194.0  ...      5.213350   \n",
       "3               0.166667    0.0  153.434949        8.0  ...      6.412321   \n",
       "7               0.000000    0.0  121.860264      431.0  ...      6.142017   \n",
       "\n",
       "     avg_temp  avg_wind_angle  avg_rel_hum  avg_soil  sum_prec    forest  \\\n",
       "0  276.253304      225.773605    56.837185  0.297854  0.360376  1.000000   \n",
       "1    3.610960      209.708847    61.120739  0.264534  0.020176  0.833333   \n",
       "2  278.800907       76.341278    63.017559  0.208871  0.025395  1.000000   \n",
       "3    5.787716       68.557823    64.673866  0.156506  0.000000  0.000000   \n",
       "7  281.137129      230.412338    60.974873  0.163900  0.142783  0.916667   \n",
       "\n",
       "   Year  max_max_temp  yearly_avg_temp  \n",
       "0  2015     62.552337        14.994683  \n",
       "1  2003     60.787457        15.053698  \n",
       "2  2012     63.420256        15.001883  \n",
       "3  2004     60.394119        14.850611  \n",
       "7  2013     72.148729        14.980666  \n",
       "\n",
       "[5 rows x 29 columns]"
      ]
     },
     "execution_count": 735,
     "metadata": {},
     "output_type": "execute_result"
    }
   ],
   "source": [
    "dfff = dff.drop(['moss_lichen','shrubland', 'sprarse_vegetation','urban', 'wetland', 'forest_evergreen_needle', \n",
    "                'forest_mixed', 'cropland','forest_deciduous_broad', 'forest_deciduous_needle', 'Date',\n",
    "               'vegetation_class', 'ignition'], axis =1)\n",
    "dfff.head()"
   ]
  },
  {
   "cell_type": "code",
   "execution_count": 736,
   "metadata": {},
   "outputs": [
    {
     "data": {
      "text/plain": [
       "forest_evergreen_broad  forest                    0.880938\n",
       "forest                  forest_evergreen_broad    0.880938\n",
       "Year                    avg_temp                  0.866019\n",
       "avg_temp                Year                      0.866019\n",
       "distance_rivers         distance_roads            0.809852\n",
       "distance_roads          distance_rivers           0.809852\n",
       "dtype: float64"
      ]
     },
     "execution_count": 736,
     "metadata": {},
     "output_type": "execute_result"
    }
   ],
   "source": [
    "### print correlated variables \n",
    "dv = dfff.corr(method = 'pearson').unstack().abs().sort_values(ascending=False)\n",
    "dv[(dv < 1) &(dv>.75)]"
   ]
  },
  {
   "cell_type": "markdown",
   "metadata": {},
   "source": [
    "#### Conclusion\n",
    "* Between 2 correlated variables, we will select the one with more impact on `ignition` analyzing Point-Beserial correlation\n",
    "* `forest_evergreen_broad`, `Year`and `distance_rivers ` will be then removed from our modelization"
   ]
  },
  {
   "cell_type": "markdown",
   "metadata": {},
   "source": [
    "### 3. Data Preparation "
   ]
  },
  {
   "cell_type": "markdown",
   "metadata": {},
   "source": [
    "#### 3.1 Missing Values  "
   ]
  },
  {
   "cell_type": "code",
   "execution_count": 737,
   "metadata": {},
   "outputs": [
    {
     "data": {
      "text/plain": [
       "Date                          0\n",
       "distance_fire_stations        5\n",
       "distance_rivers               5\n",
       "distance_roads                5\n",
       "distance_powerlines           5\n",
       "cropland                      5\n",
       "forest_deciduous_broad        5\n",
       "forest_deciduous_needle       5\n",
       "forest_evergreen_broad        5\n",
       "forest_evergreen_needle       5\n",
       "forest_mixed                  5\n",
       "forest_unknown                5\n",
       "herbaceous_vegetation         5\n",
       "moss_lichen                   5\n",
       "shrubland                     5\n",
       "sprarse_vegetation            5\n",
       "urban                         5\n",
       "water                         5\n",
       "wetland                       5\n",
       "aspect                        0\n",
       "elevation                     0\n",
       "pop_dens                      0\n",
       "slope                         0\n",
       "anom_max_temp                 0\n",
       "anom_max_wind_vel             0\n",
       "anom_avg_temp                 0\n",
       "anom_avg_rel_hum              0\n",
       "anom_avg_soil                 0\n",
       "anom_sum_prec                 0\n",
       "max_temp                      0\n",
       "max_wind_vel                  0\n",
       "avg_temp                      0\n",
       "avg_wind_angle                0\n",
       "avg_rel_hum                   0\n",
       "avg_soil                      0\n",
       "sum_prec                      0\n",
       "forest                        0\n",
       "vegetation_class             32\n",
       "Year                          0\n",
       "max_max_temp                  0\n",
       "yearly_avg_temp            6831\n",
       "ignition                      0\n",
       "dtype: int64"
      ]
     },
     "execution_count": 737,
     "metadata": {},
     "output_type": "execute_result"
    }
   ],
   "source": [
    "### render total missing values for each columns\n",
    "df.isna().sum()"
   ]
  },
  {
   "cell_type": "markdown",
   "metadata": {},
   "source": [
    "#### NB: \n",
    "* There are a lot of strategies for handeling missing values: removing, replacing by mean, max, min, etc. or even inputation with KNN.\n",
    "* Here, we will remove missing values. But `yearly_avg_temp` has 6831 missing value. Removing 6831 line will reduce our sample and impact our future model because there will be less available information necessary to converge.\n",
    "* Analysing previous Point-Beserial correlation between `ignition` and `yearly_avg_temp`, we have 0.012 correlation. which very weak\n",
    "* Here, we can delete safely `yearly_avg_temp` without impacting considerably the results of our future model.\n",
    "* NA values of `vegetation_class` will be encoded as a single class\n",
    "* The reste of missing values will be deleted. "
   ]
  },
  {
   "cell_type": "code",
   "execution_count": 738,
   "metadata": {},
   "outputs": [],
   "source": [
    "df.drop('yearly_avg_temp', axis= 1, inplace = True)"
   ]
  },
  {
   "cell_type": "code",
   "execution_count": 739,
   "metadata": {},
   "outputs": [],
   "source": [
    "df_subset = df.loc[:, df.columns != 'vegetation_class']\n",
    "df_subset_cleaned = df_subset.dropna()\n",
    "df = pd.merge(df_subset_cleaned,df[['vegetation_class']], left_index = True, right_index = True, how = 'left')"
   ]
  },
  {
   "cell_type": "code",
   "execution_count": 740,
   "metadata": {},
   "outputs": [
    {
     "data": {
      "text/plain": [
       "Date                        0\n",
       "distance_fire_stations      0\n",
       "distance_rivers             0\n",
       "distance_roads              0\n",
       "distance_powerlines         0\n",
       "cropland                    0\n",
       "forest_deciduous_broad      0\n",
       "forest_deciduous_needle     0\n",
       "forest_evergreen_broad      0\n",
       "forest_evergreen_needle     0\n",
       "forest_mixed                0\n",
       "forest_unknown              0\n",
       "herbaceous_vegetation       0\n",
       "moss_lichen                 0\n",
       "shrubland                   0\n",
       "sprarse_vegetation          0\n",
       "urban                       0\n",
       "water                       0\n",
       "wetland                     0\n",
       "aspect                      0\n",
       "elevation                   0\n",
       "pop_dens                    0\n",
       "slope                       0\n",
       "anom_max_temp               0\n",
       "anom_max_wind_vel           0\n",
       "anom_avg_temp               0\n",
       "anom_avg_rel_hum            0\n",
       "anom_avg_soil               0\n",
       "anom_sum_prec               0\n",
       "max_temp                    0\n",
       "max_wind_vel                0\n",
       "avg_temp                    0\n",
       "avg_wind_angle              0\n",
       "avg_rel_hum                 0\n",
       "avg_soil                    0\n",
       "sum_prec                    0\n",
       "forest                      0\n",
       "Year                        0\n",
       "max_max_temp                0\n",
       "ignition                    0\n",
       "vegetation_class           27\n",
       "dtype: int64"
      ]
     },
     "execution_count": 740,
     "metadata": {},
     "output_type": "execute_result"
    }
   ],
   "source": [
    "df.isna().sum()"
   ]
  },
  {
   "cell_type": "markdown",
   "metadata": {},
   "source": [
    "#### 3.2 Feature Selection  "
   ]
  },
  {
   "cell_type": "markdown",
   "metadata": {},
   "source": [
    "Giving previous analysis, `moss_lichen`,`shrubland`, `sprarse_vegetation`,`urban`, `wetland`, `forest_evergreen_needle`, `forest_mixed`, `cropland`,`forest_deciduous_broad`, `forest_decisuous_needle`, `max_max_temp`, `forest_evergreen_broad`, `Year`and `distance_rivers ` for their low variability, correlation, or low impact on `ignition`."
   ]
  },
  {
   "cell_type": "code",
   "execution_count": 741,
   "metadata": {},
   "outputs": [],
   "source": [
    "df.drop(['moss_lichen','shrubland', 'sprarse_vegetation','urban', 'wetland', 'forest_evergreen_needle', \n",
    "                'forest_mixed', 'cropland','forest_deciduous_broad', 'forest_deciduous_needle', 'Date', 'max_max_temp',\n",
    "        'forest_evergreen_broad','Year', 'distance_rivers'], axis =1, inplace= True)"
   ]
  },
  {
   "cell_type": "code",
   "execution_count": 742,
   "metadata": {},
   "outputs": [
    {
     "data": {
      "text/html": [
       "<div>\n",
       "<style scoped>\n",
       "    .dataframe tbody tr th:only-of-type {\n",
       "        vertical-align: middle;\n",
       "    }\n",
       "\n",
       "    .dataframe tbody tr th {\n",
       "        vertical-align: top;\n",
       "    }\n",
       "\n",
       "    .dataframe thead th {\n",
       "        text-align: right;\n",
       "    }\n",
       "</style>\n",
       "<table border=\"1\" class=\"dataframe\">\n",
       "  <thead>\n",
       "    <tr style=\"text-align: right;\">\n",
       "      <th></th>\n",
       "      <th>Point-Biserial</th>\n",
       "      <th>Point-Biserial-abs</th>\n",
       "    </tr>\n",
       "  </thead>\n",
       "  <tbody>\n",
       "    <tr>\n",
       "      <th>ignition</th>\n",
       "      <td>1.000000</td>\n",
       "      <td>1.000000</td>\n",
       "    </tr>\n",
       "    <tr>\n",
       "      <th>max_temp</th>\n",
       "      <td>0.295061</td>\n",
       "      <td>0.295061</td>\n",
       "    </tr>\n",
       "    <tr>\n",
       "      <th>avg_rel_hum</th>\n",
       "      <td>-0.269676</td>\n",
       "      <td>0.269676</td>\n",
       "    </tr>\n",
       "    <tr>\n",
       "      <th>distance_roads</th>\n",
       "      <td>-0.268259</td>\n",
       "      <td>0.268259</td>\n",
       "    </tr>\n",
       "    <tr>\n",
       "      <th>water</th>\n",
       "      <td>-0.254303</td>\n",
       "      <td>0.254303</td>\n",
       "    </tr>\n",
       "    <tr>\n",
       "      <th>distance_fire_stations</th>\n",
       "      <td>-0.228656</td>\n",
       "      <td>0.228656</td>\n",
       "    </tr>\n",
       "    <tr>\n",
       "      <th>forest_unknown</th>\n",
       "      <td>0.214991</td>\n",
       "      <td>0.214991</td>\n",
       "    </tr>\n",
       "    <tr>\n",
       "      <th>distance_powerlines</th>\n",
       "      <td>-0.205647</td>\n",
       "      <td>0.205647</td>\n",
       "    </tr>\n",
       "    <tr>\n",
       "      <th>forest</th>\n",
       "      <td>0.195948</td>\n",
       "      <td>0.195948</td>\n",
       "    </tr>\n",
       "    <tr>\n",
       "      <th>anom_avg_soil</th>\n",
       "      <td>-0.193019</td>\n",
       "      <td>0.193019</td>\n",
       "    </tr>\n",
       "    <tr>\n",
       "      <th>pop_dens</th>\n",
       "      <td>0.164212</td>\n",
       "      <td>0.164212</td>\n",
       "    </tr>\n",
       "    <tr>\n",
       "      <th>anom_max_temp</th>\n",
       "      <td>0.159961</td>\n",
       "      <td>0.159961</td>\n",
       "    </tr>\n",
       "    <tr>\n",
       "      <th>anom_avg_rel_hum</th>\n",
       "      <td>-0.156299</td>\n",
       "      <td>0.156299</td>\n",
       "    </tr>\n",
       "    <tr>\n",
       "      <th>slope</th>\n",
       "      <td>0.151001</td>\n",
       "      <td>0.151001</td>\n",
       "    </tr>\n",
       "    <tr>\n",
       "      <th>avg_soil</th>\n",
       "      <td>-0.136939</td>\n",
       "      <td>0.136939</td>\n",
       "    </tr>\n",
       "    <tr>\n",
       "      <th>max_wind_vel</th>\n",
       "      <td>-0.110330</td>\n",
       "      <td>0.110330</td>\n",
       "    </tr>\n",
       "    <tr>\n",
       "      <th>anom_sum_prec</th>\n",
       "      <td>-0.108783</td>\n",
       "      <td>0.108783</td>\n",
       "    </tr>\n",
       "    <tr>\n",
       "      <th>sum_prec</th>\n",
       "      <td>-0.089895</td>\n",
       "      <td>0.089895</td>\n",
       "    </tr>\n",
       "    <tr>\n",
       "      <th>herbaceous_vegetation</th>\n",
       "      <td>0.061074</td>\n",
       "      <td>0.061074</td>\n",
       "    </tr>\n",
       "    <tr>\n",
       "      <th>avg_wind_angle</th>\n",
       "      <td>0.052935</td>\n",
       "      <td>0.052935</td>\n",
       "    </tr>\n",
       "    <tr>\n",
       "      <th>elevation</th>\n",
       "      <td>0.052914</td>\n",
       "      <td>0.052914</td>\n",
       "    </tr>\n",
       "    <tr>\n",
       "      <th>anom_avg_temp</th>\n",
       "      <td>0.040492</td>\n",
       "      <td>0.040492</td>\n",
       "    </tr>\n",
       "    <tr>\n",
       "      <th>anom_max_wind_vel</th>\n",
       "      <td>0.028027</td>\n",
       "      <td>0.028027</td>\n",
       "    </tr>\n",
       "    <tr>\n",
       "      <th>avg_temp</th>\n",
       "      <td>0.016005</td>\n",
       "      <td>0.016005</td>\n",
       "    </tr>\n",
       "    <tr>\n",
       "      <th>aspect</th>\n",
       "      <td>-0.004457</td>\n",
       "      <td>0.004457</td>\n",
       "    </tr>\n",
       "  </tbody>\n",
       "</table>\n",
       "</div>"
      ],
      "text/plain": [
       "                        Point-Biserial  Point-Biserial-abs\n",
       "ignition                      1.000000            1.000000\n",
       "max_temp                      0.295061            0.295061\n",
       "avg_rel_hum                  -0.269676            0.269676\n",
       "distance_roads               -0.268259            0.268259\n",
       "water                        -0.254303            0.254303\n",
       "distance_fire_stations       -0.228656            0.228656\n",
       "forest_unknown                0.214991            0.214991\n",
       "distance_powerlines          -0.205647            0.205647\n",
       "forest                        0.195948            0.195948\n",
       "anom_avg_soil                -0.193019            0.193019\n",
       "pop_dens                      0.164212            0.164212\n",
       "anom_max_temp                 0.159961            0.159961\n",
       "anom_avg_rel_hum             -0.156299            0.156299\n",
       "slope                         0.151001            0.151001\n",
       "avg_soil                     -0.136939            0.136939\n",
       "max_wind_vel                 -0.110330            0.110330\n",
       "anom_sum_prec                -0.108783            0.108783\n",
       "sum_prec                     -0.089895            0.089895\n",
       "herbaceous_vegetation         0.061074            0.061074\n",
       "avg_wind_angle                0.052935            0.052935\n",
       "elevation                     0.052914            0.052914\n",
       "anom_avg_temp                 0.040492            0.040492\n",
       "anom_max_wind_vel             0.028027            0.028027\n",
       "avg_temp                      0.016005            0.016005\n",
       "aspect                       -0.004457            0.004457"
      ]
     },
     "execution_count": 742,
     "metadata": {},
     "output_type": "execute_result"
    }
   ],
   "source": [
    "correlations = {col: pointbiserialr(df['ignition'], df[col])[0] for col in df.select_dtypes(include=['float64', 'int64']).columns}\n",
    "\n",
    "corr_dff = pd.DataFrame(correlations, index=['Point-Biserial']).T\n",
    "\n",
    "corr_dff['Point-Biserial-abs'] = corr_dff['Point-Biserial'].abs()\n",
    "\n",
    "corr_dff.dropna().sort_values(by = 'Point-Biserial-abs', ascending = False)"
   ]
  },
  {
   "cell_type": "markdown",
   "metadata": {},
   "source": [
    "* I want to keep my model explainable. So performing PCA will make it a black-Box model.\n",
    "* I will apply PCA only on left variables with | Point-Biserial | < 0.11 to conserve information.\n",
    "* The other variables will be saved as they are the most variables that explain `ignition`"
   ]
  },
  {
   "cell_type": "code",
   "execution_count": 743,
   "metadata": {},
   "outputs": [
    {
     "data": {
      "text/plain": [
       "array(['herbaceous_vegetation', 'aspect', 'elevation',\n",
       "       'anom_max_wind_vel', 'anom_avg_temp', 'anom_sum_prec', 'avg_temp',\n",
       "       'avg_wind_angle', 'sum_prec'], dtype=object)"
      ]
     },
     "execution_count": 743,
     "metadata": {},
     "output_type": "execute_result"
    }
   ],
   "source": [
    "pca_var = corr_dff.loc[corr_dff['Point-Biserial-abs']<.11].index.values  ### extract variables on which we will apply pca\n",
    "pca_var"
   ]
  },
  {
   "cell_type": "code",
   "execution_count": 744,
   "metadata": {},
   "outputs": [
    {
     "data": {
      "text/plain": [
       "Index(['distance_fire_stations', 'distance_roads', 'distance_powerlines',\n",
       "       'forest_unknown', 'herbaceous_vegetation', 'water', 'aspect',\n",
       "       'elevation', 'pop_dens', 'slope', 'anom_max_temp', 'anom_max_wind_vel',\n",
       "       'anom_avg_temp', 'anom_avg_rel_hum', 'anom_avg_soil', 'anom_sum_prec',\n",
       "       'max_temp', 'max_wind_vel', 'avg_temp', 'avg_wind_angle', 'avg_rel_hum',\n",
       "       'avg_soil', 'sum_prec', 'forest', 'ignition', 'vegetation_class'],\n",
       "      dtype='object')"
      ]
     },
     "execution_count": 744,
     "metadata": {},
     "output_type": "execute_result"
    }
   ],
   "source": [
    "df.columns"
   ]
  },
  {
   "cell_type": "code",
   "execution_count": 745,
   "metadata": {},
   "outputs": [
    {
     "name": "stderr",
     "output_type": "stream",
     "text": [
      "C:\\Users\\omar.elghaffouli_squ\\anaconda3\\Lib\\site-packages\\sklearn\\preprocessing\\_encoders.py:868: FutureWarning: `sparse` was renamed to `sparse_output` in version 1.2 and will be removed in 1.4. `sparse_output` is ignored unless you leave `sparse` to its default value.\n",
      "  warnings.warn(\n"
     ]
    },
    {
     "data": {
      "text/html": [
       "<div>\n",
       "<style scoped>\n",
       "    .dataframe tbody tr th:only-of-type {\n",
       "        vertical-align: middle;\n",
       "    }\n",
       "\n",
       "    .dataframe tbody tr th {\n",
       "        vertical-align: top;\n",
       "    }\n",
       "\n",
       "    .dataframe thead th {\n",
       "        text-align: right;\n",
       "    }\n",
       "</style>\n",
       "<table border=\"1\" class=\"dataframe\">\n",
       "  <thead>\n",
       "    <tr style=\"text-align: right;\">\n",
       "      <th></th>\n",
       "      <th>distance_fire_stations</th>\n",
       "      <th>distance_roads</th>\n",
       "      <th>distance_powerlines</th>\n",
       "      <th>forest_unknown</th>\n",
       "      <th>herbaceous_vegetation</th>\n",
       "      <th>water</th>\n",
       "      <th>aspect</th>\n",
       "      <th>elevation</th>\n",
       "      <th>pop_dens</th>\n",
       "      <th>slope</th>\n",
       "      <th>...</th>\n",
       "      <th>ignition</th>\n",
       "      <th>vegetation_class_$herb$aceous_vegetation</th>\n",
       "      <th>vegetation_class_Forestt</th>\n",
       "      <th>vegetation_class_forest</th>\n",
       "      <th>vegetation_class_herbaceous_vegetation</th>\n",
       "      <th>vegetation_class_shrubland</th>\n",
       "      <th>vegetation_class_urban</th>\n",
       "      <th>vegetation_class_water</th>\n",
       "      <th>vegetation_class_wetland</th>\n",
       "      <th>vegetation_class_nan</th>\n",
       "    </tr>\n",
       "  </thead>\n",
       "  <tbody>\n",
       "    <tr>\n",
       "      <th>0</th>\n",
       "      <td>13287.682266</td>\n",
       "      <td>1250.000000</td>\n",
       "      <td>30196.233209</td>\n",
       "      <td>0.000000</td>\n",
       "      <td>0.000000</td>\n",
       "      <td>0.0</td>\n",
       "      <td>103.793809</td>\n",
       "      <td>835.0</td>\n",
       "      <td>0.709305</td>\n",
       "      <td>3.213570</td>\n",
       "      <td>...</td>\n",
       "      <td>1</td>\n",
       "      <td>0.0</td>\n",
       "      <td>0.0</td>\n",
       "      <td>1.0</td>\n",
       "      <td>0.0</td>\n",
       "      <td>0.0</td>\n",
       "      <td>0.0</td>\n",
       "      <td>0.0</td>\n",
       "      <td>0.0</td>\n",
       "      <td>0.0</td>\n",
       "    </tr>\n",
       "    <tr>\n",
       "      <th>1</th>\n",
       "      <td>8721.381771</td>\n",
       "      <td>250.000000</td>\n",
       "      <td>13768.169813</td>\n",
       "      <td>0.416667</td>\n",
       "      <td>0.166667</td>\n",
       "      <td>0.0</td>\n",
       "      <td>314.873240</td>\n",
       "      <td>388.0</td>\n",
       "      <td>2.509037</td>\n",
       "      <td>7.861014</td>\n",
       "      <td>...</td>\n",
       "      <td>1</td>\n",
       "      <td>0.0</td>\n",
       "      <td>0.0</td>\n",
       "      <td>1.0</td>\n",
       "      <td>0.0</td>\n",
       "      <td>0.0</td>\n",
       "      <td>0.0</td>\n",
       "      <td>0.0</td>\n",
       "      <td>0.0</td>\n",
       "      <td>0.0</td>\n",
       "    </tr>\n",
       "    <tr>\n",
       "      <th>2</th>\n",
       "      <td>10796.411441</td>\n",
       "      <td>2015.564437</td>\n",
       "      <td>6254.998002</td>\n",
       "      <td>0.333333</td>\n",
       "      <td>0.000000</td>\n",
       "      <td>0.0</td>\n",
       "      <td>189.175183</td>\n",
       "      <td>194.0</td>\n",
       "      <td>0.395425</td>\n",
       "      <td>2.441008</td>\n",
       "      <td>...</td>\n",
       "      <td>1</td>\n",
       "      <td>0.0</td>\n",
       "      <td>0.0</td>\n",
       "      <td>1.0</td>\n",
       "      <td>0.0</td>\n",
       "      <td>0.0</td>\n",
       "      <td>0.0</td>\n",
       "      <td>0.0</td>\n",
       "      <td>0.0</td>\n",
       "      <td>0.0</td>\n",
       "    </tr>\n",
       "    <tr>\n",
       "      <th>3</th>\n",
       "      <td>8253.787010</td>\n",
       "      <td>0.000000</td>\n",
       "      <td>37350.535471</td>\n",
       "      <td>0.000000</td>\n",
       "      <td>0.166667</td>\n",
       "      <td>0.0</td>\n",
       "      <td>153.434949</td>\n",
       "      <td>8.0</td>\n",
       "      <td>0.524736</td>\n",
       "      <td>1.438359</td>\n",
       "      <td>...</td>\n",
       "      <td>1</td>\n",
       "      <td>0.0</td>\n",
       "      <td>0.0</td>\n",
       "      <td>0.0</td>\n",
       "      <td>0.0</td>\n",
       "      <td>0.0</td>\n",
       "      <td>0.0</td>\n",
       "      <td>0.0</td>\n",
       "      <td>1.0</td>\n",
       "      <td>0.0</td>\n",
       "    </tr>\n",
       "    <tr>\n",
       "      <th>4</th>\n",
       "      <td>9905.806378</td>\n",
       "      <td>1903.943276</td>\n",
       "      <td>6427.480066</td>\n",
       "      <td>0.166667</td>\n",
       "      <td>0.083333</td>\n",
       "      <td>0.0</td>\n",
       "      <td>304.397387</td>\n",
       "      <td>216.0</td>\n",
       "      <td>0.719442</td>\n",
       "      <td>11.403785</td>\n",
       "      <td>...</td>\n",
       "      <td>1</td>\n",
       "      <td>0.0</td>\n",
       "      <td>0.0</td>\n",
       "      <td>1.0</td>\n",
       "      <td>0.0</td>\n",
       "      <td>0.0</td>\n",
       "      <td>0.0</td>\n",
       "      <td>0.0</td>\n",
       "      <td>0.0</td>\n",
       "      <td>0.0</td>\n",
       "    </tr>\n",
       "  </tbody>\n",
       "</table>\n",
       "<p>5 rows × 34 columns</p>\n",
       "</div>"
      ],
      "text/plain": [
       "   distance_fire_stations  distance_roads  distance_powerlines  \\\n",
       "0            13287.682266     1250.000000         30196.233209   \n",
       "1             8721.381771      250.000000         13768.169813   \n",
       "2            10796.411441     2015.564437          6254.998002   \n",
       "3             8253.787010        0.000000         37350.535471   \n",
       "4             9905.806378     1903.943276          6427.480066   \n",
       "\n",
       "   forest_unknown  herbaceous_vegetation  water      aspect  elevation  \\\n",
       "0        0.000000               0.000000    0.0  103.793809      835.0   \n",
       "1        0.416667               0.166667    0.0  314.873240      388.0   \n",
       "2        0.333333               0.000000    0.0  189.175183      194.0   \n",
       "3        0.000000               0.166667    0.0  153.434949        8.0   \n",
       "4        0.166667               0.083333    0.0  304.397387      216.0   \n",
       "\n",
       "   pop_dens      slope  ...  ignition  \\\n",
       "0  0.709305   3.213570  ...         1   \n",
       "1  2.509037   7.861014  ...         1   \n",
       "2  0.395425   2.441008  ...         1   \n",
       "3  0.524736   1.438359  ...         1   \n",
       "4  0.719442  11.403785  ...         1   \n",
       "\n",
       "   vegetation_class_$herb$aceous_vegetation  vegetation_class_Forestt  \\\n",
       "0                                       0.0                       0.0   \n",
       "1                                       0.0                       0.0   \n",
       "2                                       0.0                       0.0   \n",
       "3                                       0.0                       0.0   \n",
       "4                                       0.0                       0.0   \n",
       "\n",
       "   vegetation_class_forest  vegetation_class_herbaceous_vegetation  \\\n",
       "0                      1.0                                     0.0   \n",
       "1                      1.0                                     0.0   \n",
       "2                      1.0                                     0.0   \n",
       "3                      0.0                                     0.0   \n",
       "4                      1.0                                     0.0   \n",
       "\n",
       "   vegetation_class_shrubland  vegetation_class_urban  vegetation_class_water  \\\n",
       "0                         0.0                     0.0                     0.0   \n",
       "1                         0.0                     0.0                     0.0   \n",
       "2                         0.0                     0.0                     0.0   \n",
       "3                         0.0                     0.0                     0.0   \n",
       "4                         0.0                     0.0                     0.0   \n",
       "\n",
       "   vegetation_class_wetland  vegetation_class_nan  \n",
       "0                       0.0                   0.0  \n",
       "1                       0.0                   0.0  \n",
       "2                       0.0                   0.0  \n",
       "3                       1.0                   0.0  \n",
       "4                       0.0                   0.0  \n",
       "\n",
       "[5 rows x 34 columns]"
      ]
     },
     "execution_count": 745,
     "metadata": {},
     "output_type": "execute_result"
    }
   ],
   "source": [
    "from sklearn.preprocessing import OneHotEncoder\n",
    "\n",
    "encoder  = OneHotEncoder(sparse = False)        ## one hot encoding \n",
    "\n",
    "vegetation_class_encoded = encoder.fit_transform(df[['vegetation_class']])\n",
    "\n",
    "df_vegetation_class_encoded= pd.DataFrame(vegetation_class_encoded, columns=encoder.get_feature_names_out(['vegetation_class']))\n",
    "\n",
    "df = pd.merge(df,df_vegetation_class_encoded, left_index =True, right_index=True, how='left').drop('vegetation_class', axis=1)\n",
    "\n",
    "df.head()"
   ]
  },
  {
   "cell_type": "code",
   "execution_count": 746,
   "metadata": {},
   "outputs": [
    {
     "data": {
      "text/html": [
       "<div>\n",
       "<style scoped>\n",
       "    .dataframe tbody tr th:only-of-type {\n",
       "        vertical-align: middle;\n",
       "    }\n",
       "\n",
       "    .dataframe tbody tr th {\n",
       "        vertical-align: top;\n",
       "    }\n",
       "\n",
       "    .dataframe thead th {\n",
       "        text-align: right;\n",
       "    }\n",
       "</style>\n",
       "<table border=\"1\" class=\"dataframe\">\n",
       "  <thead>\n",
       "    <tr style=\"text-align: right;\">\n",
       "      <th></th>\n",
       "      <th>distance_fire_stations</th>\n",
       "      <th>distance_roads</th>\n",
       "      <th>distance_powerlines</th>\n",
       "      <th>forest_unknown</th>\n",
       "      <th>herbaceous_vegetation</th>\n",
       "      <th>water</th>\n",
       "      <th>aspect</th>\n",
       "      <th>elevation</th>\n",
       "      <th>pop_dens</th>\n",
       "      <th>slope</th>\n",
       "      <th>...</th>\n",
       "      <th>ignition</th>\n",
       "      <th>vegetation_class_$herb$aceous_vegetation</th>\n",
       "      <th>vegetation_class_Forestt</th>\n",
       "      <th>vegetation_class_forest</th>\n",
       "      <th>vegetation_class_herbaceous_vegetation</th>\n",
       "      <th>vegetation_class_shrubland</th>\n",
       "      <th>vegetation_class_urban</th>\n",
       "      <th>vegetation_class_water</th>\n",
       "      <th>vegetation_class_wetland</th>\n",
       "      <th>vegetation_class_nan</th>\n",
       "    </tr>\n",
       "  </thead>\n",
       "  <tbody>\n",
       "    <tr>\n",
       "      <th>22030</th>\n",
       "      <td>12260.199835</td>\n",
       "      <td>500.000000</td>\n",
       "      <td>39374.007924</td>\n",
       "      <td>0.0</td>\n",
       "      <td>0.0</td>\n",
       "      <td>1.0</td>\n",
       "      <td>180.000000</td>\n",
       "      <td>-100.0</td>\n",
       "      <td>1.123672</td>\n",
       "      <td>0.000000</td>\n",
       "      <td>...</td>\n",
       "      <td>0</td>\n",
       "      <td>NaN</td>\n",
       "      <td>NaN</td>\n",
       "      <td>NaN</td>\n",
       "      <td>NaN</td>\n",
       "      <td>NaN</td>\n",
       "      <td>NaN</td>\n",
       "      <td>NaN</td>\n",
       "      <td>NaN</td>\n",
       "      <td>NaN</td>\n",
       "    </tr>\n",
       "    <tr>\n",
       "      <th>22031</th>\n",
       "      <td>8933.784193</td>\n",
       "      <td>790.569415</td>\n",
       "      <td>40380.998006</td>\n",
       "      <td>0.0</td>\n",
       "      <td>0.0</td>\n",
       "      <td>0.0</td>\n",
       "      <td>94.455603</td>\n",
       "      <td>70.0</td>\n",
       "      <td>1.374221</td>\n",
       "      <td>4.983265</td>\n",
       "      <td>...</td>\n",
       "      <td>0</td>\n",
       "      <td>NaN</td>\n",
       "      <td>NaN</td>\n",
       "      <td>NaN</td>\n",
       "      <td>NaN</td>\n",
       "      <td>NaN</td>\n",
       "      <td>NaN</td>\n",
       "      <td>NaN</td>\n",
       "      <td>NaN</td>\n",
       "      <td>NaN</td>\n",
       "    </tr>\n",
       "    <tr>\n",
       "      <th>22032</th>\n",
       "      <td>56560.255480</td>\n",
       "      <td>6388.466170</td>\n",
       "      <td>23538.532240</td>\n",
       "      <td>0.0</td>\n",
       "      <td>0.0</td>\n",
       "      <td>0.0</td>\n",
       "      <td>135.574855</td>\n",
       "      <td>307.0</td>\n",
       "      <td>0.000000</td>\n",
       "      <td>10.798985</td>\n",
       "      <td>...</td>\n",
       "      <td>0</td>\n",
       "      <td>NaN</td>\n",
       "      <td>NaN</td>\n",
       "      <td>NaN</td>\n",
       "      <td>NaN</td>\n",
       "      <td>NaN</td>\n",
       "      <td>NaN</td>\n",
       "      <td>NaN</td>\n",
       "      <td>NaN</td>\n",
       "      <td>NaN</td>\n",
       "    </tr>\n",
       "    <tr>\n",
       "      <th>22033</th>\n",
       "      <td>94191.294715</td>\n",
       "      <td>14637.281168</td>\n",
       "      <td>83236.485390</td>\n",
       "      <td>0.0</td>\n",
       "      <td>0.0</td>\n",
       "      <td>1.0</td>\n",
       "      <td>180.000000</td>\n",
       "      <td>-100.0</td>\n",
       "      <td>0.000000</td>\n",
       "      <td>0.000000</td>\n",
       "      <td>...</td>\n",
       "      <td>0</td>\n",
       "      <td>NaN</td>\n",
       "      <td>NaN</td>\n",
       "      <td>NaN</td>\n",
       "      <td>NaN</td>\n",
       "      <td>NaN</td>\n",
       "      <td>NaN</td>\n",
       "      <td>NaN</td>\n",
       "      <td>NaN</td>\n",
       "      <td>NaN</td>\n",
       "    </tr>\n",
       "    <tr>\n",
       "      <th>22034</th>\n",
       "      <td>41926.274578</td>\n",
       "      <td>3092.329219</td>\n",
       "      <td>39957.790229</td>\n",
       "      <td>0.0</td>\n",
       "      <td>0.5</td>\n",
       "      <td>0.5</td>\n",
       "      <td>37.950822</td>\n",
       "      <td>7.0</td>\n",
       "      <td>0.000000</td>\n",
       "      <td>2.121468</td>\n",
       "      <td>...</td>\n",
       "      <td>0</td>\n",
       "      <td>NaN</td>\n",
       "      <td>NaN</td>\n",
       "      <td>NaN</td>\n",
       "      <td>NaN</td>\n",
       "      <td>NaN</td>\n",
       "      <td>NaN</td>\n",
       "      <td>NaN</td>\n",
       "      <td>NaN</td>\n",
       "      <td>NaN</td>\n",
       "    </tr>\n",
       "  </tbody>\n",
       "</table>\n",
       "<p>5 rows × 34 columns</p>\n",
       "</div>"
      ],
      "text/plain": [
       "       distance_fire_stations  distance_roads  distance_powerlines  \\\n",
       "22030            12260.199835      500.000000         39374.007924   \n",
       "22031             8933.784193      790.569415         40380.998006   \n",
       "22032            56560.255480     6388.466170         23538.532240   \n",
       "22033            94191.294715    14637.281168         83236.485390   \n",
       "22034            41926.274578     3092.329219         39957.790229   \n",
       "\n",
       "       forest_unknown  herbaceous_vegetation  water      aspect  elevation  \\\n",
       "22030             0.0                    0.0    1.0  180.000000     -100.0   \n",
       "22031             0.0                    0.0    0.0   94.455603       70.0   \n",
       "22032             0.0                    0.0    0.0  135.574855      307.0   \n",
       "22033             0.0                    0.0    1.0  180.000000     -100.0   \n",
       "22034             0.0                    0.5    0.5   37.950822        7.0   \n",
       "\n",
       "       pop_dens      slope  ...  ignition  \\\n",
       "22030  1.123672   0.000000  ...         0   \n",
       "22031  1.374221   4.983265  ...         0   \n",
       "22032  0.000000  10.798985  ...         0   \n",
       "22033  0.000000   0.000000  ...         0   \n",
       "22034  0.000000   2.121468  ...         0   \n",
       "\n",
       "       vegetation_class_$herb$aceous_vegetation  vegetation_class_Forestt  \\\n",
       "22030                                       NaN                       NaN   \n",
       "22031                                       NaN                       NaN   \n",
       "22032                                       NaN                       NaN   \n",
       "22033                                       NaN                       NaN   \n",
       "22034                                       NaN                       NaN   \n",
       "\n",
       "       vegetation_class_forest  vegetation_class_herbaceous_vegetation  \\\n",
       "22030                      NaN                                     NaN   \n",
       "22031                      NaN                                     NaN   \n",
       "22032                      NaN                                     NaN   \n",
       "22033                      NaN                                     NaN   \n",
       "22034                      NaN                                     NaN   \n",
       "\n",
       "       vegetation_class_shrubland  vegetation_class_urban  \\\n",
       "22030                         NaN                     NaN   \n",
       "22031                         NaN                     NaN   \n",
       "22032                         NaN                     NaN   \n",
       "22033                         NaN                     NaN   \n",
       "22034                         NaN                     NaN   \n",
       "\n",
       "       vegetation_class_water  vegetation_class_wetland  vegetation_class_nan  \n",
       "22030                     NaN                       NaN                   NaN  \n",
       "22031                     NaN                       NaN                   NaN  \n",
       "22032                     NaN                       NaN                   NaN  \n",
       "22033                     NaN                       NaN                   NaN  \n",
       "22034                     NaN                       NaN                   NaN  \n",
       "\n",
       "[5 rows x 34 columns]"
      ]
     },
     "execution_count": 746,
     "metadata": {},
     "output_type": "execute_result"
    }
   ],
   "source": [
    "df[df.isna().any(axis=1)]"
   ]
  },
  {
   "cell_type": "code",
   "execution_count": 747,
   "metadata": {},
   "outputs": [],
   "source": [
    "df.dropna(inplace=True)"
   ]
  },
  {
   "cell_type": "code",
   "execution_count": 748,
   "metadata": {},
   "outputs": [],
   "source": [
    "### first, we will split our data into train and test\n",
    "\n",
    "from sklearn.model_selection import train_test_split\n",
    "\n",
    "X_train, X_test, y_train, y_test = train_test_split(df.drop('ignition', axis =1), df['ignition'],test_size = .25, random_state=33)\n",
    "\n",
    "cat_X_train = X_train.iloc[:,-9:]   # because stardization doesn't support cat variables, we will extract and add them later\n",
    "cat_X_test = X_test.iloc[:,-9:]\n",
    "\n",
    "continuous_X_train = X_train.loc[:, ~ X_train.columns.isin(cat_X_train.columns)]\n",
    "continuous_X_test = X_test.loc[:, ~ X_test.columns.isin(cat_X_test.columns)]"
   ]
  },
  {
   "cell_type": "markdown",
   "metadata": {},
   "source": [
    "#### 3.3. PCA"
   ]
  },
  {
   "cell_type": "code",
   "execution_count": 749,
   "metadata": {},
   "outputs": [],
   "source": [
    "### we will standardize our continuous variables  for pca\n",
    "\n",
    "from sklearn.preprocessing import StandardScaler\n",
    "\n",
    "scaler_1 =  StandardScaler().fit(continuous_X_train)   ### it fits only on train (mean and standard dev of train only)\n",
    "\n",
    "continuous_X_train_normalized_1  = scaler_1.transform(continuous_X_train )\n",
    "continuous_X_test_normalized_1 = scaler_1.transform(continuous_X_test)"
   ]
  },
  {
   "cell_type": "code",
   "execution_count": 750,
   "metadata": {},
   "outputs": [
    {
     "data": {
      "text/plain": [
       "{'herbaceous_vegetation': 4,\n",
       " 'aspect': 6,\n",
       " 'elevation': 7,\n",
       " 'anom_max_wind_vel': 11,\n",
       " 'anom_avg_temp': 12,\n",
       " 'anom_sum_prec': 15,\n",
       " 'avg_temp': 18,\n",
       " 'avg_wind_angle': 19,\n",
       " 'sum_prec': 22}"
      ]
     },
     "execution_count": 750,
     "metadata": {},
     "output_type": "execute_result"
    }
   ],
   "source": [
    "### get the desired features for pca \n",
    "dico ={}\n",
    "i=0\n",
    "for e in X_train.columns:\n",
    "    dico[e] = i\n",
    "    i+=1\n",
    "dico_2 = {}\n",
    "for e in pca_var:\n",
    "    dico_2[e] = dico[e]\n",
    "dico_2    "
   ]
  },
  {
   "cell_type": "code",
   "execution_count": 751,
   "metadata": {},
   "outputs": [],
   "source": [
    "### get the desired features for pca \n",
    "continuous_X_train_pca = continuous_X_train_normalized_1[:, [4,6,7,11,12,15,18,19,22]]   ### extract columns on which we will apply pca\n",
    "continuous_X_test_pca = continuous_X_test_normalized_1[:, [4,6,7,11,12,15,18,19,22]]"
   ]
  },
  {
   "cell_type": "code",
   "execution_count": 752,
   "metadata": {},
   "outputs": [],
   "source": [
    "### Apply PCA\n",
    "from sklearn.decomposition import PCA\n",
    "\n",
    "pca = PCA(n_components=9).fit(continuous_X_train_pca)\n",
    "pca_result_train = pca.transform(continuous_X_train_pca)\n",
    "pca_result_test = pca.transform(continuous_X_test_pca)"
   ]
  },
  {
   "cell_type": "code",
   "execution_count": 753,
   "metadata": {},
   "outputs": [
    {
     "data": {
      "image/png": "[encoded data removed]",
      "text/plain": [
       "<Figure size 800x600 with 1 Axes>"
      ]
     },
     "metadata": {},
     "output_type": "display_data"
    }
   ],
   "source": [
    "# Get the explained variance ratio\n",
    "explained_variance_ratio = pca.explained_variance_ratio_\n",
    "\n",
    "# Plot the explained variance for each component\n",
    "plt.figure(figsize=(8,6))\n",
    "plt.bar(range(1, len(explained_variance_ratio)+1), explained_variance_ratio, alpha=0.7, align='center', color='b', label='Individual Explained Variance')\n",
    "plt.step(range(1, len(explained_variance_ratio)+1), explained_variance_ratio.cumsum(), where='mid', linestyle='--', color='r', label='Cumulative Explained Variance')\n",
    "\n",
    "# Add labels and title\n",
    "plt.ylabel('Explained Variance Ratio')\n",
    "plt.xlabel('Principal Components')\n",
    "plt.title('Explained Variance by Principal Components')\n",
    "plt.legend(loc='best')\n",
    "plt.show()"
   ]
  },
  {
   "cell_type": "markdown",
   "metadata": {},
   "source": [
    "In this case, PCA is not very useful. Because, we don't have a component that explains most of the variance in our selected features. \n",
    "\n",
    "Next, we will just remove variables that verifies | Point-Biserial | < 0.11 which are :  `herbaceous_vegetation`, `aspect`,`elevation`,`anom_max_wind_vel`,`anom_avg_temp`, `avg_temp`, `avg_wind_angle`, `sum_prec`."
   ]
  },
  {
   "cell_type": "code",
   "execution_count": 754,
   "metadata": {},
   "outputs": [],
   "source": [
    "continuous_X_train_ = continuous_X_train.loc[:,~continuous_X_train.columns.isin(pca_var)]\n",
    "continuous_X_test_ = continuous_X_test.loc[:,~continuous_X_test.columns.isin(pca_var)]\n",
    "\n",
    "\n",
    "scaler_2 =  StandardScaler().fit(continuous_X_train_)   \n",
    "\n",
    "continuous_X_train_normalized_2  = scaler_2.transform(continuous_X_train_)\n",
    "continuous_X_test_normalized_2 = scaler_2.transform(continuous_X_test_)"
   ]
  },
  {
   "cell_type": "code",
   "execution_count": 755,
   "metadata": {},
   "outputs": [],
   "source": [
    "train_x = np.concatenate([continuous_X_train_normalized_2, cat_X_train.values], axis=1)\n",
    "test_x = np.concatenate([continuous_X_test_normalized_2, cat_X_test.values], axis=1)\n",
    "train_y = y_train.values\n",
    "test_y = y_test.values"
   ]
  },
  {
   "cell_type": "code",
   "execution_count": 756,
   "metadata": {},
   "outputs": [
    {
     "data": {
      "text/plain": [
       "ignition\n",
       "0    14067\n",
       "1     2451\n",
       "Name: count, dtype: int64"
      ]
     },
     "execution_count": 756,
     "metadata": {},
     "output_type": "execute_result"
    }
   ],
   "source": [
    "y_train.value_counts()"
   ]
  },
  {
   "cell_type": "markdown",
   "metadata": {},
   "source": [
    "### 4. Modeling & Evaluation"
   ]
  },
  {
   "cell_type": "code",
   "execution_count": 768,
   "metadata": {},
   "outputs": [],
   "source": [
    "from sklearn.metrics import roc_auc_score, roc_curve, precision_score, recall_score, f1_score, precision_recall_curve\n",
    "perf_dico = {}"
   ]
  },
  {
   "cell_type": "markdown",
   "metadata": {},
   "source": [
    "#### 4.1 Logistic Regression"
   ]
  },
  {
   "cell_type": "code",
   "execution_count": 767,
   "metadata": {},
   "outputs": [
    {
     "name": "stdout",
     "output_type": "stream",
     "text": [
      "ROC-AUC Score: 0.897\n"
     ]
    }
   ],
   "source": [
    "from sklearn.linear_model import LogisticRegression\n",
    "\n",
    "### Fitting\n",
    "\n",
    "log_reg = LogisticRegression(max_iter=10000)  \n",
    "log_reg.fit(train_x , train_y)\n",
    "\n",
    "### Predictions\n",
    "y_pred_lr = log_reg.predict(test_x)\n",
    "y_pred_proba_lr = log_reg.predict_proba(test_x)[:, 1]  # Probabilities for ROC-AUC\n",
    "\n",
    "### metrics for unbalanced data\n",
    "\n",
    "roc_auc_lr = roc_auc_score(test_y, y_pred_proba_lr)   ### The roc auc is adapted for unblanaced data + it doesn't depend on a specific treshhold \n",
    "\n",
    "precision_lr = precision_score(test_y, y_pred_lr)\n",
    "\n",
    "recall_lr = recall_score(test_y, y_pred_lr)\n",
    "\n",
    "\n",
    "# Display the metrics\n",
    "\n",
    "print(f\"ROC-AUC Score: {round(roc_auc_lr, 3)}\")"
   ]
  },
  {
   "cell_type": "code",
   "execution_count": 759,
   "metadata": {},
   "outputs": [
    {
     "data": {
      "image/png": "[encoded data removed]",
      "text/plain": [
       "<Figure size 800x600 with 1 Axes>"
      ]
     },
     "metadata": {},
     "output_type": "display_data"
    }
   ],
   "source": [
    "### let's plot the roc curve \n",
    "fpr, tpr, thresholds = roc_curve(test_y, y_pred_proba)\n",
    "plt.figure(figsize=(8,6))\n",
    "plt.plot(fpr, tpr, label=f\"ROC curve (area = {roc_auc:.2f})\", color='darkorange')\n",
    "plt.plot([0, 1], [0, 1], color='navy', linestyle='--')\n",
    "plt.xlabel('False Positive Rate')\n",
    "plt.ylabel('True Positive Rate')\n",
    "plt.title('Receiver Operating Characteristic (ROC) Curve')\n",
    "plt.legend(loc=\"lower right\")\n",
    "plt.show()"
   ]
  },
  {
   "cell_type": "markdown",
   "metadata": {},
   "source": [
    "##### 4.1.1. Analysis 1 \n",
    "\n",
    "The Roc Auc is the best metric here because it doesn't depend on a specific treshold to split classes based on the probability and also it is adapted for unbalanced dataset.  \n",
    "\n",
    "Next, we will look for the best treshold that maximize the precision and the recall. "
   ]
  },
  {
   "cell_type": "code",
   "execution_count": 642,
   "metadata": {},
   "outputs": [],
   "source": [
    "# Calculate precision, recall, and thresholds\n",
    "precision, recall, thresholds = precision_recall_curve(test_y, y_pred_proba)\n",
    "\n",
    "# Calculate F1 scores for each threshold\n",
    "f1_scores = 2 * (precision * recall) / (precision + recall)"
   ]
  },
  {
   "cell_type": "code",
   "execution_count": 647,
   "metadata": {},
   "outputs": [
    {
     "data": {
      "image/png": "[encoded data removed]",
      "text/plain": [
       "<Figure size 1000x600 with 1 Axes>"
      ]
     },
     "metadata": {},
     "output_type": "display_data"
    }
   ],
   "source": [
    "# Plot F1 Score, Precision, and Recall against thresholds\n",
    "plt.figure(figsize=(10, 6))\n",
    "plt.plot(thresholds, f1_scores[:-1], label='F1 Score')\n",
    "plt.plot(thresholds, precision[:-1], label='Precision', alpha=0.7)\n",
    "plt.plot(thresholds, recall[:-1], label='Recall', alpha=0.7)\n",
    "\n",
    "# Highlight the optimal threshold\n",
    "plt.xlabel('Threshold')\n",
    "plt.ylabel('Score')\n",
    "plt.title('F1 Score, Precision, and Recall vs Threshold')\n",
    "plt.legend()\n",
    "plt.grid()\n",
    "plt.show()"
   ]
  },
  {
   "cell_type": "markdown",
   "metadata": {},
   "source": [
    "##### 4.1.2. Analysis 2\n",
    "\n",
    "The roc auc is around 0.9 which is treshold independant. Depends on the purpose of our model; we will: \n",
    " * Choose the treshold with the highest precision, the model will predict correcly all ignition points at a high precision.\n",
    " * Choose the treshold with the highest recall, the model will predict correcly all non-ignition points at a high precision.\n",
    " * Choose the treshold that maximizes the trade off between precision and recall which is the F1 Score.  "
   ]
  },
  {
   "cell_type": "markdown",
   "metadata": {},
   "source": [
    "##### 4.1.3. Explainability"
   ]
  },
  {
   "cell_type": "code",
   "execution_count": 688,
   "metadata": {},
   "outputs": [
    {
     "data": {
      "text/plain": [
       "array([-0.18180094, -2.20351588, -0.43516881,  0.19906606, -0.03100665,\n",
       "        0.10050626,  0.22457812,  0.03820549,  0.07811869, -0.30261128,\n",
       "        0.4426725 ,  0.23576596, -0.39679566, -0.18826646,  0.00609284,\n",
       "       -0.05276199,  0.44212625,  0.45513413,  0.23545794,  0.47537752,\n",
       "        0.10334894, -1.38396753,  0.71729732, -0.99993938])"
      ]
     },
     "execution_count": 688,
     "metadata": {},
     "output_type": "execute_result"
    }
   ],
   "source": [
    "coefficients = log_reg.coef_[0] \n",
    "coefficients"
   ]
  },
  {
   "cell_type": "code",
   "execution_count": 701,
   "metadata": {},
   "outputs": [
    {
     "data": {
      "text/html": [
       "<div>\n",
       "<style scoped>\n",
       "    .dataframe tbody tr th:only-of-type {\n",
       "        vertical-align: middle;\n",
       "    }\n",
       "\n",
       "    .dataframe tbody tr th {\n",
       "        vertical-align: top;\n",
       "    }\n",
       "\n",
       "    .dataframe thead th {\n",
       "        text-align: right;\n",
       "    }\n",
       "</style>\n",
       "<table border=\"1\" class=\"dataframe\">\n",
       "  <thead>\n",
       "    <tr style=\"text-align: right;\">\n",
       "      <th></th>\n",
       "      <th>Feature</th>\n",
       "      <th>Coefficient</th>\n",
       "      <th>Coefficient_ABS</th>\n",
       "    </tr>\n",
       "  </thead>\n",
       "  <tbody>\n",
       "    <tr>\n",
       "      <th>1</th>\n",
       "      <td>distance_roads</td>\n",
       "      <td>-2.203516</td>\n",
       "      <td>2.203516</td>\n",
       "    </tr>\n",
       "    <tr>\n",
       "      <th>21</th>\n",
       "      <td>vegetation_class_water</td>\n",
       "      <td>-1.383968</td>\n",
       "      <td>1.383968</td>\n",
       "    </tr>\n",
       "    <tr>\n",
       "      <th>23</th>\n",
       "      <td>vegetation_class_nan</td>\n",
       "      <td>-0.999939</td>\n",
       "      <td>0.999939</td>\n",
       "    </tr>\n",
       "    <tr>\n",
       "      <th>22</th>\n",
       "      <td>vegetation_class_wetland</td>\n",
       "      <td>0.717297</td>\n",
       "      <td>0.717297</td>\n",
       "    </tr>\n",
       "    <tr>\n",
       "      <th>19</th>\n",
       "      <td>vegetation_class_shrubland</td>\n",
       "      <td>0.475378</td>\n",
       "      <td>0.475378</td>\n",
       "    </tr>\n",
       "    <tr>\n",
       "      <th>17</th>\n",
       "      <td>vegetation_class_forest</td>\n",
       "      <td>0.455134</td>\n",
       "      <td>0.455134</td>\n",
       "    </tr>\n",
       "    <tr>\n",
       "      <th>10</th>\n",
       "      <td>max_temp</td>\n",
       "      <td>0.442673</td>\n",
       "      <td>0.442673</td>\n",
       "    </tr>\n",
       "    <tr>\n",
       "      <th>16</th>\n",
       "      <td>vegetation_class_Forestt</td>\n",
       "      <td>0.442126</td>\n",
       "      <td>0.442126</td>\n",
       "    </tr>\n",
       "    <tr>\n",
       "      <th>2</th>\n",
       "      <td>distance_powerlines</td>\n",
       "      <td>-0.435169</td>\n",
       "      <td>0.435169</td>\n",
       "    </tr>\n",
       "    <tr>\n",
       "      <th>12</th>\n",
       "      <td>avg_rel_hum</td>\n",
       "      <td>-0.396796</td>\n",
       "      <td>0.396796</td>\n",
       "    </tr>\n",
       "    <tr>\n",
       "      <th>9</th>\n",
       "      <td>anom_avg_soil</td>\n",
       "      <td>-0.302611</td>\n",
       "      <td>0.302611</td>\n",
       "    </tr>\n",
       "    <tr>\n",
       "      <th>11</th>\n",
       "      <td>max_wind_vel</td>\n",
       "      <td>0.235766</td>\n",
       "      <td>0.235766</td>\n",
       "    </tr>\n",
       "    <tr>\n",
       "      <th>18</th>\n",
       "      <td>vegetation_class_herbaceous_vegetation</td>\n",
       "      <td>0.235458</td>\n",
       "      <td>0.235458</td>\n",
       "    </tr>\n",
       "    <tr>\n",
       "      <th>6</th>\n",
       "      <td>slope</td>\n",
       "      <td>0.224578</td>\n",
       "      <td>0.224578</td>\n",
       "    </tr>\n",
       "    <tr>\n",
       "      <th>3</th>\n",
       "      <td>forest_unknown</td>\n",
       "      <td>0.199066</td>\n",
       "      <td>0.199066</td>\n",
       "    </tr>\n",
       "    <tr>\n",
       "      <th>13</th>\n",
       "      <td>avg_soil</td>\n",
       "      <td>-0.188266</td>\n",
       "      <td>0.188266</td>\n",
       "    </tr>\n",
       "    <tr>\n",
       "      <th>0</th>\n",
       "      <td>distance_fire_stations</td>\n",
       "      <td>-0.181801</td>\n",
       "      <td>0.181801</td>\n",
       "    </tr>\n",
       "    <tr>\n",
       "      <th>20</th>\n",
       "      <td>vegetation_class_urban</td>\n",
       "      <td>0.103349</td>\n",
       "      <td>0.103349</td>\n",
       "    </tr>\n",
       "    <tr>\n",
       "      <th>5</th>\n",
       "      <td>pop_dens</td>\n",
       "      <td>0.100506</td>\n",
       "      <td>0.100506</td>\n",
       "    </tr>\n",
       "    <tr>\n",
       "      <th>8</th>\n",
       "      <td>anom_avg_rel_hum</td>\n",
       "      <td>0.078119</td>\n",
       "      <td>0.078119</td>\n",
       "    </tr>\n",
       "    <tr>\n",
       "      <th>15</th>\n",
       "      <td>vegetation_class_$herb$aceous_vegetation</td>\n",
       "      <td>-0.052762</td>\n",
       "      <td>0.052762</td>\n",
       "    </tr>\n",
       "    <tr>\n",
       "      <th>7</th>\n",
       "      <td>anom_max_temp</td>\n",
       "      <td>0.038205</td>\n",
       "      <td>0.038205</td>\n",
       "    </tr>\n",
       "    <tr>\n",
       "      <th>4</th>\n",
       "      <td>water</td>\n",
       "      <td>-0.031007</td>\n",
       "      <td>0.031007</td>\n",
       "    </tr>\n",
       "    <tr>\n",
       "      <th>14</th>\n",
       "      <td>forest</td>\n",
       "      <td>0.006093</td>\n",
       "      <td>0.006093</td>\n",
       "    </tr>\n",
       "  </tbody>\n",
       "</table>\n",
       "</div>"
      ],
      "text/plain": [
       "                                     Feature  Coefficient  Coefficient_ABS\n",
       "1                             distance_roads    -2.203516         2.203516\n",
       "21                    vegetation_class_water    -1.383968         1.383968\n",
       "23                      vegetation_class_nan    -0.999939         0.999939\n",
       "22                  vegetation_class_wetland     0.717297         0.717297\n",
       "19                vegetation_class_shrubland     0.475378         0.475378\n",
       "17                   vegetation_class_forest     0.455134         0.455134\n",
       "10                                  max_temp     0.442673         0.442673\n",
       "16                  vegetation_class_Forestt     0.442126         0.442126\n",
       "2                        distance_powerlines    -0.435169         0.435169\n",
       "12                               avg_rel_hum    -0.396796         0.396796\n",
       "9                              anom_avg_soil    -0.302611         0.302611\n",
       "11                              max_wind_vel     0.235766         0.235766\n",
       "18    vegetation_class_herbaceous_vegetation     0.235458         0.235458\n",
       "6                                      slope     0.224578         0.224578\n",
       "3                             forest_unknown     0.199066         0.199066\n",
       "13                                  avg_soil    -0.188266         0.188266\n",
       "0                     distance_fire_stations    -0.181801         0.181801\n",
       "20                    vegetation_class_urban     0.103349         0.103349\n",
       "5                                   pop_dens     0.100506         0.100506\n",
       "8                           anom_avg_rel_hum     0.078119         0.078119\n",
       "15  vegetation_class_$herb$aceous_vegetation    -0.052762         0.052762\n",
       "7                              anom_max_temp     0.038205         0.038205\n",
       "4                                      water    -0.031007         0.031007\n",
       "14                                    forest     0.006093         0.006093"
      ]
     },
     "execution_count": 701,
     "metadata": {},
     "output_type": "execute_result"
    }
   ],
   "source": [
    "coef_df = pd.DataFrame({\n",
    "    'Feature': pd.concat([continuous_X_train_, cat_X_train], axis=1).columns,\n",
    "    'Coefficient': coefficients\n",
    "})\n",
    "coef_df['Coefficient_ABS'] = coef_df['Coefficient'].abs()\n",
    "coef_df = coef_df.sort_values(by='Coefficient_ABS', ascending=False)\n",
    "coef_df "
   ]
  },
  {
   "cell_type": "code",
   "execution_count": 703,
   "metadata": {},
   "outputs": [
    {
     "data": {
      "image/png": "[encoded data removed]",
      "text/plain": [
       "<Figure size 1000x600 with 1 Axes>"
      ]
     },
     "metadata": {},
     "output_type": "display_data"
    }
   ],
   "source": [
    "plt.figure(figsize=(10, 6))\n",
    "plt.barh(coef_df['Feature'], coef_df['Coefficient_ABS'], color='b')  # Horizontal bar plot\n",
    "plt.xlabel('Coefficient Value')\n",
    "plt.ylabel('Feature')\n",
    "plt.title('Logistic Regression Coefficients')\n",
    "plt.grid(True)\n",
    "plt.tight_layout()\n",
    "plt.show()"
   ]
  },
  {
   "cell_type": "code",
   "execution_count": 705,
   "metadata": {},
   "outputs": [
    {
     "data": {
      "text/plain": [
       "Index(['distance_fire_stations', 'distance_roads', 'distance_powerlines',\n",
       "       'forest_unknown', 'water', 'pop_dens', 'slope', 'anom_max_temp',\n",
       "       'anom_avg_rel_hum', 'anom_avg_soil', 'max_temp', 'max_wind_vel',\n",
       "       'avg_rel_hum', 'avg_soil', 'forest',\n",
       "       'vegetation_class_$herb$aceous_vegetation', 'vegetation_class_Forestt',\n",
       "       'vegetation_class_forest', 'vegetation_class_herbaceous_vegetation',\n",
       "       'vegetation_class_shrubland', 'vegetation_class_urban',\n",
       "       'vegetation_class_water', 'vegetation_class_wetland',\n",
       "       'vegetation_class_nan'],\n",
       "      dtype='object')"
      ]
     },
     "execution_count": 705,
     "metadata": {},
     "output_type": "execute_result"
    }
   ],
   "source": [
    " pd.concat([continuous_X_train_, cat_X_train], axis=1).columns"
   ]
  },
  {
   "cell_type": "markdown",
   "metadata": {},
   "source": [
    "##### Model interpretation\n",
    "\n",
    "* Like the point beserial correlation analysis performed in feature selection section, `distance_roads` `max_temp` and `distance_powerlines` are variables with the bigest weight in our logistic regression model among the continuous variables.\n",
    "\n",
    "* `vegetation_class_{class}` have also the bigest weight in the logistic regression and thus, explain the most the ignition decision"
   ]
  },
  {
   "cell_type": "markdown",
   "metadata": {},
   "source": [
    "#### 4.2. Decision Tree "
   ]
  },
  {
   "cell_type": "code",
   "execution_count": 765,
   "metadata": {},
   "outputs": [
    {
     "name": "stdout",
     "output_type": "stream",
     "text": [
      "Decision Tree ROC-AUC Score: 0.761\n"
     ]
    }
   ],
   "source": [
    "from sklearn.tree import DecisionTreeClassifier\n",
    "from sklearn.metrics import roc_auc_score\n",
    "\n",
    "# Initialize Decision Tree\n",
    "dt_clf = DecisionTreeClassifier(random_state=42)\n",
    "\n",
    "# Fit the model\n",
    "dt_clf.fit(train_x, train_y)\n",
    "\n",
    "# Make predictions\n",
    "y_pred_dt = dt_clf.predict(test_x)\n",
    "y_pred_proba_dt = dt_clf.predict_proba(test_x)[:, 1]  # Probabilities for ROC-AUC\n",
    "\n",
    "# Compute ROC-AUC score (adapted for unbalanced data)\n",
    "roc_auc_dt = roc_auc_score(test_y, y_pred_proba_dt)\n",
    "\n",
    "precision_dt = precision_score(test_y, y_pred_dt)\n",
    "\n",
    "recall_dt = recall_score(test_y, y_pred_dt)\n",
    "\n",
    "# Display the ROC-AUC score\n",
    "print(f\"Decision Tree ROC-AUC Score: {round(roc_auc_dt, 3)}\")"
   ]
  },
  {
   "cell_type": "markdown",
   "metadata": {},
   "source": [
    "#### 4.3 Random Forest - Bagging"
   ]
  },
  {
   "cell_type": "code",
   "execution_count": 764,
   "metadata": {},
   "outputs": [
    {
     "name": "stdout",
     "output_type": "stream",
     "text": [
      "Random Forest ROC-AUC Score: 0.953\n"
     ]
    }
   ],
   "source": [
    "from sklearn.ensemble import RandomForestClassifier\n",
    "from sklearn.metrics import roc_auc_score\n",
    "\n",
    "rf_clf = RandomForestClassifier(n_estimators=100, max_depth=None, random_state=42)\n",
    "\n",
    "\n",
    "rf_clf.fit(train_x, train_y)\n",
    "\n",
    "\n",
    "y_pred_rf = rf_clf.predict(test_x)\n",
    "y_pred_proba_rf = rf_clf.predict_proba(test_x)[:, 1]  # Probabilities for ROC-AUC\n",
    "\n",
    "\n",
    "roc_auc_rf = roc_auc_score(test_y, y_pred_proba_rf)\n",
    "\n",
    "precision_rf = precision_score(test_y, y_pred_rf)\n",
    "\n",
    "recall_rf = recall_score(test_y,y_pred_rf)\n",
    "\n",
    "\n",
    "print(f\"Random Forest ROC-AUC Score: {round(roc_auc_rf, 3)}\")"
   ]
  },
  {
   "cell_type": "markdown",
   "metadata": {},
   "source": [
    "#### 4.4 Gradient Boosting- Boosting"
   ]
  },
  {
   "cell_type": "code",
   "execution_count": 766,
   "metadata": {},
   "outputs": [
    {
     "name": "stdout",
     "output_type": "stream",
     "text": [
      "Gradient Boosting ROC-AUC Score: 0.944\n"
     ]
    }
   ],
   "source": [
    "from sklearn.ensemble import GradientBoostingClassifier\n",
    "from sklearn.metrics import roc_auc_score\n",
    "\n",
    "# Initialize Gradient Boosting\n",
    "gb_clf = GradientBoostingClassifier(random_state=42)\n",
    "\n",
    "# Fit the model\n",
    "gb_clf.fit(train_x, train_y)\n",
    "\n",
    "# Make predictions\n",
    "y_pred_gb = gb_clf.predict(test_x)\n",
    "y_pred_proba_gb = gb_clf.predict_proba(test_x)[:, 1]  # Probabilities for ROC-AUC\n",
    "\n",
    "# Compute ROC-AUC score (adapted for unbalanced data)\n",
    "roc_auc_gb = roc_auc_score(test_y, y_pred_proba_gb)\n",
    "\n",
    "precision_gb  = precision_score(test_y, y_pred_gb )\n",
    "\n",
    "recall_gb  = recall_score(test_y,y_pred_gb )\n",
    "\n",
    "# Display the ROC-AUC score\n",
    "print(f\"Gradient Boosting ROC-AUC Score: {round(roc_auc_gb, 3)}\")"
   ]
  },
  {
   "cell_type": "markdown",
   "metadata": {},
   "source": [
    "#### 4.4. Conclusion  "
   ]
  },
  {
   "cell_type": "code",
   "execution_count": 769,
   "metadata": {},
   "outputs": [],
   "source": [
    "perf_dico['ROC_AUC'] = [roc_auc_lr,roc_auc_dt, roc_auc_rf, roc_auc_gb]\n",
    "perf_dico['Precision'] = [precision_lr,precision_dt, precision_rf, precision_gb]\n",
    "perf_dico['Recall'] = [recall_lr,recall_dt, recall_rf, recall_gb]"
   ]
  },
  {
   "cell_type": "code",
   "execution_count": 771,
   "metadata": {},
   "outputs": [
    {
     "data": {
      "text/html": [
       "<div>\n",
       "<style scoped>\n",
       "    .dataframe tbody tr th:only-of-type {\n",
       "        vertical-align: middle;\n",
       "    }\n",
       "\n",
       "    .dataframe tbody tr th {\n",
       "        vertical-align: top;\n",
       "    }\n",
       "\n",
       "    .dataframe thead th {\n",
       "        text-align: right;\n",
       "    }\n",
       "</style>\n",
       "<table border=\"1\" class=\"dataframe\">\n",
       "  <thead>\n",
       "    <tr style=\"text-align: right;\">\n",
       "      <th></th>\n",
       "      <th>ROC_AUC</th>\n",
       "      <th>Precision</th>\n",
       "      <th>Recall</th>\n",
       "    </tr>\n",
       "  </thead>\n",
       "  <tbody>\n",
       "    <tr>\n",
       "      <th>Logistic Regression</th>\n",
       "      <td>0.897112</td>\n",
       "      <td>0.636555</td>\n",
       "      <td>0.348677</td>\n",
       "    </tr>\n",
       "    <tr>\n",
       "      <th>Decision Tree</th>\n",
       "      <td>0.761390</td>\n",
       "      <td>0.603730</td>\n",
       "      <td>0.596087</td>\n",
       "    </tr>\n",
       "    <tr>\n",
       "      <th>Random Forest</th>\n",
       "      <td>0.953044</td>\n",
       "      <td>0.791118</td>\n",
       "      <td>0.553510</td>\n",
       "    </tr>\n",
       "    <tr>\n",
       "      <th>Gradient Boosting</th>\n",
       "      <td>0.943895</td>\n",
       "      <td>0.716463</td>\n",
       "      <td>0.540852</td>\n",
       "    </tr>\n",
       "  </tbody>\n",
       "</table>\n",
       "</div>"
      ],
      "text/plain": [
       "                      ROC_AUC  Precision    Recall\n",
       "Logistic Regression  0.897112   0.636555  0.348677\n",
       "Decision Tree        0.761390   0.603730  0.596087\n",
       "Random Forest        0.953044   0.791118  0.553510\n",
       "Gradient Boosting    0.943895   0.716463  0.540852"
      ]
     },
     "execution_count": 771,
     "metadata": {},
     "output_type": "execute_result"
    }
   ],
   "source": [
    "df = pd.DataFrame(perf_dico, index = ['Logistic Regression','Decision Tree', 'Random Forest', 'Gradient Boosting' ])\n",
    "df"
   ]
  },
  {
   "cell_type": "markdown",
   "metadata": {},
   "source": [
    "* Because, we have unbalanced data, accuracy is not the proper metric\n",
    "* Roc Auc, precision and recall are complementary metrics that should carefully be analyzed.\n",
    "* If we want to maximize the precision of our forecast, which means the model predicts ignition (1) at a high certainty, random forest is the best model. "
   ]
  }
 ],
 "metadata": {
  "kernelspec": {
   "display_name": "Python 3",
   "language": "python",
   "name": "python3"
  },
  "language_info": {
   "codemirror_mode": {
    "name": "ipython",
    "version": 3
   },
   "file_extension": ".py",
   "mimetype": "text/x-python",
   "name": "python",
   "nbconvert_exporter": "python",
   "pygments_lexer": "ipython3",
   "version": "3.8.5"
  }
 },
 "nbformat": 4,
 "nbformat_minor": 5
}
