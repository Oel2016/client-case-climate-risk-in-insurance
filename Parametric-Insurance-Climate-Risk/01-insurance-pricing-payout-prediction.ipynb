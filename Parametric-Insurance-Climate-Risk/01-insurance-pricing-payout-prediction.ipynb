{
 "cells": [
  {
   "cell_type": "markdown",
   "metadata": {},
   "source": [
    "# Pricing : excess of rain cover"
   ]
  },
  {
   "cell_type": "code",
   "execution_count": 1,
   "metadata": {},
   "outputs": [],
   "source": [
    "from pathlib import Path\n",
    "import pandas as pd\n",
    "import numpy as np\n",
    "import xarray as xr\n",
    "from numpy.testing import assert_allclose\n",
    "import matplotlib.pyplot as plt\n",
    "\n",
    "%reload_ext autoreload\n",
    "%autoreload 2"
   ]
  },
  {
   "cell_type": "markdown",
   "metadata": {},
   "source": [
    "# Context"
   ]
  },
  {
   "cell_type": "markdown",
   "metadata": {},
   "source": [
    "The client is looking to be covered against excess of rain.\n",
    "\n",
    "we will first manipulate rasters and then use historical data to understand the risk."
   ]
  },
  {
   "cell_type": "markdown",
   "metadata": {},
   "source": [
    "# 1. Parameters"
   ]
  },
  {
   "cell_type": "code",
   "execution_count": 2,
   "metadata": {},
   "outputs": [],
   "source": [
    "DATA_PATH = Path(\"data\")\n",
    "RASTERS_PATH = DATA_PATH / \"rasters\""
   ]
  },
  {
   "cell_type": "markdown",
   "metadata": {},
   "source": [
    "# 2. Data"
   ]
  },
  {
   "cell_type": "markdown",
   "metadata": {},
   "source": [
    "## 2.1 Load data"
   ]
  },
  {
   "cell_type": "code",
   "execution_count": 3,
   "metadata": {},
   "outputs": [],
   "source": [
    "vegetation_path = RASTERS_PATH / \"vegetation.nc\"\n",
    "precipitation_path = RASTERS_PATH / \"precipitation.nc\""
   ]
  },
  {
   "cell_type": "code",
   "execution_count": 4,
   "metadata": {},
   "outputs": [],
   "source": [
    "vegetation_xr = xr.load_dataset(vegetation_path)\n",
    "precipitation_xr = xr.load_dataset(precipitation_path)"
   ]
  },
  {
   "cell_type": "code",
   "execution_count": 8,
   "metadata": {},
   "outputs": [
    {
     "data": {
      "text/html": [
       "<div><svg style=\"position: absolute; width: 0; height: 0; overflow: hidden\">\n",
       "<defs>\n",
       "<symbol id=\"icon-database\" viewBox=\"0 0 32 32\">\n",
       "<path d=\"M16 0c-8.837 0-16 2.239-16 5v4c0 2.761 7.163 5 16 5s16-2.239 16-5v-4c0-2.761-7.163-5-16-5z\"></path>\n",
       "<path d=\"M16 17c-8.837 0-16-2.239-16-5v6c0 2.761 7.163 5 16 5s16-2.239 16-5v-6c0 2.761-7.163 5-16 5z\"></path>\n",
       "<path d=\"M16 26c-8.837 0-16-2.239-16-5v6c0 2.761 7.163 5 16 5s16-2.239 16-5v-6c0 2.761-7.163 5-16 5z\"></path>\n",
       "</symbol>\n",
       "<symbol id=\"icon-file-text2\" viewBox=\"0 0 32 32\">\n",
       "<path d=\"M28.681 7.159c-0.694-0.947-1.662-2.053-2.724-3.116s-2.169-2.030-3.116-2.724c-1.612-1.182-2.393-1.319-2.841-1.319h-15.5c-1.378 0-2.5 1.121-2.5 2.5v27c0 1.378 1.122 2.5 2.5 2.5h23c1.378 0 2.5-1.122 2.5-2.5v-19.5c0-0.448-0.137-1.23-1.319-2.841zM24.543 5.457c0.959 0.959 1.712 1.825 2.268 2.543h-4.811v-4.811c0.718 0.556 1.584 1.309 2.543 2.268zM28 29.5c0 0.271-0.229 0.5-0.5 0.5h-23c-0.271 0-0.5-0.229-0.5-0.5v-27c0-0.271 0.229-0.5 0.5-0.5 0 0 15.499-0 15.5 0v7c0 0.552 0.448 1 1 1h7v19.5z\"></path>\n",
       "<path d=\"M23 26h-14c-0.552 0-1-0.448-1-1s0.448-1 1-1h14c0.552 0 1 0.448 1 1s-0.448 1-1 1z\"></path>\n",
       "<path d=\"M23 22h-14c-0.552 0-1-0.448-1-1s0.448-1 1-1h14c0.552 0 1 0.448 1 1s-0.448 1-1 1z\"></path>\n",
       "<path d=\"M23 18h-14c-0.552 0-1-0.448-1-1s0.448-1 1-1h14c0.552 0 1 0.448 1 1s-0.448 1-1 1z\"></path>\n",
       "</symbol>\n",
       "</defs>\n",
       "</svg>\n",
       "<style>/* CSS stylesheet for displaying xarray objects in jupyterlab.\n",
       " *\n",
       " */\n",
       "\n",
       ":root {\n",
       "  --xr-font-color0: var(--jp-content-font-color0, rgba(0, 0, 0, 1));\n",
       "  --xr-font-color2: var(--jp-content-font-color2, rgba(0, 0, 0, 0.54));\n",
       "  --xr-font-color3: var(--jp-content-font-color3, rgba(0, 0, 0, 0.38));\n",
       "  --xr-border-color: var(--jp-border-color2, #e0e0e0);\n",
       "  --xr-disabled-color: var(--jp-layout-color3, #bdbdbd);\n",
       "  --xr-background-color: var(--jp-layout-color0, white);\n",
       "  --xr-background-color-row-even: var(--jp-layout-color1, white);\n",
       "  --xr-background-color-row-odd: var(--jp-layout-color2, #eeeeee);\n",
       "}\n",
       "\n",
       "html[theme=dark],\n",
       "body[data-theme=dark],\n",
       "body.vscode-dark {\n",
       "  --xr-font-color0: rgba(255, 255, 255, 1);\n",
       "  --xr-font-color2: rgba(255, 255, 255, 0.54);\n",
       "  --xr-font-color3: rgba(255, 255, 255, 0.38);\n",
       "  --xr-border-color: #1F1F1F;\n",
       "  --xr-disabled-color: #515151;\n",
       "  --xr-background-color: #111111;\n",
       "  --xr-background-color-row-even: #111111;\n",
       "  --xr-background-color-row-odd: #313131;\n",
       "}\n",
       "\n",
       ".xr-wrap {\n",
       "  display: block !important;\n",
       "  min-width: 300px;\n",
       "  max-width: 700px;\n",
       "}\n",
       "\n",
       ".xr-text-repr-fallback {\n",
       "  /* fallback to plain text repr when CSS is not injected (untrusted notebook) */\n",
       "  display: none;\n",
       "}\n",
       "\n",
       ".xr-header {\n",
       "  padding-top: 6px;\n",
       "  padding-bottom: 6px;\n",
       "  margin-bottom: 4px;\n",
       "  border-bottom: solid 1px var(--xr-border-color);\n",
       "}\n",
       "\n",
       ".xr-header > div,\n",
       ".xr-header > ul {\n",
       "  display: inline;\n",
       "  margin-top: 0;\n",
       "  margin-bottom: 0;\n",
       "}\n",
       "\n",
       ".xr-obj-type,\n",
       ".xr-array-name {\n",
       "  margin-left: 2px;\n",
       "  margin-right: 10px;\n",
       "}\n",
       "\n",
       ".xr-obj-type {\n",
       "  color: var(--xr-font-color2);\n",
       "}\n",
       "\n",
       ".xr-sections {\n",
       "  padding-left: 0 !important;\n",
       "  display: grid;\n",
       "  grid-template-columns: 150px auto auto 1fr 20px 20px;\n",
       "}\n",
       "\n",
       ".xr-section-item {\n",
       "  display: contents;\n",
       "}\n",
       "\n",
       ".xr-section-item input {\n",
       "  display: none;\n",
       "}\n",
       "\n",
       ".xr-section-item input + label {\n",
       "  color: var(--xr-disabled-color);\n",
       "}\n",
       "\n",
       ".xr-section-item input:enabled + label {\n",
       "  cursor: pointer;\n",
       "  color: var(--xr-font-color2);\n",
       "}\n",
       "\n",
       ".xr-section-item input:enabled + label:hover {\n",
       "  color: var(--xr-font-color0);\n",
       "}\n",
       "\n",
       ".xr-section-summary {\n",
       "  grid-column: 1;\n",
       "  color: var(--xr-font-color2);\n",
       "  font-weight: 500;\n",
       "}\n",
       "\n",
       ".xr-section-summary > span {\n",
       "  display: inline-block;\n",
       "  padding-left: 0.5em;\n",
       "}\n",
       "\n",
       ".xr-section-summary-in:disabled + label {\n",
       "  color: var(--xr-font-color2);\n",
       "}\n",
       "\n",
       ".xr-section-summary-in + label:before {\n",
       "  display: inline-block;\n",
       "  content: '►';\n",
       "  font-size: 11px;\n",
       "  width: 15px;\n",
       "  text-align: center;\n",
       "}\n",
       "\n",
       ".xr-section-summary-in:disabled + label:before {\n",
       "  color: var(--xr-disabled-color);\n",
       "}\n",
       "\n",
       ".xr-section-summary-in:checked + label:before {\n",
       "  content: '▼';\n",
       "}\n",
       "\n",
       ".xr-section-summary-in:checked + label > span {\n",
       "  display: none;\n",
       "}\n",
       "\n",
       ".xr-section-summary,\n",
       ".xr-section-inline-details {\n",
       "  padding-top: 4px;\n",
       "  padding-bottom: 4px;\n",
       "}\n",
       "\n",
       ".xr-section-inline-details {\n",
       "  grid-column: 2 / -1;\n",
       "}\n",
       "\n",
       ".xr-section-details {\n",
       "  display: none;\n",
       "  grid-column: 1 / -1;\n",
       "  margin-bottom: 5px;\n",
       "}\n",
       "\n",
       ".xr-section-summary-in:checked ~ .xr-section-details {\n",
       "  display: contents;\n",
       "}\n",
       "\n",
       ".xr-array-wrap {\n",
       "  grid-column: 1 / -1;\n",
       "  display: grid;\n",
       "  grid-template-columns: 20px auto;\n",
       "}\n",
       "\n",
       ".xr-array-wrap > label {\n",
       "  grid-column: 1;\n",
       "  vertical-align: top;\n",
       "}\n",
       "\n",
       ".xr-preview {\n",
       "  color: var(--xr-font-color3);\n",
       "}\n",
       "\n",
       ".xr-array-preview,\n",
       ".xr-array-data {\n",
       "  padding: 0 5px !important;\n",
       "  grid-column: 2;\n",
       "}\n",
       "\n",
       ".xr-array-data,\n",
       ".xr-array-in:checked ~ .xr-array-preview {\n",
       "  display: none;\n",
       "}\n",
       "\n",
       ".xr-array-in:checked ~ .xr-array-data,\n",
       ".xr-array-preview {\n",
       "  display: inline-block;\n",
       "}\n",
       "\n",
       ".xr-dim-list {\n",
       "  display: inline-block !important;\n",
       "  list-style: none;\n",
       "  padding: 0 !important;\n",
       "  margin: 0;\n",
       "}\n",
       "\n",
       ".xr-dim-list li {\n",
       "  display: inline-block;\n",
       "  padding: 0;\n",
       "  margin: 0;\n",
       "}\n",
       "\n",
       ".xr-dim-list:before {\n",
       "  content: '(';\n",
       "}\n",
       "\n",
       ".xr-dim-list:after {\n",
       "  content: ')';\n",
       "}\n",
       "\n",
       ".xr-dim-list li:not(:last-child):after {\n",
       "  content: ',';\n",
       "  padding-right: 5px;\n",
       "}\n",
       "\n",
       ".xr-has-index {\n",
       "  font-weight: bold;\n",
       "}\n",
       "\n",
       ".xr-var-list,\n",
       ".xr-var-item {\n",
       "  display: contents;\n",
       "}\n",
       "\n",
       ".xr-var-item > div,\n",
       ".xr-var-item label,\n",
       ".xr-var-item > .xr-var-name span {\n",
       "  background-color: var(--xr-background-color-row-even);\n",
       "  margin-bottom: 0;\n",
       "}\n",
       "\n",
       ".xr-var-item > .xr-var-name:hover span {\n",
       "  padding-right: 5px;\n",
       "}\n",
       "\n",
       ".xr-var-list > li:nth-child(odd) > div,\n",
       ".xr-var-list > li:nth-child(odd) > label,\n",
       ".xr-var-list > li:nth-child(odd) > .xr-var-name span {\n",
       "  background-color: var(--xr-background-color-row-odd);\n",
       "}\n",
       "\n",
       ".xr-var-name {\n",
       "  grid-column: 1;\n",
       "}\n",
       "\n",
       ".xr-var-dims {\n",
       "  grid-column: 2;\n",
       "}\n",
       "\n",
       ".xr-var-dtype {\n",
       "  grid-column: 3;\n",
       "  text-align: right;\n",
       "  color: var(--xr-font-color2);\n",
       "}\n",
       "\n",
       ".xr-var-preview {\n",
       "  grid-column: 4;\n",
       "}\n",
       "\n",
       ".xr-index-preview {\n",
       "  grid-column: 2 / 5;\n",
       "  color: var(--xr-font-color2);\n",
       "}\n",
       "\n",
       ".xr-var-name,\n",
       ".xr-var-dims,\n",
       ".xr-var-dtype,\n",
       ".xr-preview,\n",
       ".xr-attrs dt {\n",
       "  white-space: nowrap;\n",
       "  overflow: hidden;\n",
       "  text-overflow: ellipsis;\n",
       "  padding-right: 10px;\n",
       "}\n",
       "\n",
       ".xr-var-name:hover,\n",
       ".xr-var-dims:hover,\n",
       ".xr-var-dtype:hover,\n",
       ".xr-attrs dt:hover {\n",
       "  overflow: visible;\n",
       "  width: auto;\n",
       "  z-index: 1;\n",
       "}\n",
       "\n",
       ".xr-var-attrs,\n",
       ".xr-var-data,\n",
       ".xr-index-data {\n",
       "  display: none;\n",
       "  background-color: var(--xr-background-color) !important;\n",
       "  padding-bottom: 5px !important;\n",
       "}\n",
       "\n",
       ".xr-var-attrs-in:checked ~ .xr-var-attrs,\n",
       ".xr-var-data-in:checked ~ .xr-var-data,\n",
       ".xr-index-data-in:checked ~ .xr-index-data {\n",
       "  display: block;\n",
       "}\n",
       "\n",
       ".xr-var-data > table {\n",
       "  float: right;\n",
       "}\n",
       "\n",
       ".xr-var-name span,\n",
       ".xr-var-data,\n",
       ".xr-index-name div,\n",
       ".xr-index-data,\n",
       ".xr-attrs {\n",
       "  padding-left: 25px !important;\n",
       "}\n",
       "\n",
       ".xr-attrs,\n",
       ".xr-var-attrs,\n",
       ".xr-var-data,\n",
       ".xr-index-data {\n",
       "  grid-column: 1 / -1;\n",
       "}\n",
       "\n",
       "dl.xr-attrs {\n",
       "  padding: 0;\n",
       "  margin: 0;\n",
       "  display: grid;\n",
       "  grid-template-columns: 125px auto;\n",
       "}\n",
       "\n",
       ".xr-attrs dt,\n",
       ".xr-attrs dd {\n",
       "  padding: 0;\n",
       "  margin: 0;\n",
       "  float: left;\n",
       "  padding-right: 10px;\n",
       "  width: auto;\n",
       "}\n",
       "\n",
       ".xr-attrs dt {\n",
       "  font-weight: normal;\n",
       "  grid-column: 1;\n",
       "}\n",
       "\n",
       ".xr-attrs dt:hover span {\n",
       "  display: inline-block;\n",
       "  background: var(--xr-background-color);\n",
       "  padding-right: 10px;\n",
       "}\n",
       "\n",
       ".xr-attrs dd {\n",
       "  grid-column: 2;\n",
       "  white-space: pre-wrap;\n",
       "  word-break: break-all;\n",
       "}\n",
       "\n",
       ".xr-icon-database,\n",
       ".xr-icon-file-text2,\n",
       ".xr-no-icon {\n",
       "  display: inline-block;\n",
       "  vertical-align: middle;\n",
       "  width: 1em;\n",
       "  height: 1.5em !important;\n",
       "  stroke-width: 0;\n",
       "  stroke: currentColor;\n",
       "  fill: currentColor;\n",
       "}\n",
       "</style><pre class='xr-text-repr-fallback'>&lt;xarray.Dataset&gt;\n",
       "Dimensions:      (latitude: 20, longitude: 20)\n",
       "Coordinates:\n",
       "  * latitude     (latitude) float64 -4.756e+06 -4.756e+06 ... -4.761e+06\n",
       "  * longitude    (longitude) float64 1.275e+06 1.276e+06 ... 1.28e+06 1.28e+06\n",
       "    spatial_ref  int64 0\n",
       "Data variables:\n",
       "    vegetation   (latitude, longitude) float64 100.0 120.0 120.0 ... 110.0 110.0</pre><div class='xr-wrap' style='display:none'><div class='xr-header'><div class='xr-obj-type'>xarray.Dataset</div></div><ul class='xr-sections'><li class='xr-section-item'><input id='section-d4d9bec1-2fd4-4e4f-8212-7a0f69e3d16d' class='xr-section-summary-in' type='checkbox' disabled ><label for='section-d4d9bec1-2fd4-4e4f-8212-7a0f69e3d16d' class='xr-section-summary'  title='Expand/collapse section'>Dimensions:</label><div class='xr-section-inline-details'><ul class='xr-dim-list'><li><span class='xr-has-index'>latitude</span>: 20</li><li><span class='xr-has-index'>longitude</span>: 20</li></ul></div><div class='xr-section-details'></div></li><li class='xr-section-item'><input id='section-39a67afb-2f49-47c4-9673-e7b3d8f8437e' class='xr-section-summary-in' type='checkbox'  checked><label for='section-39a67afb-2f49-47c4-9673-e7b3d8f8437e' class='xr-section-summary' >Coordinates: <span>(3)</span></label><div class='xr-section-inline-details'></div><div class='xr-section-details'><ul class='xr-var-list'><li class='xr-var-item'><div class='xr-var-name'><span class='xr-has-index'>latitude</span></div><div class='xr-var-dims'>(latitude)</div><div class='xr-var-dtype'>float64</div><div class='xr-var-preview xr-preview'>-4.756e+06 ... -4.761e+06</div><input id='attrs-68c7d209-0a87-40c7-8a3d-c0737694c5b0' class='xr-var-attrs-in' type='checkbox' disabled><label for='attrs-68c7d209-0a87-40c7-8a3d-c0737694c5b0' title='Show/Hide attributes'><svg class='icon xr-icon-file-text2'><use xlink:href='#icon-file-text2'></use></svg></label><input id='data-a55b4395-09a3-45be-bd72-d9bfc8b3a34d' class='xr-var-data-in' type='checkbox'><label for='data-a55b4395-09a3-45be-bd72-d9bfc8b3a34d' title='Show/Hide data repr'><svg class='icon xr-icon-database'><use xlink:href='#icon-database'></use></svg></label><div class='xr-var-attrs'><dl class='xr-attrs'></dl></div><div class='xr-var-data'><pre>array([-4755784.406249, -4756034.406249, -4756284.406249, -4756534.406249,\n",
       "       -4756784.406249, -4757034.406249, -4757284.406249, -4757534.406249,\n",
       "       -4757784.406249, -4758034.406249, -4758284.406249, -4758534.406249,\n",
       "       -4758784.406249, -4759034.406249, -4759284.406249, -4759534.406249,\n",
       "       -4759784.406249, -4760034.406249, -4760284.406249, -4760534.406249])</pre></div></li><li class='xr-var-item'><div class='xr-var-name'><span class='xr-has-index'>longitude</span></div><div class='xr-var-dims'>(longitude)</div><div class='xr-var-dtype'>float64</div><div class='xr-var-preview xr-preview'>1.275e+06 1.276e+06 ... 1.28e+06</div><input id='attrs-fa4868bc-9cbc-4f44-9347-a367da9da74b' class='xr-var-attrs-in' type='checkbox' disabled><label for='attrs-fa4868bc-9cbc-4f44-9347-a367da9da74b' title='Show/Hide attributes'><svg class='icon xr-icon-file-text2'><use xlink:href='#icon-file-text2'></use></svg></label><input id='data-7897b5d1-b20b-4887-8340-d671e45da904' class='xr-var-data-in' type='checkbox'><label for='data-7897b5d1-b20b-4887-8340-d671e45da904' title='Show/Hide data repr'><svg class='icon xr-icon-database'><use xlink:href='#icon-database'></use></svg></label><div class='xr-var-attrs'><dl class='xr-attrs'></dl></div><div class='xr-var-data'><pre>array([1275429.239875, 1275679.239875, 1275929.239875, 1276179.239875,\n",
       "       1276429.239875, 1276679.239875, 1276929.239875, 1277179.239875,\n",
       "       1277429.239875, 1277679.239875, 1277929.239875, 1278179.239875,\n",
       "       1278429.239875, 1278679.239875, 1278929.239875, 1279179.239875,\n",
       "       1279429.239875, 1279679.239875, 1279929.239875, 1280179.239875])</pre></div></li><li class='xr-var-item'><div class='xr-var-name'><span>spatial_ref</span></div><div class='xr-var-dims'>()</div><div class='xr-var-dtype'>int64</div><div class='xr-var-preview xr-preview'>0</div><input id='attrs-9cd3133b-8476-4799-8dc1-9d6ed6364272' class='xr-var-attrs-in' type='checkbox' disabled><label for='attrs-9cd3133b-8476-4799-8dc1-9d6ed6364272' title='Show/Hide attributes'><svg class='icon xr-icon-file-text2'><use xlink:href='#icon-file-text2'></use></svg></label><input id='data-918e82b9-255c-407f-bdf7-087e5d8d7b2e' class='xr-var-data-in' type='checkbox'><label for='data-918e82b9-255c-407f-bdf7-087e5d8d7b2e' title='Show/Hide data repr'><svg class='icon xr-icon-database'><use xlink:href='#icon-database'></use></svg></label><div class='xr-var-attrs'><dl class='xr-attrs'></dl></div><div class='xr-var-data'><pre>array(0, dtype=int64)</pre></div></li></ul></div></li><li class='xr-section-item'><input id='section-53fe5881-cc54-4c42-a1af-6cca5fde0b14' class='xr-section-summary-in' type='checkbox'  checked><label for='section-53fe5881-cc54-4c42-a1af-6cca5fde0b14' class='xr-section-summary' >Data variables: <span>(1)</span></label><div class='xr-section-inline-details'></div><div class='xr-section-details'><ul class='xr-var-list'><li class='xr-var-item'><div class='xr-var-name'><span>vegetation</span></div><div class='xr-var-dims'>(latitude, longitude)</div><div class='xr-var-dtype'>float64</div><div class='xr-var-preview xr-preview'>100.0 120.0 120.0 ... 110.0 110.0</div><input id='attrs-cc954f50-d45a-474a-bd2d-160c6f6f9285' class='xr-var-attrs-in' type='checkbox' disabled><label for='attrs-cc954f50-d45a-474a-bd2d-160c6f6f9285' title='Show/Hide attributes'><svg class='icon xr-icon-file-text2'><use xlink:href='#icon-file-text2'></use></svg></label><input id='data-8727e471-69f5-417b-9544-16c773dfe43b' class='xr-var-data-in' type='checkbox'><label for='data-8727e471-69f5-417b-9544-16c773dfe43b' title='Show/Hide data repr'><svg class='icon xr-icon-database'><use xlink:href='#icon-database'></use></svg></label><div class='xr-var-attrs'><dl class='xr-attrs'></dl></div><div class='xr-var-data'><pre>array([[100., 120., 120., 120., 120., 100., 100., 100., 120., 110., 110.,\n",
       "        110., 120., 100., 100., 110., 100.,  90., 120., 120.],\n",
       "       [110., 100., 120., 120., 120., 120., 100., 100., 110., 110., 110.,\n",
       "        120., 120., 100., 120., 110., 110., 120., 120., 100.],\n",
       "       [120., 120., 120., 120., 120., 120., 100., 110., 110., 110., 110.,\n",
       "        110., 120., 100., 100., 120., 120., 110., 120., 120.],\n",
       "       [120., 120., 120., 120., 120., 120., 120., 110., 110., 120., 110.,\n",
       "        120., 100., 100., 100., 120., 100., 120., 120., 120.],\n",
       "       [110., 110., 110., 110., 110., 120., 100., 120., 100., 120., 120.,\n",
       "        120., 120., 120., 120., 120., 120., 120., 120., 120.],\n",
       "       [110., 110., 110., 110., 110., 120., 120., 100., 100., 120., 120.,\n",
       "        120., 100., 100., 120., 120., 120., 120., 120., 120.],\n",
       "       [110., 110., 110., 120., 120., 120., 120., 100., 100., 120., 120.,\n",
       "        120., 100., 100., 120., 120., 120., 120., 120., 120.],\n",
       "       [110., 120., 110., 120., 120., 120., 120., 100., 100., 120., 120.,\n",
       "        120., 100., 100., 100., 100., 120., 120., 120., 100.],\n",
       "       [120., 120., 120., 120., 120., 120., 100., 100., 100., 120., 120.,\n",
       "        120.,  90.,  90., 100., 100., 120., 120., 120., 120.],\n",
       "       [120., 120., 120., 120., 100., 100., 100., 100., 100., 120., 120.,\n",
       "        100., 120., 120., 100., 100., 120., 120., 120., 110.],\n",
       "       [120., 120., 120., 120., 100., 100., 100., 100., 100., 120., 120.,\n",
       "        120., 120., 120., 120., 100., 120., 120., 120., 120.],\n",
       "       [120., 120., 120., 120., 120., 120., 120., 100., 100., 120., 120.,\n",
       "        120., 100., 100., 120., 110., 110., 110., 120., 120.],\n",
       "       [120., 120., 120., 120., 120., 120., 120., 120., 120., 120., 100.,\n",
       "        120., 120., 120., 120., 120., 110., 120., 110., 110.],\n",
       "       [120., 120., 120., 120., 120., 120., 120., 120., 120., 120., 120.,\n",
       "        120., 120., 120., 120., 120., 110., 110., 110., 110.],\n",
       "       [120., 100., 100., 120., 120., 110., 110., 120., 120., 100., 100.,\n",
       "        100., 110., 110., 120., 120., 110., 110., 110., 110.],\n",
       "       [120., 120., 120., 120., 120., 110., 110., 120., 110., 120., 100.,\n",
       "        120., 110., 110., 120., 120., 110., 110., 110., 110.],\n",
       "       [120., 120., 120., 120., 120., 110., 110., 110., 110., 120., 120.,\n",
       "        110., 110., 120., 120., 120., 110., 110., 110., 110.],\n",
       "       [120., 120., 120., 120., 120., 120., 120., 120., 120., 120., 120.,\n",
       "        110., 110., 110., 120., 110., 110., 110., 110., 110.],\n",
       "       [110., 120., 120., 110., 110., 120., 120., 120., 120., 120., 120.,\n",
       "        110., 110., 100., 110., 120., 110., 110., 110., 120.],\n",
       "       [110., 110., 110., 110., 110., 110., 120., 120., 110., 110., 110.,\n",
       "        110., 110., 110., 110., 120., 110., 110., 110., 110.]])</pre></div></li></ul></div></li><li class='xr-section-item'><input id='section-80678dea-1a1d-41be-8a60-a27da819641e' class='xr-section-summary-in' type='checkbox'  ><label for='section-80678dea-1a1d-41be-8a60-a27da819641e' class='xr-section-summary' >Indexes: <span>(2)</span></label><div class='xr-section-inline-details'></div><div class='xr-section-details'><ul class='xr-var-list'><li class='xr-var-item'><div class='xr-index-name'><div>latitude</div></div><div class='xr-index-preview'>PandasIndex</div><div></div><input id='index-35c356eb-c44a-4a22-afb7-e747d2a632c9' class='xr-index-data-in' type='checkbox'/><label for='index-35c356eb-c44a-4a22-afb7-e747d2a632c9' title='Show/Hide index repr'><svg class='icon xr-icon-database'><use xlink:href='#icon-database'></use></svg></label><div class='xr-index-data'><pre>PandasIndex(Index([-4755784.4062485015, -4756034.4062485015, -4756284.4062485015,\n",
       "       -4756534.4062485015, -4756784.4062485015, -4757034.4062485015,\n",
       "       -4757284.4062485015, -4757534.4062485015, -4757784.4062485015,\n",
       "       -4758034.4062485015, -4758284.4062485015, -4758534.4062485015,\n",
       "       -4758784.4062485015, -4759034.4062485015, -4759284.4062485015,\n",
       "       -4759534.4062485015, -4759784.4062485015, -4760034.4062485015,\n",
       "       -4760284.4062485015, -4760534.4062485015],\n",
       "      dtype=&#x27;float64&#x27;, name=&#x27;latitude&#x27;))</pre></div></li><li class='xr-var-item'><div class='xr-index-name'><div>longitude</div></div><div class='xr-index-preview'>PandasIndex</div><div></div><input id='index-22e9933a-ec6f-4fb6-9fd1-be2291a2f8fb' class='xr-index-data-in' type='checkbox'/><label for='index-22e9933a-ec6f-4fb6-9fd1-be2291a2f8fb' title='Show/Hide index repr'><svg class='icon xr-icon-database'><use xlink:href='#icon-database'></use></svg></label><div class='xr-index-data'><pre>PandasIndex(Index([1275429.2398745045, 1275679.2398745045, 1275929.2398745045,\n",
       "       1276179.2398745045, 1276429.2398745045, 1276679.2398745045,\n",
       "       1276929.2398745045, 1277179.2398745045, 1277429.2398745045,\n",
       "       1277679.2398745045, 1277929.2398745045, 1278179.2398745045,\n",
       "       1278429.2398745045, 1278679.2398745045, 1278929.2398745045,\n",
       "       1279179.2398745045, 1279429.2398745045, 1279679.2398745045,\n",
       "       1279929.2398745045, 1280179.2398745045],\n",
       "      dtype=&#x27;float64&#x27;, name=&#x27;longitude&#x27;))</pre></div></li></ul></div></li><li class='xr-section-item'><input id='section-f6cfb248-6a45-4c67-a977-5739934a8c44' class='xr-section-summary-in' type='checkbox' disabled ><label for='section-f6cfb248-6a45-4c67-a977-5739934a8c44' class='xr-section-summary'  title='Expand/collapse section'>Attributes: <span>(0)</span></label><div class='xr-section-inline-details'></div><div class='xr-section-details'><dl class='xr-attrs'></dl></div></li></ul></div></div>"
      ],
      "text/plain": [
       "<xarray.Dataset>\n",
       "Dimensions:      (latitude: 20, longitude: 20)\n",
       "Coordinates:\n",
       "  * latitude     (latitude) float64 -4.756e+06 -4.756e+06 ... -4.761e+06\n",
       "  * longitude    (longitude) float64 1.275e+06 1.276e+06 ... 1.28e+06 1.28e+06\n",
       "    spatial_ref  int64 0\n",
       "Data variables:\n",
       "    vegetation   (latitude, longitude) float64 100.0 120.0 120.0 ... 110.0 110.0"
      ]
     },
     "execution_count": 8,
     "metadata": {},
     "output_type": "execute_result"
    }
   ],
   "source": [
    "vegetation_xr"
   ]
  },
  {
   "cell_type": "markdown",
   "metadata": {},
   "source": [
    "## 2.2 Visualize data"
   ]
  },
  {
   "cell_type": "markdown",
   "metadata": {},
   "source": [
    "Let's look at the coordinates values:"
   ]
  },
  {
   "cell_type": "code",
   "execution_count": 5,
   "metadata": {},
   "outputs": [
    {
     "name": "stdout",
     "output_type": "stream",
     "text": [
      "[-4755784.4062485 -4756034.4062485]\n"
     ]
    }
   ],
   "source": [
    "print(vegetation_xr.latitude.values[:2])"
   ]
  },
  {
   "cell_type": "markdown",
   "metadata": {},
   "source": [
    "The coordinate reference system (crs) here is named an equal-area crs which means that the areas are preserved when projecting the earth to a plane. The unit of the coordinates is **meters**. See more info [there](https://en.wikipedia.org/wiki/Spatial_reference_system)."
   ]
  },
  {
   "cell_type": "code",
   "execution_count": 9,
   "metadata": {},
   "outputs": [
    {
     "data": {
      "text/html": [
       "<div><svg style=\"position: absolute; width: 0; height: 0; overflow: hidden\">\n",
       "<defs>\n",
       "<symbol id=\"icon-database\" viewBox=\"0 0 32 32\">\n",
       "<path d=\"M16 0c-8.837 0-16 2.239-16 5v4c0 2.761 7.163 5 16 5s16-2.239 16-5v-4c0-2.761-7.163-5-16-5z\"></path>\n",
       "<path d=\"M16 17c-8.837 0-16-2.239-16-5v6c0 2.761 7.163 5 16 5s16-2.239 16-5v-6c0 2.761-7.163 5-16 5z\"></path>\n",
       "<path d=\"M16 26c-8.837 0-16-2.239-16-5v6c0 2.761 7.163 5 16 5s16-2.239 16-5v-6c0 2.761-7.163 5-16 5z\"></path>\n",
       "</symbol>\n",
       "<symbol id=\"icon-file-text2\" viewBox=\"0 0 32 32\">\n",
       "<path d=\"M28.681 7.159c-0.694-0.947-1.662-2.053-2.724-3.116s-2.169-2.030-3.116-2.724c-1.612-1.182-2.393-1.319-2.841-1.319h-15.5c-1.378 0-2.5 1.121-2.5 2.5v27c0 1.378 1.122 2.5 2.5 2.5h23c1.378 0 2.5-1.122 2.5-2.5v-19.5c0-0.448-0.137-1.23-1.319-2.841zM24.543 5.457c0.959 0.959 1.712 1.825 2.268 2.543h-4.811v-4.811c0.718 0.556 1.584 1.309 2.543 2.268zM28 29.5c0 0.271-0.229 0.5-0.5 0.5h-23c-0.271 0-0.5-0.229-0.5-0.5v-27c0-0.271 0.229-0.5 0.5-0.5 0 0 15.499-0 15.5 0v7c0 0.552 0.448 1 1 1h7v19.5z\"></path>\n",
       "<path d=\"M23 26h-14c-0.552 0-1-0.448-1-1s0.448-1 1-1h14c0.552 0 1 0.448 1 1s-0.448 1-1 1z\"></path>\n",
       "<path d=\"M23 22h-14c-0.552 0-1-0.448-1-1s0.448-1 1-1h14c0.552 0 1 0.448 1 1s-0.448 1-1 1z\"></path>\n",
       "<path d=\"M23 18h-14c-0.552 0-1-0.448-1-1s0.448-1 1-1h14c0.552 0 1 0.448 1 1s-0.448 1-1 1z\"></path>\n",
       "</symbol>\n",
       "</defs>\n",
       "</svg>\n",
       "<style>/* CSS stylesheet for displaying xarray objects in jupyterlab.\n",
       " *\n",
       " */\n",
       "\n",
       ":root {\n",
       "  --xr-font-color0: var(--jp-content-font-color0, rgba(0, 0, 0, 1));\n",
       "  --xr-font-color2: var(--jp-content-font-color2, rgba(0, 0, 0, 0.54));\n",
       "  --xr-font-color3: var(--jp-content-font-color3, rgba(0, 0, 0, 0.38));\n",
       "  --xr-border-color: var(--jp-border-color2, #e0e0e0);\n",
       "  --xr-disabled-color: var(--jp-layout-color3, #bdbdbd);\n",
       "  --xr-background-color: var(--jp-layout-color0, white);\n",
       "  --xr-background-color-row-even: var(--jp-layout-color1, white);\n",
       "  --xr-background-color-row-odd: var(--jp-layout-color2, #eeeeee);\n",
       "}\n",
       "\n",
       "html[theme=dark],\n",
       "body[data-theme=dark],\n",
       "body.vscode-dark {\n",
       "  --xr-font-color0: rgba(255, 255, 255, 1);\n",
       "  --xr-font-color2: rgba(255, 255, 255, 0.54);\n",
       "  --xr-font-color3: rgba(255, 255, 255, 0.38);\n",
       "  --xr-border-color: #1F1F1F;\n",
       "  --xr-disabled-color: #515151;\n",
       "  --xr-background-color: #111111;\n",
       "  --xr-background-color-row-even: #111111;\n",
       "  --xr-background-color-row-odd: #313131;\n",
       "}\n",
       "\n",
       ".xr-wrap {\n",
       "  display: block !important;\n",
       "  min-width: 300px;\n",
       "  max-width: 700px;\n",
       "}\n",
       "\n",
       ".xr-text-repr-fallback {\n",
       "  /* fallback to plain text repr when CSS is not injected (untrusted notebook) */\n",
       "  display: none;\n",
       "}\n",
       "\n",
       ".xr-header {\n",
       "  padding-top: 6px;\n",
       "  padding-bottom: 6px;\n",
       "  margin-bottom: 4px;\n",
       "  border-bottom: solid 1px var(--xr-border-color);\n",
       "}\n",
       "\n",
       ".xr-header > div,\n",
       ".xr-header > ul {\n",
       "  display: inline;\n",
       "  margin-top: 0;\n",
       "  margin-bottom: 0;\n",
       "}\n",
       "\n",
       ".xr-obj-type,\n",
       ".xr-array-name {\n",
       "  margin-left: 2px;\n",
       "  margin-right: 10px;\n",
       "}\n",
       "\n",
       ".xr-obj-type {\n",
       "  color: var(--xr-font-color2);\n",
       "}\n",
       "\n",
       ".xr-sections {\n",
       "  padding-left: 0 !important;\n",
       "  display: grid;\n",
       "  grid-template-columns: 150px auto auto 1fr 20px 20px;\n",
       "}\n",
       "\n",
       ".xr-section-item {\n",
       "  display: contents;\n",
       "}\n",
       "\n",
       ".xr-section-item input {\n",
       "  display: none;\n",
       "}\n",
       "\n",
       ".xr-section-item input + label {\n",
       "  color: var(--xr-disabled-color);\n",
       "}\n",
       "\n",
       ".xr-section-item input:enabled + label {\n",
       "  cursor: pointer;\n",
       "  color: var(--xr-font-color2);\n",
       "}\n",
       "\n",
       ".xr-section-item input:enabled + label:hover {\n",
       "  color: var(--xr-font-color0);\n",
       "}\n",
       "\n",
       ".xr-section-summary {\n",
       "  grid-column: 1;\n",
       "  color: var(--xr-font-color2);\n",
       "  font-weight: 500;\n",
       "}\n",
       "\n",
       ".xr-section-summary > span {\n",
       "  display: inline-block;\n",
       "  padding-left: 0.5em;\n",
       "}\n",
       "\n",
       ".xr-section-summary-in:disabled + label {\n",
       "  color: var(--xr-font-color2);\n",
       "}\n",
       "\n",
       ".xr-section-summary-in + label:before {\n",
       "  display: inline-block;\n",
       "  content: '►';\n",
       "  font-size: 11px;\n",
       "  width: 15px;\n",
       "  text-align: center;\n",
       "}\n",
       "\n",
       ".xr-section-summary-in:disabled + label:before {\n",
       "  color: var(--xr-disabled-color);\n",
       "}\n",
       "\n",
       ".xr-section-summary-in:checked + label:before {\n",
       "  content: '▼';\n",
       "}\n",
       "\n",
       ".xr-section-summary-in:checked + label > span {\n",
       "  display: none;\n",
       "}\n",
       "\n",
       ".xr-section-summary,\n",
       ".xr-section-inline-details {\n",
       "  padding-top: 4px;\n",
       "  padding-bottom: 4px;\n",
       "}\n",
       "\n",
       ".xr-section-inline-details {\n",
       "  grid-column: 2 / -1;\n",
       "}\n",
       "\n",
       ".xr-section-details {\n",
       "  display: none;\n",
       "  grid-column: 1 / -1;\n",
       "  margin-bottom: 5px;\n",
       "}\n",
       "\n",
       ".xr-section-summary-in:checked ~ .xr-section-details {\n",
       "  display: contents;\n",
       "}\n",
       "\n",
       ".xr-array-wrap {\n",
       "  grid-column: 1 / -1;\n",
       "  display: grid;\n",
       "  grid-template-columns: 20px auto;\n",
       "}\n",
       "\n",
       ".xr-array-wrap > label {\n",
       "  grid-column: 1;\n",
       "  vertical-align: top;\n",
       "}\n",
       "\n",
       ".xr-preview {\n",
       "  color: var(--xr-font-color3);\n",
       "}\n",
       "\n",
       ".xr-array-preview,\n",
       ".xr-array-data {\n",
       "  padding: 0 5px !important;\n",
       "  grid-column: 2;\n",
       "}\n",
       "\n",
       ".xr-array-data,\n",
       ".xr-array-in:checked ~ .xr-array-preview {\n",
       "  display: none;\n",
       "}\n",
       "\n",
       ".xr-array-in:checked ~ .xr-array-data,\n",
       ".xr-array-preview {\n",
       "  display: inline-block;\n",
       "}\n",
       "\n",
       ".xr-dim-list {\n",
       "  display: inline-block !important;\n",
       "  list-style: none;\n",
       "  padding: 0 !important;\n",
       "  margin: 0;\n",
       "}\n",
       "\n",
       ".xr-dim-list li {\n",
       "  display: inline-block;\n",
       "  padding: 0;\n",
       "  margin: 0;\n",
       "}\n",
       "\n",
       ".xr-dim-list:before {\n",
       "  content: '(';\n",
       "}\n",
       "\n",
       ".xr-dim-list:after {\n",
       "  content: ')';\n",
       "}\n",
       "\n",
       ".xr-dim-list li:not(:last-child):after {\n",
       "  content: ',';\n",
       "  padding-right: 5px;\n",
       "}\n",
       "\n",
       ".xr-has-index {\n",
       "  font-weight: bold;\n",
       "}\n",
       "\n",
       ".xr-var-list,\n",
       ".xr-var-item {\n",
       "  display: contents;\n",
       "}\n",
       "\n",
       ".xr-var-item > div,\n",
       ".xr-var-item label,\n",
       ".xr-var-item > .xr-var-name span {\n",
       "  background-color: var(--xr-background-color-row-even);\n",
       "  margin-bottom: 0;\n",
       "}\n",
       "\n",
       ".xr-var-item > .xr-var-name:hover span {\n",
       "  padding-right: 5px;\n",
       "}\n",
       "\n",
       ".xr-var-list > li:nth-child(odd) > div,\n",
       ".xr-var-list > li:nth-child(odd) > label,\n",
       ".xr-var-list > li:nth-child(odd) > .xr-var-name span {\n",
       "  background-color: var(--xr-background-color-row-odd);\n",
       "}\n",
       "\n",
       ".xr-var-name {\n",
       "  grid-column: 1;\n",
       "}\n",
       "\n",
       ".xr-var-dims {\n",
       "  grid-column: 2;\n",
       "}\n",
       "\n",
       ".xr-var-dtype {\n",
       "  grid-column: 3;\n",
       "  text-align: right;\n",
       "  color: var(--xr-font-color2);\n",
       "}\n",
       "\n",
       ".xr-var-preview {\n",
       "  grid-column: 4;\n",
       "}\n",
       "\n",
       ".xr-index-preview {\n",
       "  grid-column: 2 / 5;\n",
       "  color: var(--xr-font-color2);\n",
       "}\n",
       "\n",
       ".xr-var-name,\n",
       ".xr-var-dims,\n",
       ".xr-var-dtype,\n",
       ".xr-preview,\n",
       ".xr-attrs dt {\n",
       "  white-space: nowrap;\n",
       "  overflow: hidden;\n",
       "  text-overflow: ellipsis;\n",
       "  padding-right: 10px;\n",
       "}\n",
       "\n",
       ".xr-var-name:hover,\n",
       ".xr-var-dims:hover,\n",
       ".xr-var-dtype:hover,\n",
       ".xr-attrs dt:hover {\n",
       "  overflow: visible;\n",
       "  width: auto;\n",
       "  z-index: 1;\n",
       "}\n",
       "\n",
       ".xr-var-attrs,\n",
       ".xr-var-data,\n",
       ".xr-index-data {\n",
       "  display: none;\n",
       "  background-color: var(--xr-background-color) !important;\n",
       "  padding-bottom: 5px !important;\n",
       "}\n",
       "\n",
       ".xr-var-attrs-in:checked ~ .xr-var-attrs,\n",
       ".xr-var-data-in:checked ~ .xr-var-data,\n",
       ".xr-index-data-in:checked ~ .xr-index-data {\n",
       "  display: block;\n",
       "}\n",
       "\n",
       ".xr-var-data > table {\n",
       "  float: right;\n",
       "}\n",
       "\n",
       ".xr-var-name span,\n",
       ".xr-var-data,\n",
       ".xr-index-name div,\n",
       ".xr-index-data,\n",
       ".xr-attrs {\n",
       "  padding-left: 25px !important;\n",
       "}\n",
       "\n",
       ".xr-attrs,\n",
       ".xr-var-attrs,\n",
       ".xr-var-data,\n",
       ".xr-index-data {\n",
       "  grid-column: 1 / -1;\n",
       "}\n",
       "\n",
       "dl.xr-attrs {\n",
       "  padding: 0;\n",
       "  margin: 0;\n",
       "  display: grid;\n",
       "  grid-template-columns: 125px auto;\n",
       "}\n",
       "\n",
       ".xr-attrs dt,\n",
       ".xr-attrs dd {\n",
       "  padding: 0;\n",
       "  margin: 0;\n",
       "  float: left;\n",
       "  padding-right: 10px;\n",
       "  width: auto;\n",
       "}\n",
       "\n",
       ".xr-attrs dt {\n",
       "  font-weight: normal;\n",
       "  grid-column: 1;\n",
       "}\n",
       "\n",
       ".xr-attrs dt:hover span {\n",
       "  display: inline-block;\n",
       "  background: var(--xr-background-color);\n",
       "  padding-right: 10px;\n",
       "}\n",
       "\n",
       ".xr-attrs dd {\n",
       "  grid-column: 2;\n",
       "  white-space: pre-wrap;\n",
       "  word-break: break-all;\n",
       "}\n",
       "\n",
       ".xr-icon-database,\n",
       ".xr-icon-file-text2,\n",
       ".xr-no-icon {\n",
       "  display: inline-block;\n",
       "  vertical-align: middle;\n",
       "  width: 1em;\n",
       "  height: 1.5em !important;\n",
       "  stroke-width: 0;\n",
       "  stroke: currentColor;\n",
       "  fill: currentColor;\n",
       "}\n",
       "</style><pre class='xr-text-repr-fallback'>&lt;xarray.Dataset&gt;\n",
       "Dimensions:        (longitude: 48, latitude: 48, time: 26433)\n",
       "Coordinates:\n",
       "    spatial_ref    int64 0\n",
       "  * longitude      (longitude) float64 1.275e+06 1.276e+06 ... 1.28e+06 1.28e+06\n",
       "  * latitude       (latitude) float64 -4.756e+06 -4.756e+06 ... -4.76e+06\n",
       "  * time           (time) datetime64[ns] 1950-01-01 1950-01-02 ... 2022-05-15\n",
       "Data variables:\n",
       "    precipitation  (latitude, longitude, time) float32 0.0 0.0 0.0 ... 0.0 0.0</pre><div class='xr-wrap' style='display:none'><div class='xr-header'><div class='xr-obj-type'>xarray.Dataset</div></div><ul class='xr-sections'><li class='xr-section-item'><input id='section-642bd919-5479-485c-9708-d2863213e37c' class='xr-section-summary-in' type='checkbox' disabled ><label for='section-642bd919-5479-485c-9708-d2863213e37c' class='xr-section-summary'  title='Expand/collapse section'>Dimensions:</label><div class='xr-section-inline-details'><ul class='xr-dim-list'><li><span class='xr-has-index'>longitude</span>: 48</li><li><span class='xr-has-index'>latitude</span>: 48</li><li><span class='xr-has-index'>time</span>: 26433</li></ul></div><div class='xr-section-details'></div></li><li class='xr-section-item'><input id='section-aa8afbc1-a398-4b27-ae46-0a7a40d5ed85' class='xr-section-summary-in' type='checkbox'  checked><label for='section-aa8afbc1-a398-4b27-ae46-0a7a40d5ed85' class='xr-section-summary' >Coordinates: <span>(4)</span></label><div class='xr-section-inline-details'></div><div class='xr-section-details'><ul class='xr-var-list'><li class='xr-var-item'><div class='xr-var-name'><span>spatial_ref</span></div><div class='xr-var-dims'>()</div><div class='xr-var-dtype'>int64</div><div class='xr-var-preview xr-preview'>0</div><input id='attrs-900f9bc8-baa4-4ef9-a5ca-eb4e8c086031' class='xr-var-attrs-in' type='checkbox' disabled><label for='attrs-900f9bc8-baa4-4ef9-a5ca-eb4e8c086031' title='Show/Hide attributes'><svg class='icon xr-icon-file-text2'><use xlink:href='#icon-file-text2'></use></svg></label><input id='data-c9f828a4-088d-428b-a970-55c94ef01a96' class='xr-var-data-in' type='checkbox'><label for='data-c9f828a4-088d-428b-a970-55c94ef01a96' title='Show/Hide data repr'><svg class='icon xr-icon-database'><use xlink:href='#icon-database'></use></svg></label><div class='xr-var-attrs'><dl class='xr-attrs'></dl></div><div class='xr-var-data'><pre>array(0, dtype=int64)</pre></div></li><li class='xr-var-item'><div class='xr-var-name'><span class='xr-has-index'>longitude</span></div><div class='xr-var-dims'>(longitude)</div><div class='xr-var-dtype'>float64</div><div class='xr-var-preview xr-preview'>1.275e+06 1.276e+06 ... 1.28e+06</div><input id='attrs-fe08d889-9776-4ac5-b4be-034567f6a967' class='xr-var-attrs-in' type='checkbox' disabled><label for='attrs-fe08d889-9776-4ac5-b4be-034567f6a967' title='Show/Hide attributes'><svg class='icon xr-icon-file-text2'><use xlink:href='#icon-file-text2'></use></svg></label><input id='data-d3ed530f-abcf-481d-b8e5-8408f32610e9' class='xr-var-data-in' type='checkbox'><label for='data-d3ed530f-abcf-481d-b8e5-8408f32610e9' title='Show/Hide data repr'><svg class='icon xr-icon-database'><use xlink:href='#icon-database'></use></svg></label><div class='xr-var-attrs'><dl class='xr-attrs'></dl></div><div class='xr-var-data'><pre>array([1275453.788973, 1275553.488371, 1275653.18777 , 1275752.887169,\n",
       "       1275852.586568, 1275952.285967, 1276051.985365, 1276151.684764,\n",
       "       1276251.384163, 1276351.083562, 1276450.782961, 1276550.482359,\n",
       "       1276650.181758, 1276749.881157, 1276849.580556, 1276949.279955,\n",
       "       1277048.979353, 1277148.678752, 1277248.378151, 1277348.07755 ,\n",
       "       1277447.776949, 1277547.476347, 1277647.175746, 1277746.875145,\n",
       "       1277846.574544, 1277946.273943, 1278045.973341, 1278145.67274 ,\n",
       "       1278245.372139, 1278345.071538, 1278444.770937, 1278544.470335,\n",
       "       1278644.169734, 1278743.869133, 1278843.568532, 1278943.267931,\n",
       "       1279042.967329, 1279142.666728, 1279242.366127, 1279342.065526,\n",
       "       1279441.764925, 1279541.464323, 1279641.163722, 1279740.863121,\n",
       "       1279840.56252 , 1279940.261919, 1280039.961317, 1280139.660716])</pre></div></li><li class='xr-var-item'><div class='xr-var-name'><span class='xr-has-index'>latitude</span></div><div class='xr-var-dims'>(latitude)</div><div class='xr-var-dtype'>float64</div><div class='xr-var-preview xr-preview'>-4.756e+06 -4.756e+06 ... -4.76e+06</div><input id='attrs-988591c8-5c94-4d25-a53e-65ccbf9eefd5' class='xr-var-attrs-in' type='checkbox' disabled><label for='attrs-988591c8-5c94-4d25-a53e-65ccbf9eefd5' title='Show/Hide attributes'><svg class='icon xr-icon-file-text2'><use xlink:href='#icon-file-text2'></use></svg></label><input id='data-7997e0e9-471d-4c0c-a111-64a7709fa35d' class='xr-var-data-in' type='checkbox'><label for='data-7997e0e9-471d-4c0c-a111-64a7709fa35d' title='Show/Hide data repr'><svg class='icon xr-icon-database'><use xlink:href='#icon-database'></use></svg></label><div class='xr-var-attrs'><dl class='xr-attrs'></dl></div><div class='xr-var-data'><pre>array([-4755808.955347, -4755908.654745, -4756008.354144, -4756108.053543,\n",
       "       -4756207.752942, -4756307.452341, -4756407.151739, -4756506.851138,\n",
       "       -4756606.550537, -4756706.249936, -4756805.949335, -4756905.648733,\n",
       "       -4757005.348132, -4757105.047531, -4757204.74693 , -4757304.446329,\n",
       "       -4757404.145727, -4757503.845126, -4757603.544525, -4757703.243924,\n",
       "       -4757802.943323, -4757902.642721, -4758002.34212 , -4758102.041519,\n",
       "       -4758201.740918, -4758301.440317, -4758401.139715, -4758500.839114,\n",
       "       -4758600.538513, -4758700.237912, -4758799.937311, -4758899.636709,\n",
       "       -4758999.336108, -4759099.035507, -4759198.734906, -4759298.434305,\n",
       "       -4759398.133703, -4759497.833102, -4759597.532501, -4759697.2319  ,\n",
       "       -4759796.931299, -4759896.630697, -4759996.330096, -4760096.029495,\n",
       "       -4760195.728894, -4760295.428293, -4760395.127691, -4760494.82709 ])</pre></div></li><li class='xr-var-item'><div class='xr-var-name'><span class='xr-has-index'>time</span></div><div class='xr-var-dims'>(time)</div><div class='xr-var-dtype'>datetime64[ns]</div><div class='xr-var-preview xr-preview'>1950-01-01 ... 2022-05-15</div><input id='attrs-7569d5e2-1939-4ed0-82a1-1804e67748d0' class='xr-var-attrs-in' type='checkbox' disabled><label for='attrs-7569d5e2-1939-4ed0-82a1-1804e67748d0' title='Show/Hide attributes'><svg class='icon xr-icon-file-text2'><use xlink:href='#icon-file-text2'></use></svg></label><input id='data-d91baa4f-4291-44c7-882b-175a219794c8' class='xr-var-data-in' type='checkbox'><label for='data-d91baa4f-4291-44c7-882b-175a219794c8' title='Show/Hide data repr'><svg class='icon xr-icon-database'><use xlink:href='#icon-database'></use></svg></label><div class='xr-var-attrs'><dl class='xr-attrs'></dl></div><div class='xr-var-data'><pre>array([&#x27;1950-01-01T00:00:00.000000000&#x27;, &#x27;1950-01-02T00:00:00.000000000&#x27;,\n",
       "       &#x27;1950-01-03T00:00:00.000000000&#x27;, ..., &#x27;2022-05-13T00:00:00.000000000&#x27;,\n",
       "       &#x27;2022-05-14T00:00:00.000000000&#x27;, &#x27;2022-05-15T00:00:00.000000000&#x27;],\n",
       "      dtype=&#x27;datetime64[ns]&#x27;)</pre></div></li></ul></div></li><li class='xr-section-item'><input id='section-1315997b-b1e5-4795-a275-f76a07d1da26' class='xr-section-summary-in' type='checkbox'  checked><label for='section-1315997b-b1e5-4795-a275-f76a07d1da26' class='xr-section-summary' >Data variables: <span>(1)</span></label><div class='xr-section-inline-details'></div><div class='xr-section-details'><ul class='xr-var-list'><li class='xr-var-item'><div class='xr-var-name'><span>precipitation</span></div><div class='xr-var-dims'>(latitude, longitude, time)</div><div class='xr-var-dtype'>float32</div><div class='xr-var-preview xr-preview'>0.0 0.0 0.0 0.0 ... 24.8 0.0 0.0</div><input id='attrs-df72dfba-fcf9-4e30-9a60-5aa6b5d06cd0' class='xr-var-attrs-in' type='checkbox' ><label for='attrs-df72dfba-fcf9-4e30-9a60-5aa6b5d06cd0' title='Show/Hide attributes'><svg class='icon xr-icon-file-text2'><use xlink:href='#icon-file-text2'></use></svg></label><input id='data-a5ced409-1a16-4fb8-969e-1116a7904ebc' class='xr-var-data-in' type='checkbox'><label for='data-a5ced409-1a16-4fb8-969e-1116a7904ebc' title='Show/Hide data repr'><svg class='icon xr-icon-database'><use xlink:href='#icon-database'></use></svg></label><div class='xr-var-attrs'><dl class='xr-attrs'><dt><span>units :</span></dt><dd>mm</dd></dl></div><div class='xr-var-data'><pre>array([[[ 0. ,  0. ,  0. , ...,  0. ,  0. ,  0. ],\n",
       "        [ 0. ,  0. ,  0. , ...,  0. ,  0. ,  0. ],\n",
       "        [ 0. ,  0. ,  0. , ...,  0. ,  0. ,  0. ],\n",
       "        ...,\n",
       "        [ 0. ,  0. ,  0. , ...,  0. ,  0. ,  0. ],\n",
       "        [ 0. ,  0. ,  0. , ...,  0. ,  0. ,  0. ],\n",
       "        [ 0. ,  0. ,  0. , ...,  0. ,  0. ,  0. ]],\n",
       "\n",
       "       [[ 0. ,  0. ,  0. , ...,  0. ,  0. ,  0. ],\n",
       "        [ 0. ,  0. ,  0. , ...,  0. ,  0. ,  0. ],\n",
       "        [ 0. ,  0. ,  0. , ...,  0. ,  0. ,  0. ],\n",
       "        ...,\n",
       "        [ 0. ,  0. ,  0. , ...,  0. ,  0. ,  0. ],\n",
       "        [ 0. ,  0. ,  0. , ...,  0. ,  0. ,  0. ],\n",
       "        [ 0. ,  0. ,  0. , ...,  0. ,  0. ,  0. ]],\n",
       "\n",
       "       [[ 0. ,  0. ,  5.9, ..., 24.8,  0. ,  0. ],\n",
       "        [ 0. ,  0. ,  5.9, ..., 24.8,  0. ,  0. ],\n",
       "        [ 0. ,  0. ,  5.9, ..., 24.8,  0. ,  0. ],\n",
       "        ...,\n",
       "...\n",
       "        ...,\n",
       "        [ 0. ,  0. ,  5.9, ..., 24.8,  0. ,  0. ],\n",
       "        [ 0. ,  0. ,  5.9, ..., 24.8,  0. ,  0. ],\n",
       "        [ 0. ,  0. ,  0. , ...,  0. ,  0. ,  0. ]],\n",
       "\n",
       "       [[ 0. ,  0. ,  5.9, ..., 24.8,  0. ,  0. ],\n",
       "        [ 0. ,  0. ,  5.9, ..., 24.8,  0. ,  0. ],\n",
       "        [ 0. ,  0. ,  5.9, ..., 24.8,  0. ,  0. ],\n",
       "        ...,\n",
       "        [ 0. ,  0. ,  5.9, ..., 24.8,  0. ,  0. ],\n",
       "        [ 0. ,  0. ,  5.9, ..., 24.8,  0. ,  0. ],\n",
       "        [ 0. ,  0. ,  0. , ...,  0. ,  0. ,  0. ]],\n",
       "\n",
       "       [[ 0. ,  0. ,  5.9, ..., 24.8,  0. ,  0. ],\n",
       "        [ 0. ,  0. ,  5.9, ..., 24.8,  0. ,  0. ],\n",
       "        [ 0. ,  0. ,  5.9, ..., 24.8,  0. ,  0. ],\n",
       "        ...,\n",
       "        [ 0. ,  0. ,  5.9, ..., 24.8,  0. ,  0. ],\n",
       "        [ 0. ,  0. ,  5.9, ..., 24.8,  0. ,  0. ],\n",
       "        [ 0. ,  0. ,  5.9, ..., 24.8,  0. ,  0. ]]], dtype=float32)</pre></div></li></ul></div></li><li class='xr-section-item'><input id='section-f37f360a-79d1-4c3a-bdff-92df6e7ed933' class='xr-section-summary-in' type='checkbox'  ><label for='section-f37f360a-79d1-4c3a-bdff-92df6e7ed933' class='xr-section-summary' >Indexes: <span>(3)</span></label><div class='xr-section-inline-details'></div><div class='xr-section-details'><ul class='xr-var-list'><li class='xr-var-item'><div class='xr-index-name'><div>longitude</div></div><div class='xr-index-preview'>PandasIndex</div><div></div><input id='index-9d971c79-ced0-4580-b4d6-302a997f8114' class='xr-index-data-in' type='checkbox'/><label for='index-9d971c79-ced0-4580-b4d6-302a997f8114' title='Show/Hide index repr'><svg class='icon xr-icon-database'><use xlink:href='#icon-database'></use></svg></label><div class='xr-index-data'><pre>PandasIndex(Index([ 1275453.788972701, 1275553.4883714984, 1275653.1877702961,\n",
       "       1275752.8871690936, 1275852.5865678913, 1275952.2859666888,\n",
       "       1276051.9853654865, 1276151.6847642842, 1276251.3841630816,\n",
       "       1276351.0835618793, 1276450.7829606768, 1276550.4823594745,\n",
       "        1276650.181758272, 1276749.8811570697, 1276849.5805558672,\n",
       "       1276949.2799546649, 1277048.9793534623,   1277148.67875226,\n",
       "       1277248.3781510575, 1277348.0775498552, 1277447.7769486527,\n",
       "       1277547.4763474504,  1277647.175746248, 1277746.8751450456,\n",
       "       1277846.5745438433, 1277946.2739426407, 1278045.9733414385,\n",
       "        1278145.672740236, 1278245.3721390336,  1278345.071537831,\n",
       "       1278444.7709366288, 1278544.4703354263,  1278644.169734224,\n",
       "       1278743.8691330214, 1278843.5685318192, 1278943.2679306166,\n",
       "       1279042.9673294143,  1279142.666728212, 1279242.3661270095,\n",
       "       1279342.0655258072, 1279441.7649246047, 1279541.4643234024,\n",
       "       1279641.1637221999, 1279740.8631209976,  1279840.562519795,\n",
       "       1279940.2619185927, 1280039.9613173902,  1280139.660716188],\n",
       "      dtype=&#x27;float64&#x27;, name=&#x27;longitude&#x27;))</pre></div></li><li class='xr-var-item'><div class='xr-index-name'><div>latitude</div></div><div class='xr-index-preview'>PandasIndex</div><div></div><input id='index-7f4af981-d60f-4857-be67-c68bff281761' class='xr-index-data-in' type='checkbox'/><label for='index-7f4af981-d60f-4857-be67-c68bff281761' title='Show/Hide index repr'><svg class='icon xr-icon-database'><use xlink:href='#icon-database'></use></svg></label><div class='xr-index-data'><pre>PandasIndex(Index([ -4755808.955346698,  -4755908.654745496,  -4756008.354144293,\n",
       "        -4756108.053543091,  -4756207.752941888,  -4756307.452340686,\n",
       "        -4756407.151739484,  -4756506.851138281,  -4756606.550537079,\n",
       "        -4756706.249935877,  -4756805.949334674, -4756905.6487334715,\n",
       "        -4757005.348132269,  -4757105.047531066,  -4757204.746929864,\n",
       "        -4757304.446328661,  -4757404.145727459,  -4757503.845126257,\n",
       "        -4757603.544525054,  -4757703.243923852,   -4757802.94332265,\n",
       "        -4757902.642721447,  -4758002.342120245,  -4758102.041519043,\n",
       "         -4758201.74091784,  -4758301.440316638,  -4758401.139715435,\n",
       "        -4758500.839114233,  -4758600.538513031,  -4758700.237911828,\n",
       "        -4758799.937310626,  -4758899.636709424,  -4758999.336108221,\n",
       "        -4759099.035507019,  -4759198.734905816,  -4759298.434304614,\n",
       "        -4759398.133703412,  -4759497.833102209, -4759597.5325010065,\n",
       "        -4759697.231899804,  -4759796.931298601,  -4759896.630697399,\n",
       "        -4759996.330096197,  -4760096.029494994,  -4760195.728893792,\n",
       "        -4760295.428292589,  -4760395.127691387,  -4760494.827090185],\n",
       "      dtype=&#x27;float64&#x27;, name=&#x27;latitude&#x27;))</pre></div></li><li class='xr-var-item'><div class='xr-index-name'><div>time</div></div><div class='xr-index-preview'>PandasIndex</div><div></div><input id='index-1db48a23-95b2-4705-ae6e-48941efdf160' class='xr-index-data-in' type='checkbox'/><label for='index-1db48a23-95b2-4705-ae6e-48941efdf160' title='Show/Hide index repr'><svg class='icon xr-icon-database'><use xlink:href='#icon-database'></use></svg></label><div class='xr-index-data'><pre>PandasIndex(DatetimeIndex([&#x27;1950-01-01&#x27;, &#x27;1950-01-02&#x27;, &#x27;1950-01-03&#x27;, &#x27;1950-01-04&#x27;,\n",
       "               &#x27;1950-01-05&#x27;, &#x27;1950-01-06&#x27;, &#x27;1950-01-07&#x27;, &#x27;1950-01-08&#x27;,\n",
       "               &#x27;1950-01-09&#x27;, &#x27;1950-01-10&#x27;,\n",
       "               ...\n",
       "               &#x27;2022-05-06&#x27;, &#x27;2022-05-07&#x27;, &#x27;2022-05-08&#x27;, &#x27;2022-05-09&#x27;,\n",
       "               &#x27;2022-05-10&#x27;, &#x27;2022-05-11&#x27;, &#x27;2022-05-12&#x27;, &#x27;2022-05-13&#x27;,\n",
       "               &#x27;2022-05-14&#x27;, &#x27;2022-05-15&#x27;],\n",
       "              dtype=&#x27;datetime64[ns]&#x27;, name=&#x27;time&#x27;, length=26433, freq=None))</pre></div></li></ul></div></li><li class='xr-section-item'><input id='section-beb46efb-5ab8-4822-9251-911bd42ce34d' class='xr-section-summary-in' type='checkbox' disabled ><label for='section-beb46efb-5ab8-4822-9251-911bd42ce34d' class='xr-section-summary'  title='Expand/collapse section'>Attributes: <span>(0)</span></label><div class='xr-section-inline-details'></div><div class='xr-section-details'><dl class='xr-attrs'></dl></div></li></ul></div></div>"
      ],
      "text/plain": [
       "<xarray.Dataset>\n",
       "Dimensions:        (longitude: 48, latitude: 48, time: 26433)\n",
       "Coordinates:\n",
       "    spatial_ref    int64 0\n",
       "  * longitude      (longitude) float64 1.275e+06 1.276e+06 ... 1.28e+06 1.28e+06\n",
       "  * latitude       (latitude) float64 -4.756e+06 -4.756e+06 ... -4.76e+06\n",
       "  * time           (time) datetime64[ns] 1950-01-01 1950-01-02 ... 2022-05-15\n",
       "Data variables:\n",
       "    precipitation  (latitude, longitude, time) float32 0.0 0.0 0.0 ... 0.0 0.0"
      ]
     },
     "execution_count": 9,
     "metadata": {},
     "output_type": "execute_result"
    }
   ],
   "source": [
    "precipitation_xr"
   ]
  },
  {
   "cell_type": "markdown",
   "metadata": {},
   "source": [
    "One can notice that the precipitation raster has time variable. We then have access of cumulative daily precipitation data since the 1st of January 1950"
   ]
  },
  {
   "cell_type": "code",
   "execution_count": 14,
   "metadata": {},
   "outputs": [
    {
     "data": {
      "image/png": "[encoded data removed]",
      "text/plain": [
       "<Figure size 1400x600 with 4 Axes>"
      ]
     },
     "metadata": {},
     "output_type": "display_data"
    }
   ],
   "source": [
    "fig, ax = plt.subplots(1, 2, figsize=(14, 6))\n",
    "vegetation_xr.vegetation.plot(ax=ax[0])\n",
    "ax[0].set_title(\"Vegetation class\")\n",
    "precipitation_xr.precipitation[dict(time=3)].plot(ax=ax[1])\n",
    "ax[1].set_title(\"Daily precipitation (mm)\")\n",
    "ax[1].set_xlabel(\"longitude\")\n",
    "ax[1].set_ylabel(\"latitude\")\n",
    "plt.tight_layout()\n",
    "plt.show()"
   ]
  },
  {
   "cell_type": "markdown",
   "metadata": {},
   "source": [
    "The vegetation raster is a gridded array of categorical values with information on the type of the dominant vegetation of each pixel.\n",
    "\n",
    "    - Class 90 : Water and urban areas\n",
    "    - Class 100: Herbaceous class\n",
    "    - Class 110: Forest class\n",
    "    - Class 120: Shrubland class\n",
    "    \n",
    "For example, the pixel at location (longitude 1277929.24, latitude -4758284.41) displays a value of 120, meaning that the vegetation at this location is shrubland."
   ]
  },
  {
   "cell_type": "markdown",
   "metadata": {},
   "source": [
    "#### What is each raster's resolution (in meters)?\n",
    "\n",
    "The resolution is defined as the distance between the centres of 2 neighbour pixels."
   ]
  },
  {
   "cell_type": "markdown",
   "metadata": {},
   "source": [
    "### Assumptions\n",
    "* Let's assume that coordinates are provided in meters and represents the center of each pixel. \n",
    "* for exemple (longitude 1277929.24, latitude -4758284.41) are in meters and represents the center of the associated pixel. \n",
    "* Assuming that pixels are squares and the resolution is constant in the raster whatever the used pixels for computation.\n",
    "* So, the resolution is simply the distance between two centers."
   ]
  },
  {
   "cell_type": "code",
   "execution_count": 35,
   "metadata": {},
   "outputs": [],
   "source": [
    "### coordinates labels extraction for each raster \n",
    "vegetation_lat = vegetation_xr.latitude.values               # latitude array values for vegetation raster\n",
    "vegetation_long = vegetation_xr.longitude.values\n",
    "precipitation_lat = precipitation_xr.latitude.values\n",
    "precipitation_long = precipitation_xr.latitude.values\n",
    "\n",
    "### let's take the first two coordinates for each raster since resolution is constant for all centers\n",
    "x1, x2 = vegetation_lat[0],vegetation_lat[1]              # for vegetation raster\n",
    "y1, y2 = vegetation_long[0],vegetation_long[1]\n",
    "\n",
    "z1, z2 =  precipitation_lat[0],precipitation_lat[1]      # for precipitation raster\n",
    "w1,w2 = precipitation_long[0],precipitation_long[1]"
   ]
  },
  {
   "cell_type": "code",
   "execution_count": 36,
   "metadata": {},
   "outputs": [],
   "source": [
    "### Distance calculation using euclidean distance \n",
    "vegetation_resolution = int(round(np.sqrt((x2 - x1)**2 + (y2 - y1)**2)))\n",
    "precipitation_resolution = int(round(np.sqrt((z2 - z1)**2 + (w2 - w1)**2)))"
   ]
  },
  {
   "cell_type": "code",
   "execution_count": 27,
   "metadata": {},
   "outputs": [
    {
     "data": {
      "text/plain": [
       "354"
      ]
     },
     "execution_count": 27,
     "metadata": {},
     "output_type": "execute_result"
    }
   ],
   "source": [
    "vegetation_resolution                 # the resolution for vegetation raster "
   ]
  },
  {
   "cell_type": "code",
   "execution_count": 37,
   "metadata": {},
   "outputs": [
    {
     "data": {
      "text/plain": [
       "141"
      ]
     },
     "execution_count": 37,
     "metadata": {},
     "output_type": "execute_result"
    }
   ],
   "source": [
    "precipitation_resolution           # the resolution for precipitation raster "
   ]
  },
  {
   "cell_type": "code",
   "execution_count": 38,
   "metadata": {},
   "outputs": [],
   "source": [
    "# let's change our code with two other points (not the first ones) and see if we are going to have the same resolution \n",
    "\n",
    "x1, x2 = vegetation_lat[4],vegetation_lat[5]               # here, we took the 4th and 5th labels\n",
    "y1, y2 = vegetation_long[4],vegetation_long[5]             # here, we took the 4th and 5th labels\n",
    "\n",
    "z1, z2 =  precipitation_lat[4],precipitation_lat[5]\n",
    "w1,w2 = precipitation_long[4],precipitation_long[5]\n",
    "\n",
    "vegetation_resolution_2 = int(round(np.sqrt((x2 - x1)**2 + (y2 - y1)**2)))\n",
    "precipitation_resolution_2 = int(round(np.sqrt((z2 - z1)**2 + (w2 - w1)**2)))"
   ]
  },
  {
   "cell_type": "code",
   "execution_count": 39,
   "metadata": {},
   "outputs": [
    {
     "data": {
      "text/plain": [
       "354"
      ]
     },
     "execution_count": 39,
     "metadata": {},
     "output_type": "execute_result"
    }
   ],
   "source": [
    "vegetation_resolution_2 "
   ]
  },
  {
   "cell_type": "code",
   "execution_count": 40,
   "metadata": {},
   "outputs": [
    {
     "data": {
      "text/plain": [
       "141"
      ]
     },
     "execution_count": 40,
     "metadata": {},
     "output_type": "execute_result"
    }
   ],
   "source": [
    "precipitation_resolution_2"
   ]
  },
  {
   "cell_type": "markdown",
   "metadata": {},
   "source": [
    "Conclusion : we have always the same values, which valides our hypothesis in calculating the resolution. "
   ]
  },
  {
   "cell_type": "code",
   "execution_count": 41,
   "metadata": {},
   "outputs": [],
   "source": [
    "assert isinstance(vegetation_resolution, int)\n",
    "assert isinstance(precipitation_resolution, int)"
   ]
  },
  {
   "cell_type": "markdown",
   "metadata": {},
   "source": [
    "# 3. Manipulate rasters"
   ]
  },
  {
   "cell_type": "markdown",
   "metadata": {},
   "source": [
    "### 3.1 Change rasters' resolution"
   ]
  },
  {
   "cell_type": "markdown",
   "metadata": {},
   "source": [
    "our task is to get the precipitation for all grid cells in the forest class (value of 110). Unfortunately, the 2 rasters do not have the same resolution. our task will be to reindex the 2 rasters at the **same** resolution."
   ]
  },
  {
   "cell_type": "markdown",
   "metadata": {},
   "source": [
    "The resolution of each raster should be the finest one out of the 2 intial datasets.\n",
    "\n",
    "To downscale (move from coarse to finer resolution), I will use the function `xarray.interp()`: https://docs.xarray.dev/en/stable/generated/xarray.DataArray.interp.html"
   ]
  },
  {
   "cell_type": "markdown",
   "metadata": {},
   "source": [
    "* In our case, vegetation_resolution > precipitation_resolution according to the last question. \n",
    "* we will downscale the vegetation raster to the resolution of the precipitation raster. \n",
    "* To do so, we will interpolate the values of vegetation (90, 100, 110, 120) to the finer resolution of precipitatin.\n",
    "* However, interpolation can render values of vegetation outside the ensemble of (90, 100, 110, 120)\n",
    "* To avoid this, we will interpolate using the nearest method. "
   ]
  },
  {
   "cell_type": "code",
   "execution_count": 46,
   "metadata": {},
   "outputs": [],
   "source": [
    "vegetation_downscaled_xr = vegetation_xr.interp(latitude = precipitation_xr.latitude,#align the vegetation dataset on the same latitude of precipitation\n",
    "                                                longitude = precipitation_xr.longitude, method = 'nearest') \n",
    "\n",
    "precipitation_downscaled_xr =  precipitation_xr   ## we will keep it as it has the finner resolution"
   ]
  },
  {
   "cell_type": "code",
   "execution_count": 47,
   "metadata": {},
   "outputs": [
    {
     "data": {
      "text/plain": [
       "141"
      ]
     },
     "execution_count": 47,
     "metadata": {},
     "output_type": "execute_result"
    }
   ],
   "source": [
    "### verify if the new vegetation raster has the same resoltion of precipitation\n",
    "int(round(np.sqrt((vegetation_downscaled_xr.latitude.values[1]- vegetation_downscaled_xr.latitude.values[0])**2 \n",
    "                  + (vegetation_downscaled_xr.longitude.values[1]- vegetation_downscaled_xr.longitude.values[0])**2)))"
   ]
  },
  {
   "cell_type": "markdown",
   "metadata": {},
   "source": [
    "The new vegetation raster has the same resolution of precipitation raster"
   ]
  },
  {
   "cell_type": "code",
   "execution_count": 70,
   "metadata": {},
   "outputs": [
    {
     "data": {
      "text/plain": [
       "{90.0, 100.0, 110.0, 120.0}"
      ]
     },
     "execution_count": 70,
     "metadata": {},
     "output_type": "execute_result"
    }
   ],
   "source": [
    "### now I want to check visually if the values taken by the downscaled vegetation raster are within (90, 100, 110, 120) only\n",
    "### I'll flatten my ndarray to apply set function\n",
    "### a set keep only unique values \n",
    "set(vegetation_downscaled_xr.vegetation.data.flatten())"
   ]
  },
  {
   "cell_type": "markdown",
   "metadata": {},
   "source": [
    "So here, I have just values in (90, 100, 110, 120) in my new vegetation raster"
   ]
  },
  {
   "cell_type": "code",
   "execution_count": 72,
   "metadata": {},
   "outputs": [],
   "source": [
    "### Convert the type of vegetation_downscaled_xr.vegetation to int values \n",
    "vegetation_downscaled_xr.vegetation.data = vegetation_downscaled_xr.vegetation.data.astype(int)"
   ]
  },
  {
   "cell_type": "code",
   "execution_count": 73,
   "metadata": {},
   "outputs": [
    {
     "data": {
      "text/plain": [
       "{90, 100, 110, 120}"
      ]
     },
     "execution_count": 73,
     "metadata": {},
     "output_type": "execute_result"
    }
   ],
   "source": [
    "set(vegetation_downscaled_xr.vegetation.data.flatten())"
   ]
  },
  {
   "cell_type": "code",
   "execution_count": 74,
   "metadata": {},
   "outputs": [],
   "source": [
    "assert isinstance(vegetation_downscaled_xr, xr.Dataset)\n",
    "assert isinstance(precipitation_downscaled_xr, xr.Dataset)"
   ]
  },
  {
   "cell_type": "markdown",
   "metadata": {},
   "source": [
    "## 3.2 Compute mean precipitation"
   ]
  },
  {
   "cell_type": "markdown",
   "metadata": {},
   "source": [
    "The client has forests that span over all the area showed by the raster, which means that all grid cells in forest class belong to the client."
   ]
  },
  {
   "cell_type": "markdown",
   "metadata": {},
   "source": [
    "the task is to compute the mean daily precipitation for grid cells only in **forest class**. I will  use the function [`xarray.where()`](https://docs.xarray.dev/en/stable/generated/xarray.where.html).\n",
    "\n",
    "The output will be a dataframe `df_rain_historical` with the dates as index with name `Date` and the column daily precipitation renamed `daily_rain`. I will use the function [`xarray.to_dataframe()`](https://docs.xarray.dev/en/stable/generated/xarray.DataArray.to_dataframe.html)"
   ]
  },
  {
   "cell_type": "code",
   "execution_count": 188,
   "metadata": {},
   "outputs": [
    {
     "data": {
      "text/html": [
       "<div>\n",
       "<style scoped>\n",
       "    .dataframe tbody tr th:only-of-type {\n",
       "        vertical-align: middle;\n",
       "    }\n",
       "\n",
       "    .dataframe tbody tr th {\n",
       "        vertical-align: top;\n",
       "    }\n",
       "\n",
       "    .dataframe thead th {\n",
       "        text-align: right;\n",
       "    }\n",
       "</style>\n",
       "<table border=\"1\" class=\"dataframe\">\n",
       "  <thead>\n",
       "    <tr style=\"text-align: right;\">\n",
       "      <th></th>\n",
       "      <th>daily_rain</th>\n",
       "    </tr>\n",
       "    <tr>\n",
       "      <th>Date</th>\n",
       "      <th></th>\n",
       "    </tr>\n",
       "  </thead>\n",
       "  <tbody>\n",
       "    <tr>\n",
       "      <th>1950-01-01</th>\n",
       "      <td>0.000000</td>\n",
       "    </tr>\n",
       "    <tr>\n",
       "      <th>1950-01-02</th>\n",
       "      <td>0.000000</td>\n",
       "    </tr>\n",
       "    <tr>\n",
       "      <th>1950-01-03</th>\n",
       "      <td>5.899997</td>\n",
       "    </tr>\n",
       "    <tr>\n",
       "      <th>1950-01-04</th>\n",
       "      <td>2.300001</td>\n",
       "    </tr>\n",
       "    <tr>\n",
       "      <th>1950-01-05</th>\n",
       "      <td>0.000000</td>\n",
       "    </tr>\n",
       "    <tr>\n",
       "      <th>...</th>\n",
       "      <td>...</td>\n",
       "    </tr>\n",
       "    <tr>\n",
       "      <th>2022-05-11</th>\n",
       "      <td>20.099991</td>\n",
       "    </tr>\n",
       "    <tr>\n",
       "      <th>2022-05-12</th>\n",
       "      <td>7.200001</td>\n",
       "    </tr>\n",
       "    <tr>\n",
       "      <th>2022-05-13</th>\n",
       "      <td>24.800001</td>\n",
       "    </tr>\n",
       "    <tr>\n",
       "      <th>2022-05-14</th>\n",
       "      <td>0.000000</td>\n",
       "    </tr>\n",
       "    <tr>\n",
       "      <th>2022-05-15</th>\n",
       "      <td>0.000000</td>\n",
       "    </tr>\n",
       "  </tbody>\n",
       "</table>\n",
       "<p>26433 rows × 1 columns</p>\n",
       "</div>"
      ],
      "text/plain": [
       "            daily_rain\n",
       "Date                  \n",
       "1950-01-01    0.000000\n",
       "1950-01-02    0.000000\n",
       "1950-01-03    5.899997\n",
       "1950-01-04    2.300001\n",
       "1950-01-05    0.000000\n",
       "...                ...\n",
       "2022-05-11   20.099991\n",
       "2022-05-12    7.200001\n",
       "2022-05-13   24.800001\n",
       "2022-05-14    0.000000\n",
       "2022-05-15    0.000000\n",
       "\n",
       "[26433 rows x 1 columns]"
      ]
     },
     "execution_count": 188,
     "metadata": {},
     "output_type": "execute_result"
    }
   ],
   "source": [
    "## we apply a filter on forest class 110 and then we apply mean reduction on latitude and longitude \n",
    "daily_rain_xr = precipitation_downscaled_xr.where(vegetation_downscaled_xr.vegetation==110).mean(dim = 'latitude').mean(dim = 'longitude')\n",
    "## compute the time series dataframe\n",
    "df_rain_historical = daily_rain_xr.to_dataframe().drop('spatial_ref', axis = 1).rename(columns = {'precipitation':'daily_rain'}).rename_axis('Date')\n",
    "df_rain_historical"
   ]
  },
  {
   "cell_type": "code",
   "execution_count": 127,
   "metadata": {},
   "outputs": [],
   "source": [
    "assert df_rain_historical.index.name == \"Date\""
   ]
  },
  {
   "cell_type": "markdown",
   "metadata": {},
   "source": [
    "## 3.3 Next steps"
   ]
  },
  {
   "cell_type": "markdown",
   "metadata": {},
   "source": [
    "The previous task helped you to compute the daily precipitation for one day at the client's locations. We actually have access to 70 years of historical data and that's the object of the next steps. The data from the previous part has been extracted at the client location into a dataframe that you will use from now on"
   ]
  },
  {
   "cell_type": "markdown",
   "metadata": {},
   "source": [
    "# 4. Pricing"
   ]
  },
  {
   "cell_type": "markdown",
   "metadata": {},
   "source": [
    "## 4.1 Context\n",
    "\n",
    "The client is looking to be covered against excess of rain.\n",
    "\n",
    "The client wishes to receive a payout under the following conditions:\n",
    "+ Depends on the cumulative rainfall (mm) over the season.\n",
    "+ Linear payout starting at a deductible of 650 mm and limit of 750 mm with a payout of AUD 500,000.\n",
    "\n",
    "It means that \n",
    "+ If the cumulative rainfall is below 650 mm, the client receives nothing.\n",
    "+ If the cumulative rainfall is above 750 mm, the client receives the max payout of AUD 500,000 no matter the loss.\n",
    "+ If the cumulative rainfall is between 650 and 750 mm, the payout is linear, slope of AUD 5,000 per mm. For example, if the cumulative rainfall is 700 mm, the payout would be AUD 250,000.\n"
   ]
  },
  {
   "cell_type": "markdown",
   "metadata": {},
   "source": [
    "## 4.2 Data"
   ]
  },
  {
   "cell_type": "markdown",
   "metadata": {},
   "source": [
    "We have access to the cumulative rainfall (in millimeters-mm) each day since 1950 January 1st using the task before."
   ]
  },
  {
   "cell_type": "markdown",
   "metadata": {},
   "source": [
    "## 4.3 Preprocessing"
   ]
  },
  {
   "cell_type": "markdown",
   "metadata": {},
   "source": [
    "### 4.3.1 Filtering"
   ]
  },
  {
   "cell_type": "markdown",
   "metadata": {},
   "source": [
    "**Risk period**\n",
    "\n",
    "The client would like to be covered from the 1st of December of a given year until 1st of March of the following year (**not included**).\n",
    "\n",
    "**steps**\n",
    "- Filter the historical dates to keep only the ones in the risk periods. ⚠️ we should not have incomplete seasons. ⚠️\n",
    "- Remove the rows with the date equal to February 29th.\n",
    "- Create a `season` column, the value of the season is the year corresponding to the 1st of December. For example, for the given risk period 1st of December 2021 - 1st of March 2022, the season is 2021."
   ]
  },
  {
   "cell_type": "code",
   "execution_count": 189,
   "metadata": {},
   "outputs": [],
   "source": [
    "df = df_rain_historical      ## takes the previous dataset in the previous section"
   ]
  },
  {
   "cell_type": "code",
   "execution_count": 190,
   "metadata": {},
   "outputs": [],
   "source": [
    "df_ = df.reset_index()    ### to facilitate manipulation on pandas, I prefer to move Date from index to column\n",
    "\n",
    "df_rain_historical = df_[df_.Date.dt.month.isin([12,1,2])]    ### take only the covered season of winter \n",
    "\n",
    "index_02_29 = df_rain_historical[(df_rain_historical.Date.dt.month ==2) & \n",
    "                                         (df_rain_historical.Date.dt.day ==29)].index      # the indexes of the 29/02 in the dataset \n",
    "\n",
    "df_rain_historical = df_rain_historical.drop(index_02_29)            ## drop by indexes \n",
    "\n",
    "df_rain_historical['season'] = None             ### create a season column to fill according to conditions with loc\n",
    "\n",
    "### if the month is 1 or 2, then the season will be the previous year \n",
    "## if the month is 12, then the season will be the current year \n",
    "\n",
    "df_rain_historical.loc[(df_rain_historical.Date.dt.month == 1)|\n",
    "                          (df_rain_historical.Date.dt.month == 2), 'season' ] = df_rain_historical.Date.dt.year -1   \n",
    "\n",
    "df_rain_historical.loc[(df_rain_historical.Date.dt.month == 12), 'season' ] = df_rain_historical.Date.dt.year   "
   ]
  },
  {
   "cell_type": "code",
   "execution_count": 191,
   "metadata": {},
   "outputs": [
    {
     "data": {
      "text/html": [
       "<div>\n",
       "<style scoped>\n",
       "    .dataframe tbody tr th:only-of-type {\n",
       "        vertical-align: middle;\n",
       "    }\n",
       "\n",
       "    .dataframe tbody tr th {\n",
       "        vertical-align: top;\n",
       "    }\n",
       "\n",
       "    .dataframe thead th {\n",
       "        text-align: right;\n",
       "    }\n",
       "</style>\n",
       "<table border=\"1\" class=\"dataframe\">\n",
       "  <thead>\n",
       "    <tr style=\"text-align: right;\">\n",
       "      <th></th>\n",
       "      <th>Date</th>\n",
       "      <th>daily_rain</th>\n",
       "      <th>season</th>\n",
       "    </tr>\n",
       "  </thead>\n",
       "  <tbody>\n",
       "    <tr>\n",
       "      <th>0</th>\n",
       "      <td>1950-01-01</td>\n",
       "      <td>0.000000</td>\n",
       "      <td>1949</td>\n",
       "    </tr>\n",
       "    <tr>\n",
       "      <th>1</th>\n",
       "      <td>1950-01-02</td>\n",
       "      <td>0.000000</td>\n",
       "      <td>1949</td>\n",
       "    </tr>\n",
       "    <tr>\n",
       "      <th>2</th>\n",
       "      <td>1950-01-03</td>\n",
       "      <td>5.899997</td>\n",
       "      <td>1949</td>\n",
       "    </tr>\n",
       "    <tr>\n",
       "      <th>3</th>\n",
       "      <td>1950-01-04</td>\n",
       "      <td>2.300001</td>\n",
       "      <td>1949</td>\n",
       "    </tr>\n",
       "    <tr>\n",
       "      <th>4</th>\n",
       "      <td>1950-01-05</td>\n",
       "      <td>0.000000</td>\n",
       "      <td>1949</td>\n",
       "    </tr>\n",
       "  </tbody>\n",
       "</table>\n",
       "</div>"
      ],
      "text/plain": [
       "        Date  daily_rain season\n",
       "0 1950-01-01    0.000000   1949\n",
       "1 1950-01-02    0.000000   1949\n",
       "2 1950-01-03    5.899997   1949\n",
       "3 1950-01-04    2.300001   1949\n",
       "4 1950-01-05    0.000000   1949"
      ]
     },
     "execution_count": 191,
     "metadata": {},
     "output_type": "execute_result"
    }
   ],
   "source": [
    "df_rain_historical.head()"
   ]
  },
  {
   "cell_type": "code",
   "execution_count": 192,
   "metadata": {},
   "outputs": [],
   "source": [
    "### since we don't have the daily rain values of 12-1949, 1949 is an incomplete season, we should remove it\n",
    "df_rain_historical = df_rain_historical.drop(df_rain_historical[df_rain_historical.season ==1949].index)"
   ]
  },
  {
   "cell_type": "code",
   "execution_count": 193,
   "metadata": {},
   "outputs": [
    {
     "data": {
      "text/plain": [
       "array([3], dtype=int64)"
      ]
     },
     "execution_count": 193,
     "metadata": {},
     "output_type": "execute_result"
    }
   ],
   "source": [
    "### I want to verify here that I have only complete seasons \n",
    "### Compelete season are 3 months long seasons. \n",
    "### I will perform a group by season and count months of each season using lambda function\n",
    "### I should have only 3 months across all seasons. \n",
    "df_rain_historical.groupby('season')['Date'].apply(lambda x: x.dt.month.nunique()).unique()"
   ]
  },
  {
   "cell_type": "code",
   "execution_count": 194,
   "metadata": {},
   "outputs": [],
   "source": [
    "df_rain_historical.set_index('Date', inplace= True)    ### here, I set Date in the index"
   ]
  },
  {
   "cell_type": "code",
   "execution_count": 195,
   "metadata": {},
   "outputs": [],
   "source": [
    "assert list(df_rain_historical.columns) == [\"daily_rain\", \"season\"]"
   ]
  },
  {
   "cell_type": "markdown",
   "metadata": {},
   "source": [
    "### 4.3.2 Regroup by season"
   ]
  },
  {
   "cell_type": "markdown",
   "metadata": {},
   "source": [
    "**steps**\n",
    "\n",
    "- Create a new dataframe `df_cum_rain` by regrouping by season and by computing the cumulative rainfall over the risk period.\n",
    "- Rename the column `daily_rain` by `cum_rain`."
   ]
  },
  {
   "cell_type": "code",
   "execution_count": 199,
   "metadata": {},
   "outputs": [
    {
     "data": {
      "text/html": [
       "<div>\n",
       "<style scoped>\n",
       "    .dataframe tbody tr th:only-of-type {\n",
       "        vertical-align: middle;\n",
       "    }\n",
       "\n",
       "    .dataframe tbody tr th {\n",
       "        vertical-align: top;\n",
       "    }\n",
       "\n",
       "    .dataframe thead th {\n",
       "        text-align: right;\n",
       "    }\n",
       "</style>\n",
       "<table border=\"1\" class=\"dataframe\">\n",
       "  <thead>\n",
       "    <tr style=\"text-align: right;\">\n",
       "      <th></th>\n",
       "      <th>season</th>\n",
       "      <th>cum_rain</th>\n",
       "    </tr>\n",
       "  </thead>\n",
       "  <tbody>\n",
       "    <tr>\n",
       "      <th>0</th>\n",
       "      <td>1950</td>\n",
       "      <td>682.499878</td>\n",
       "    </tr>\n",
       "    <tr>\n",
       "      <th>1</th>\n",
       "      <td>1951</td>\n",
       "      <td>228.800003</td>\n",
       "    </tr>\n",
       "    <tr>\n",
       "      <th>2</th>\n",
       "      <td>1952</td>\n",
       "      <td>479.200043</td>\n",
       "    </tr>\n",
       "    <tr>\n",
       "      <th>3</th>\n",
       "      <td>1953</td>\n",
       "      <td>612.900024</td>\n",
       "    </tr>\n",
       "    <tr>\n",
       "      <th>4</th>\n",
       "      <td>1954</td>\n",
       "      <td>514.200073</td>\n",
       "    </tr>\n",
       "    <tr>\n",
       "      <th>...</th>\n",
       "      <td>...</td>\n",
       "      <td>...</td>\n",
       "    </tr>\n",
       "    <tr>\n",
       "      <th>67</th>\n",
       "      <td>2017</td>\n",
       "      <td>345.799988</td>\n",
       "    </tr>\n",
       "    <tr>\n",
       "      <th>68</th>\n",
       "      <td>2018</td>\n",
       "      <td>243.899918</td>\n",
       "    </tr>\n",
       "    <tr>\n",
       "      <th>69</th>\n",
       "      <td>2019</td>\n",
       "      <td>243.800018</td>\n",
       "    </tr>\n",
       "    <tr>\n",
       "      <th>70</th>\n",
       "      <td>2020</td>\n",
       "      <td>128.800003</td>\n",
       "    </tr>\n",
       "    <tr>\n",
       "      <th>71</th>\n",
       "      <td>2021</td>\n",
       "      <td>150.100006</td>\n",
       "    </tr>\n",
       "  </tbody>\n",
       "</table>\n",
       "<p>72 rows × 2 columns</p>\n",
       "</div>"
      ],
      "text/plain": [
       "    season    cum_rain\n",
       "0     1950  682.499878\n",
       "1     1951  228.800003\n",
       "2     1952  479.200043\n",
       "3     1953  612.900024\n",
       "4     1954  514.200073\n",
       "..     ...         ...\n",
       "67    2017  345.799988\n",
       "68    2018  243.899918\n",
       "69    2019  243.800018\n",
       "70    2020  128.800003\n",
       "71    2021  150.100006\n",
       "\n",
       "[72 rows x 2 columns]"
      ]
     },
     "execution_count": 199,
     "metadata": {},
     "output_type": "execute_result"
    }
   ],
   "source": [
    "df_cum_rain = df_rain_historical.groupby('season')['daily_rain'].sum().reset_index().rename(columns = {'daily_rain' :'cum_rain'})\n",
    "df_cum_rain"
   ]
  },
  {
   "cell_type": "markdown",
   "metadata": {},
   "source": [
    "## 4.4 Compute payouts"
   ]
  },
  {
   "cell_type": "markdown",
   "metadata": {},
   "source": [
    "Using the current values of `cum_rain`, we will now compute the historical payouts.\n",
    "\n",
    "**steps**\n",
    "- Design a function that computes the payouts using the structure defined above.\n",
    "- Compute historical payouts since 1950 by creating a new dataframe `df_historical_payouts` with column `hist_payouts`. \n",
    "\n",
    "The resulting mean value of historical payouts is called **burning cost** and corresponds to the mean payout the client would have received based on the historical data. This is an important metrics in the design of insurance covers."
   ]
  },
  {
   "cell_type": "code",
   "execution_count": 217,
   "metadata": {},
   "outputs": [
    {
     "data": {
      "text/html": [
       "<div>\n",
       "<style scoped>\n",
       "    .dataframe tbody tr th:only-of-type {\n",
       "        vertical-align: middle;\n",
       "    }\n",
       "\n",
       "    .dataframe tbody tr th {\n",
       "        vertical-align: top;\n",
       "    }\n",
       "\n",
       "    .dataframe thead th {\n",
       "        text-align: right;\n",
       "    }\n",
       "</style>\n",
       "<table border=\"1\" class=\"dataframe\">\n",
       "  <thead>\n",
       "    <tr style=\"text-align: right;\">\n",
       "      <th></th>\n",
       "      <th>hist_payouts</th>\n",
       "      <th>season</th>\n",
       "    </tr>\n",
       "  </thead>\n",
       "  <tbody>\n",
       "    <tr>\n",
       "      <th>0</th>\n",
       "      <td>162499.39</td>\n",
       "      <td>1950</td>\n",
       "    </tr>\n",
       "    <tr>\n",
       "      <th>1</th>\n",
       "      <td>0.00</td>\n",
       "      <td>1951</td>\n",
       "    </tr>\n",
       "    <tr>\n",
       "      <th>2</th>\n",
       "      <td>0.00</td>\n",
       "      <td>1952</td>\n",
       "    </tr>\n",
       "    <tr>\n",
       "      <th>3</th>\n",
       "      <td>0.00</td>\n",
       "      <td>1953</td>\n",
       "    </tr>\n",
       "    <tr>\n",
       "      <th>4</th>\n",
       "      <td>0.00</td>\n",
       "      <td>1954</td>\n",
       "    </tr>\n",
       "    <tr>\n",
       "      <th>...</th>\n",
       "      <td>...</td>\n",
       "      <td>...</td>\n",
       "    </tr>\n",
       "    <tr>\n",
       "      <th>67</th>\n",
       "      <td>0.00</td>\n",
       "      <td>2017</td>\n",
       "    </tr>\n",
       "    <tr>\n",
       "      <th>68</th>\n",
       "      <td>0.00</td>\n",
       "      <td>2018</td>\n",
       "    </tr>\n",
       "    <tr>\n",
       "      <th>69</th>\n",
       "      <td>0.00</td>\n",
       "      <td>2019</td>\n",
       "    </tr>\n",
       "    <tr>\n",
       "      <th>70</th>\n",
       "      <td>0.00</td>\n",
       "      <td>2020</td>\n",
       "    </tr>\n",
       "    <tr>\n",
       "      <th>71</th>\n",
       "      <td>0.00</td>\n",
       "      <td>2021</td>\n",
       "    </tr>\n",
       "  </tbody>\n",
       "</table>\n",
       "<p>72 rows × 2 columns</p>\n",
       "</div>"
      ],
      "text/plain": [
       "    hist_payouts  season\n",
       "0      162499.39    1950\n",
       "1           0.00    1951\n",
       "2           0.00    1952\n",
       "3           0.00    1953\n",
       "4           0.00    1954\n",
       "..           ...     ...\n",
       "67          0.00    2017\n",
       "68          0.00    2018\n",
       "69          0.00    2019\n",
       "70          0.00    2020\n",
       "71          0.00    2021\n",
       "\n",
       "[72 rows x 2 columns]"
      ]
     },
     "execution_count": 217,
     "metadata": {},
     "output_type": "execute_result"
    }
   ],
   "source": [
    "### Define the payout function\n",
    "\n",
    "def payout(x):   \n",
    "    if x < 650:             ### If the cumulative rainfall is below 650 mm, the client receives nothing\n",
    "        return 0\n",
    "    if x > 750:            ### If the cumulative rainfall is above 750 mm, the client receives the max payout of AUD 500,000 no matter the loss\n",
    "        return 500000\n",
    "    return round(5000*(x-650), 2)      ### true for 700 \n",
    "\n",
    "df_cum_rain['hist_payouts'] = df_cum_rain['cum_rain'].apply(payout)\n",
    "df_historical_payouts = df_cum_rain[['hist_payouts', 'season']]\n",
    "df_historical_payouts"
   ]
  },
  {
   "cell_type": "markdown",
   "metadata": {},
   "source": [
    "## 4.5 Weighting"
   ]
  },
  {
   "cell_type": "markdown",
   "metadata": {},
   "source": [
    "### 4.5.1 Year type"
   ]
  },
  {
   "cell_type": "markdown",
   "metadata": {},
   "source": [
    "We actually have access to historical yearly forecasts that states if the year was supposed to be rainy or not. There are 3 predictions:\n",
    "- neutral\n",
    "- dry\n",
    "- rainy\n",
    "\n",
    "All the information is stored in the dataframe `df_year_type`.\n",
    "\n",
    "We will use this information to compute a weighted payouts using next year forecast."
   ]
  },
  {
   "cell_type": "code",
   "execution_count": 212,
   "metadata": {},
   "outputs": [],
   "source": [
    "year_type_data_path = DATA_PATH / \"pricing\" / \"year_type_historical.csv\""
   ]
  },
  {
   "cell_type": "code",
   "execution_count": 215,
   "metadata": {},
   "outputs": [
    {
     "data": {
      "text/html": [
       "<div>\n",
       "<style scoped>\n",
       "    .dataframe tbody tr th:only-of-type {\n",
       "        vertical-align: middle;\n",
       "    }\n",
       "\n",
       "    .dataframe tbody tr th {\n",
       "        vertical-align: top;\n",
       "    }\n",
       "\n",
       "    .dataframe thead th {\n",
       "        text-align: right;\n",
       "    }\n",
       "</style>\n",
       "<table border=\"1\" class=\"dataframe\">\n",
       "  <thead>\n",
       "    <tr style=\"text-align: right;\">\n",
       "      <th></th>\n",
       "      <th>year_type</th>\n",
       "    </tr>\n",
       "    <tr>\n",
       "      <th>season</th>\n",
       "      <th></th>\n",
       "    </tr>\n",
       "  </thead>\n",
       "  <tbody>\n",
       "    <tr>\n",
       "      <th>1950</th>\n",
       "      <td>rainy</td>\n",
       "    </tr>\n",
       "    <tr>\n",
       "      <th>1951</th>\n",
       "      <td>dry</td>\n",
       "    </tr>\n",
       "    <tr>\n",
       "      <th>1952</th>\n",
       "      <td>neutral</td>\n",
       "    </tr>\n",
       "    <tr>\n",
       "      <th>1953</th>\n",
       "      <td>dry</td>\n",
       "    </tr>\n",
       "    <tr>\n",
       "      <th>1954</th>\n",
       "      <td>rainy</td>\n",
       "    </tr>\n",
       "  </tbody>\n",
       "</table>\n",
       "</div>"
      ],
      "text/plain": [
       "       year_type\n",
       "season          \n",
       "1950       rainy\n",
       "1951         dry\n",
       "1952     neutral\n",
       "1953         dry\n",
       "1954       rainy"
      ]
     },
     "execution_count": 215,
     "metadata": {},
     "output_type": "execute_result"
    }
   ],
   "source": [
    "df_year_type = (\n",
    "    pd.read_csv(year_type_data_path, index_col=0)\n",
    "    .rename(columns={\"Year\": \"season\"})\n",
    "    .set_index(\"season\")\n",
    ")\n",
    "df_year_type.head()"
   ]
  },
  {
   "cell_type": "markdown",
   "metadata": {},
   "source": [
    "**steps**\n",
    "\n",
    "Compute the burning cost of each of the year type"
   ]
  },
  {
   "cell_type": "code",
   "execution_count": 253,
   "metadata": {},
   "outputs": [
    {
     "data": {
      "text/html": [
       "<div>\n",
       "<style scoped>\n",
       "    .dataframe tbody tr th:only-of-type {\n",
       "        vertical-align: middle;\n",
       "    }\n",
       "\n",
       "    .dataframe tbody tr th {\n",
       "        vertical-align: top;\n",
       "    }\n",
       "\n",
       "    .dataframe thead th {\n",
       "        text-align: right;\n",
       "    }\n",
       "</style>\n",
       "<table border=\"1\" class=\"dataframe\">\n",
       "  <thead>\n",
       "    <tr style=\"text-align: right;\">\n",
       "      <th></th>\n",
       "      <th>year_type</th>\n",
       "      <th>burning_cost</th>\n",
       "    </tr>\n",
       "  </thead>\n",
       "  <tbody>\n",
       "    <tr>\n",
       "      <th>0</th>\n",
       "      <td>dry</td>\n",
       "      <td>0.000000</td>\n",
       "    </tr>\n",
       "    <tr>\n",
       "      <th>1</th>\n",
       "      <td>neutral</td>\n",
       "      <td>26315.789474</td>\n",
       "    </tr>\n",
       "    <tr>\n",
       "      <th>2</th>\n",
       "      <td>rainy</td>\n",
       "      <td>52277.752963</td>\n",
       "    </tr>\n",
       "  </tbody>\n",
       "</table>\n",
       "</div>"
      ],
      "text/plain": [
       "  year_type  burning_cost\n",
       "0       dry      0.000000\n",
       "1   neutral  26315.789474\n",
       "2     rainy  52277.752963"
      ]
     },
     "execution_count": 253,
     "metadata": {},
     "output_type": "execute_result"
    }
   ],
   "source": [
    "df = df_historical_payouts.merge(df_year_type, how = 'inner', on= 'season')\n",
    "dw = df.groupby('year_type')['hist_payouts'].mean().reset_index().rename(columns = {'hist_payouts':'burning_cost'})\n",
    "dw"
   ]
  },
  {
   "cell_type": "markdown",
   "metadata": {},
   "source": [
    "* In Dry years, the client receives no payout because we don't exceed 650 mm over the years (en moyennne)\n",
    "* In neutral years, the payout is less than in the rainy years. "
   ]
  },
  {
   "cell_type": "markdown",
   "metadata": {},
   "source": [
    "### 4.5.2 Next year forecast"
   ]
  },
  {
   "cell_type": "markdown",
   "metadata": {},
   "source": [
    "The forecast for next year is given in terms of probability for each of the year types:"
   ]
  },
  {
   "cell_type": "code",
   "execution_count": 223,
   "metadata": {},
   "outputs": [],
   "source": [
    "next_year_forecast = {\"dry\": 0.58, \"neutral\": 0.37, \"rainy\": 0.05}"
   ]
  },
  {
   "cell_type": "markdown",
   "metadata": {},
   "source": [
    "**Task**\n",
    "\n",
    "estimate the risk and adjust the burning cost"
   ]
  },
  {
   "cell_type": "code",
   "execution_count": 254,
   "metadata": {},
   "outputs": [
    {
     "data": {
      "text/html": [
       "<div>\n",
       "<style scoped>\n",
       "    .dataframe tbody tr th:only-of-type {\n",
       "        vertical-align: middle;\n",
       "    }\n",
       "\n",
       "    .dataframe tbody tr th {\n",
       "        vertical-align: top;\n",
       "    }\n",
       "\n",
       "    .dataframe thead th {\n",
       "        text-align: right;\n",
       "    }\n",
       "</style>\n",
       "<table border=\"1\" class=\"dataframe\">\n",
       "  <thead>\n",
       "    <tr style=\"text-align: right;\">\n",
       "      <th></th>\n",
       "      <th>year_type</th>\n",
       "      <th>burning_cost</th>\n",
       "      <th>next_year_forecast</th>\n",
       "      <th>next_year_expected_payout per year type</th>\n",
       "    </tr>\n",
       "  </thead>\n",
       "  <tbody>\n",
       "    <tr>\n",
       "      <th>0</th>\n",
       "      <td>dry</td>\n",
       "      <td>0.000000</td>\n",
       "      <td>0.58</td>\n",
       "      <td>0.000000</td>\n",
       "    </tr>\n",
       "    <tr>\n",
       "      <th>1</th>\n",
       "      <td>neutral</td>\n",
       "      <td>26315.789474</td>\n",
       "      <td>0.37</td>\n",
       "      <td>9736.842105</td>\n",
       "    </tr>\n",
       "    <tr>\n",
       "      <th>2</th>\n",
       "      <td>rainy</td>\n",
       "      <td>52277.752963</td>\n",
       "      <td>0.05</td>\n",
       "      <td>2613.887648</td>\n",
       "    </tr>\n",
       "  </tbody>\n",
       "</table>\n",
       "</div>"
      ],
      "text/plain": [
       "  year_type  burning_cost  next_year_forecast  \\\n",
       "0       dry      0.000000                0.58   \n",
       "1   neutral  26315.789474                0.37   \n",
       "2     rainy  52277.752963                0.05   \n",
       "\n",
       "   next_year_expected_payout per year type  \n",
       "0                                 0.000000  \n",
       "1                              9736.842105  \n",
       "2                              2613.887648  "
      ]
     },
     "execution_count": 254,
     "metadata": {},
     "output_type": "execute_result"
    }
   ],
   "source": [
    "# let's calculate the expected burning cost of the next year\n",
    "\n",
    "dw['next_year_forecast'] = next_year_forecast.values()\n",
    "\n",
    "dw['next_year_expected_payout per year type'] = dw['burning_cost'] * dw.next_year_forecast\n",
    "\n",
    "dw"
   ]
  },
  {
   "cell_type": "code",
   "execution_count": 256,
   "metadata": {},
   "outputs": [
    {
     "name": "stdout",
     "output_type": "stream",
     "text": [
      "The expected payout of the next year is AUD 12350.73\n"
     ]
    }
   ],
   "source": [
    "print(f'The expected payout of the next year is AUD {round(dw[\"next_year_expected_payout per year type\"].sum(), 2)}')"
   ]
  },
  {
   "cell_type": "markdown",
   "metadata": {},
   "source": [
    "---\n",
    "# END OF SCRIPT"
   ]
  }
 ],
 "metadata": {
  "interpreter": {
   "hash": "609562af67587eb35886a56b48a4672082ceee8e713b9609d77bf52ed55036ee"
  },
  "kernelspec": {
   "display_name": "Python 3",
   "language": "python",
   "name": "python3"
  },
  "language_info": {
   "codemirror_mode": {
    "name": "ipython",
    "version": 3
   },
   "file_extension": ".py",
   "mimetype": "text/x-python",
   "name": "python",
   "nbconvert_exporter": "python",
   "pygments_lexer": "ipython3",
   "version": "3.8.5"
  }
 },
 "nbformat": 4,
 "nbformat_minor": 4
}
